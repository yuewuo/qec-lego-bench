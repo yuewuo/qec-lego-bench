{
 "cells": [
  {
   "cell_type": "markdown",
   "metadata": {},
   "source": [
    "# Compare decoders logical error rates\n",
    "\n",
    "This notebook will evaluate the accuracy of a list of decoders given a list of codes and noises.\n",
    "It will use exactly the same sequence of syndrome such that better comparison could be done even with fewer data.\n",
    "\n",
    "This notebook only provides basic plotting.\n",
    "\n",
    "To execute this notebook with a custom code, noise and list of decoders, use\n",
    "```sh\n",
    "# srun --time=1-00:00:00 --mem=10G --cpus-per-task=2 \\\n",
    "python3 -m qec_lego_bench notebook-pl-p-compare-decoders ./dist/pl_p_compare_decoders_example.ipynb 'rsc(d=3;p=0.01)' --decoder 'mwpm' --decoder 'mwpf(c=0)' --decoder 'mwpf(c=50)' --target-precision 0.1 --local-maximum-jobs 8\n",
    "```"
   ]
  },
  {
   "cell_type": "code",
   "execution_count": null,
   "metadata": {
    "tags": [
     "parameters"
    ]
   },
   "outputs": [],
   "source": [
    "codes: list[str] = [\"rsc(d@3,p@0.01)\"]\n",
    "noises: list[str] = [\"none\"]\n",
    "decoders: list[str] = [\"mwpf\"]\n",
    "\n",
    "max_cpu_hours: float = None\n",
    "target_precision: float = 0.04  # about 4000 errors for the configuration with the smallest \n",
    "\n",
    "slurm_maximum_jobs: int = 50  # start with a smaller number of workers to avoid resource waste\n",
    "slurm_cores_per_node: int = 10  # (slurm_maximum_jobs // slurm_cores_per_node) should not exceed 200\n",
    "slurm_mem_per_job: int = 4  # 4GB per job\n",
    "slurm_extra: dict = dict(\n",
    "    walltime = \"1-00:00:00\",  # adaptively shutdown if no more jobs\n",
    "    queue = \"scavenge\",  # use with caution: dask does not seem to handle scavenge workers well\n",
    "    job_extra_directives = [\"--requeue\"],  # use with scavenge partition will help spawn scavenged jobs\n",
    ")\n",
    "\n",
    "import multiprocessing\n",
    "local_maximum_jobs: int = multiprocessing.cpu_count()\n",
    "\n",
    "json_filename: str = None\n",
    "cpu: str = \"unknown\"\n",
    "force_finished: bool = False  # only plot the figure and do not run experiments"
   ]
  }
 ],
 "metadata": {
  "kernelspec": {
   "display_name": "base",
   "language": "python",
   "name": "python3"
  },
  "language_info": {
   "codemirror_mode": {
    "name": "ipython",
    "version": 3
   },
   "file_extension": ".py",
   "mimetype": "text/x-python",
   "name": "python",
   "nbconvert_exporter": "python",
   "pygments_lexer": "ipython3",
   "version": "3.11.6"
  }
 },
 "nbformat": 4,
 "nbformat_minor": 2
}
