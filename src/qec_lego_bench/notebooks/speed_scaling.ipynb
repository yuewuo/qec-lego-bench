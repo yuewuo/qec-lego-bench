{
 "cells": [
  {
   "cell_type": "markdown",
   "id": "0",
   "metadata": {
    "editable": true,
    "papermill": {
     "duration": 0.002743,
     "end_time": "2025-01-30T07:30:59.479453",
     "exception": false,
     "start_time": "2025-01-30T07:30:59.476710",
     "status": "completed"
    },
    "slideshow": {
     "slide_type": ""
    },
    "tags": []
   },
   "source": [
    "# Compare decoders speed scaling\n",
    "\n",
    "This notebook will evaluate the speed of a list of decoders given a list of codes and noises.\n",
    "It will use exactly the same sequence of syndrome such that better comparison could be done even with fewer data.\n",
    "\n",
    "This notebook only provides basic plotting.\n",
    "\n",
    "To execute this notebook with a custom code, noise and list of decoders, use\n",
    "```sh\n",
    "# srun --time=1-00:00:00 --mem=10G --cpus-per-task=2 \\\n",
    "python3 -m qec_lego_bench notebook-speed-scaling ./dist/speed-scaling.ipynb 'rsc(d=3;p=0.001),rsc(d=5;p=0.001),rsc(d=7;p=0.001)' --decoder 'fb' --decoder 'mwpf(c=0)' --decoder 'mwpf(c=50)' --local-maximum-jobs 8\n",
    "```"
   ]
  },
  {
   "cell_type": "code",
   "execution_count": null,
   "id": "1",
   "metadata": {
    "editable": true,
    "papermill": {
     "duration": 0.007266,
     "end_time": "2025-01-30T07:30:59.488685",
     "exception": false,
     "start_time": "2025-01-30T07:30:59.481419",
     "status": "completed"
    },
    "slideshow": {
     "slide_type": ""
    },
    "tags": [
     "parameters"
    ]
   },
   "outputs": [],
   "source": [
    "# This cell is tagged `parameters` and will be override by `papermill`\n",
    "\n",
    "codes: list[str] = [\"rsc(d=3,p=0.001)\", \"rsc(d=5,p=0.001)\"]\n",
    "noises: list[str] = [\"none\"]\n",
    "decoders: list[str] = [\"mwpf\", \"mwpf(c=0)\", \"fb\", \"fb(max_tree_size=0)\"]\n",
    "\n",
    "min_shots: int = 1000\n",
    "max_shots: int = 1000000000\n",
    "min_time: float = 1  # the fastest decoder will run for at least this long (in seconds)\n",
    "\n",
    "\n",
    "slurm_maximum_jobs: int = 50  # start with a smaller number of workers to avoid resource waste\n",
    "slurm_cores_per_node: int = 10  # (slurm_maximum_jobs // slurm_cores_per_node) should not exceed 200\n",
    "slurm_mem_per_job: int = 4  # 4GB per job\n",
    "slurm_extra: dict = dict(\n",
    "    walltime = \"1-00:00:00\",  # adaptively shutdown if no more jobs\n",
    "    queue = \"scavenge\",  # use with caution: dask does not seem to handle scavenge workers well\n",
    "    job_extra_directives = [\"--requeue\"],  # use with scavenge partition will help spawn scavenged jobs\n",
    ")\n",
    "\n",
    "import multiprocessing\n",
    "local_maximum_jobs: int = multiprocessing.cpu_count()\n",
    "\n",
    "json_filename: str = None\n",
    "force_finished: bool = False  # only plot the figure and do not run experiments\n",
    "\n",
    "repeats: int = 5  # repeat the same experiment for this many times"
   ]
  },
  {
   "cell_type": "code",
   "execution_count": null,
   "id": "2",
   "metadata": {
    "papermill": {
     "duration": 0.004222,
     "end_time": "2025-01-30T07:30:59.494075",
     "exception": false,
     "start_time": "2025-01-30T07:30:59.489853",
     "status": "completed"
    },
    "tags": [
     "injected-parameters"
    ]
   },
   "outputs": [],
   "source": [
    "# Parameters\n",
    "json_filename = \"z-speed-scaling.json\""
   ]
  },
  {
   "cell_type": "code",
   "execution_count": null,
   "id": "3",
   "metadata": {
    "editable": true,
    "papermill": {
     "duration": 0.012077,
     "end_time": "2025-01-30T07:30:59.507403",
     "exception": false,
     "start_time": "2025-01-30T07:30:59.495326",
     "status": "completed"
    },
    "slideshow": {
     "slide_type": ""
    },
    "tags": []
   },
   "outputs": [],
   "source": [
    "%load_ext autoreload\n",
    "%autoreload 2"
   ]
  },
  {
   "cell_type": "code",
   "execution_count": null,
   "id": "4",
   "metadata": {
    "editable": true,
    "papermill": {
     "duration": 0.008583,
     "end_time": "2025-01-30T07:30:59.517282",
     "exception": false,
     "start_time": "2025-01-30T07:30:59.508699",
     "status": "completed"
    },
    "slideshow": {
     "slide_type": ""
    },
    "tags": []
   },
   "outputs": [],
   "source": [
    "codes = [code.replace(\"@\", \"=\").replace(\";\", \",\") for code in codes]\n",
    "noises = [noise.replace(\"@\", \"=\").replace(\";\", \",\") for noise in noises]\n",
    "decoders = [decoder.replace(\"@\", \"=\").replace(\";\", \",\") for decoder in decoders]\n",
    "\n",
    "\n",
    "from qec_lego_bench.notebooks.speed_scaling import *\n",
    "\n",
    "codes, noises = sanity_check_parse_codes_and_noises(codes, noises)\n",
    "\n",
    "if json_filename is None:\n",
    "    json_filename = default_json_filename()\n",
    "print(\"saving results to:\", json_filename)\n"
   ]
  },
  {
   "cell_type": "code",
   "execution_count": null,
   "id": "5",
   "metadata": {
    "editable": true,
    "papermill": {
     "duration": 1.112265,
     "end_time": "2025-01-30T07:31:00.630845",
     "exception": false,
     "start_time": "2025-01-30T07:30:59.518580",
     "status": "completed"
    },
    "slideshow": {
     "slide_type": ""
    },
    "tags": []
   },
   "outputs": [],
   "source": [
    "monte_carlo_function = SpeedScalingMonteCarloFunction(\n",
    "    decoders=decoders,\n",
    "    min_shots=min_shots,\n",
    "    max_shots=max_shots,\n",
    "    min_time=min_time,\n",
    ")\n",
    "\n",
    "\n",
    "jobs = [MonteCarloJob(code=code, noise=noise, repeat=repeat) for code, noise in zip(codes, noises) for repeat in range(repeats)]\n",
    "# monte_carlo_function(1, codes[0], noises[0], verbose=True)"
   ]
  },
  {
   "cell_type": "code",
   "execution_count": null,
   "id": "6",
   "metadata": {},
   "outputs": [],
   "source": [
    "min_shots_submitter = MinShotsSubmitter(shots=1)\n",
    "\n",
    "def submitter(executor: MonteCarloJobExecutor) -> list[tuple[MonteCarloJob, int]]:\n",
    "    return min_shots_submitter(executor)"
   ]
  },
  {
   "cell_type": "code",
   "execution_count": null,
   "id": "7",
   "metadata": {
    "editable": true,
    "papermill": {
     "duration": 0.363029,
     "end_time": "2025-01-30T07:32:12.148953",
     "exception": false,
     "start_time": "2025-01-30T07:32:11.785924",
     "status": "completed"
    },
    "slideshow": {
     "slide_type": ""
    },
    "tags": []
   },
   "outputs": [],
   "source": [
    "config = MonteCarloExecutorConfig()\n",
    "config.max_submitted_job = max(config.max_submitted_job, 3 * slurm_maximum_jobs)\n",
    "executor = MonteCarloJobExecutor(\n",
    "    monte_carlo_function,\n",
    "    jobs,\n",
    "    config=config,\n",
    "    filename=json_filename,\n",
    "    result_type=MultiDecoderLogicalErrorRates,\n",
    ")\n",
    "\n",
    "client_connector = SlurmClientConnector(\n",
    "    slurm_maximum_jobs=slurm_maximum_jobs,\n",
    "    slurm_cores_per_node=slurm_cores_per_node,\n",
    "    slurm_mem_per_job=slurm_mem_per_job,\n",
    "    slurm_extra=slurm_extra,\n",
    "    local_maximum_jobs=local_maximum_jobs,\n",
    ")"
   ]
  },
  {
   "cell_type": "code",
   "execution_count": null,
   "id": "8",
   "metadata": {
    "editable": true,
    "papermill": {
     "duration": 0.002018,
     "end_time": "2025-01-30T07:32:12.153279",
     "exception": false,
     "start_time": "2025-01-30T07:32:12.151261",
     "status": "completed"
    },
    "slideshow": {
     "slide_type": ""
    },
    "tags": []
   },
   "outputs": [],
   "source": [
    "import time  # add some sleep to let them work properly in VScode Jupyter notebook\n",
    "\n",
    "time.sleep(0.2)\n",
    "progress_plotter = JobProgressPlotter()\n",
    "time.sleep(0.2)\n",
    "speed_scaling_plotter = SpeedScalingPlotter(\n",
    "    codes=codes, noises=noises, decoders=decoders, repeats=repeats,\n",
    ")\n",
    "time.sleep(0.2)\n",
    "memory_plotter = MemoryUsagePlotter()\n",
    "\n",
    "\n",
    "def callback(executor: MonteCarloJobExecutor):\n",
    "    progress_plotter(executor)\n",
    "    time.sleep(0.1)\n",
    "    speed_scaling_plotter(executor)\n",
    "    time.sleep(0.1)\n",
    "    memory_plotter(executor)\n",
    "    time.sleep(0.1)\n",
    "\n",
    "\n",
    "executor.execute(\n",
    "    client_connector=client_connector,\n",
    "    submitter=submitter,\n",
    "    loop_callback=callback,\n",
    "    shutdown_cluster=True,\n",
    "    force_finished=force_finished,\n",
    ")"
   ]
  }
 ],
 "metadata": {
  "kernelspec": {
   "display_name": "base",
   "language": "python",
   "name": "python3"
  },
  "language_info": {
   "codemirror_mode": {
    "name": "ipython",
    "version": 3
   },
   "file_extension": ".py",
   "mimetype": "text/x-python",
   "name": "python",
   "nbconvert_exporter": "python",
   "pygments_lexer": "ipython3",
   "version": "3.11.6"
  },
  "papermill": {
   "default_parameters": {},
   "duration": 73.848904,
   "end_time": "2025-01-30T07:32:12.574026",
   "environment_variables": {},
   "exception": null,
   "input_path": "decoding_speed_mwpm.ipynb",
   "output_path": "decoding_speed_mwpf.ipynb",
   "parameters": {
    "decoder": "mwpf",
    "json_filename": "speed-rsc-mwpf.json"
   },
   "start_time": "2025-01-30T07:30:58.725122",
   "version": "2.6.0"
  }
 },
 "nbformat": 4,
 "nbformat_minor": 5
}
