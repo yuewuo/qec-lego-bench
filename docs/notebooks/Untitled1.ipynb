{
 "cells": [
  {
   "cell_type": "code",
   "execution_count": 1,
   "id": "2db157aa-b534-43b8-b36d-f54638c4bc18",
   "metadata": {},
   "outputs": [],
   "source": [
    "import stim"
   ]
  },
  {
   "cell_type": "code",
   "execution_count": 2,
   "id": "c9c27c73-51e7-4260-8bff-365c0fcd6936",
   "metadata": {},
   "outputs": [],
   "source": [
    "circuit = stim.Circuit(\"\"\"\n",
    "    H 0\n",
    "    TICK\n",
    "\n",
    "    CX 0 1\n",
    "    X_ERROR(0.2) 0 1\n",
    "    TICK\n",
    "\n",
    "    M 0 1\n",
    "    DETECTOR rec[-1] rec[-2]\n",
    "\"\"\")"
   ]
  },
  {
   "cell_type": "code",
   "execution_count": 22,
   "id": "74b447be-4a13-4244-bf03-4504d3b45850",
   "metadata": {},
   "outputs": [
    {
     "name": "stdout",
     "output_type": "stream",
     "text": [
      "H [[stim.GateTarget(0)]]\n",
      "TICK []\n",
      "CX [[stim.GateTarget(0), stim.GateTarget(1)]]\n",
      "X_ERROR [[stim.GateTarget(0)], [stim.GateTarget(1)]]\n",
      "TICK []\n",
      "M [[stim.GateTarget(0)], [stim.GateTarget(1)]]\n",
      "DETECTOR [[stim.target_rec(-1)], [stim.target_rec(-2)]]\n"
     ]
    }
   ],
   "source": [
    "for c in circuit:\n",
    "    # print(c)\n",
    "    print(c.name, c.target_groups())"
   ]
  },
  {
   "cell_type": "code",
   "execution_count": null,
   "id": "47693eba-f46b-4997-8b00-9be4e6ab2def",
   "metadata": {},
   "outputs": [],
   "source": []
  }
 ],
 "metadata": {
  "kernelspec": {
   "display_name": "Python 3 (ipykernel)",
   "language": "python",
   "name": "python3"
  },
  "language_info": {
   "codemirror_mode": {
    "name": "ipython",
    "version": 3
   },
   "file_extension": ".py",
   "mimetype": "text/x-python",
   "name": "python",
   "nbconvert_exporter": "python",
   "pygments_lexer": "ipython3",
   "version": "3.11.6"
  }
 },
 "nbformat": 4,
 "nbformat_minor": 5
}
