{
 "cells": [
  {
   "cell_type": "code",
   "execution_count": 1,
   "id": "2db157aa-b534-43b8-b36d-f54638c4bc18",
   "metadata": {},
   "outputs": [],
   "source": [
    "import stim"
   ]
  },
  {
   "cell_type": "code",
   "execution_count": 2,
   "id": "c9c27c73-51e7-4260-8bff-365c0fcd6936",
   "metadata": {},
   "outputs": [],
   "source": [
    "circuit = stim.Circuit(\"\"\"\n",
    "    H 0\n",
    "    TICK\n",
    "\n",
    "    CX 0 1\n",
    "    X_ERROR(0.2) 0 1\n",
    "    TICK\n",
    "\n",
    "    M 0 1\n",
    "    DETECTOR rec[-1] rec[-2]\n",
    "\"\"\")"
   ]
  },
  {
   "cell_type": "code",
   "execution_count": 22,
   "id": "74b447be-4a13-4244-bf03-4504d3b45850",
   "metadata": {},
   "outputs": [
    {
     "name": "stdout",
     "output_type": "stream",
     "text": [
      "H [[stim.GateTarget(0)]]\n",
      "TICK []\n",
      "CX [[stim.GateTarget(0), stim.GateTarget(1)]]\n",
      "X_ERROR [[stim.GateTarget(0)], [stim.GateTarget(1)]]\n",
      "TICK []\n",
      "M [[stim.GateTarget(0)], [stim.GateTarget(1)]]\n",
      "DETECTOR [[stim.target_rec(-1)], [stim.target_rec(-2)]]\n"
     ]
    }
   ],
   "source": [
    "for c in circuit:\n",
    "    # print(c)\n",
    "    print(c.name, c.target_groups())"
   ]
  },
  {
   "cell_type": "code",
   "execution_count": 7,
   "id": "47693eba-f46b-4997-8b00-9be4e6ab2def",
   "metadata": {},
   "outputs": [
    {
     "name": "stdout",
     "output_type": "stream",
     "text": [
      "['1', '0', '0']\n"
     ]
    },
    {
     "data": {
      "text/plain": [
       "array([1], dtype=uint8)"
      ]
     },
     "execution_count": 7,
     "metadata": {},
     "output_type": "execute_result"
    }
   ],
   "source": [
    "import numpy as np\n",
    "\n",
    "v = 4\n",
    "np.packbits(\n",
    "    np.array(list(np.binary_repr(v)), dtype=np.uint8),\n",
    "    bitorder=\"little\",\n",
    ")"
   ]
  },
  {
   "cell_type": "code",
   "execution_count": 24,
   "id": "d3998b7c-6e23-447b-a52f-a97e48ccc9d6",
   "metadata": {},
   "outputs": [
    {
     "data": {
      "text/plain": [
       "array([ 0, 32], dtype=uint8)"
      ]
     },
     "execution_count": 24,
     "metadata": {},
     "output_type": "execute_result"
    }
   ],
   "source": [
    "np.packbits([0,0,0,0,0,0,0,0,0,0,0,0,0,1,0], bitorder=\"little\")"
   ]
  },
  {
   "cell_type": "code",
   "execution_count": 30,
   "id": "5f22a341-d33e-4b4d-a19a-b9b6e2500187",
   "metadata": {},
   "outputs": [
    {
     "data": {
      "text/plain": [
       "array([4, 0], dtype=uint8)"
      ]
     },
     "execution_count": 30,
     "metadata": {},
     "output_type": "execute_result"
    }
   ],
   "source": [
    "np.packbits([0,0,1,0,0,0,0,0,0,0,0,0], bitorder=\"little\")"
   ]
  },
  {
   "cell_type": "code",
   "execution_count": 35,
   "id": "362b81b2-79cc-4e81-b0dd-e39471056b5f",
   "metadata": {},
   "outputs": [
    {
     "data": {
      "text/plain": [
       "(array([0, 0, 1, 0, 0, 0, 0, 0, 0, 0, 0, 0, 0, 0, 0, 0], dtype=uint8),)"
      ]
     },
     "execution_count": 35,
     "metadata": {},
     "output_type": "execute_result"
    }
   ],
   "source": [
    "np.array(list(np.binary_repr(4, width=16))[::-1], dtype=np.uint8),"
   ]
  },
  {
   "cell_type": "code",
   "execution_count": 37,
   "id": "db31094b-bac5-4e5a-9866-c526eb499362",
   "metadata": {},
   "outputs": [
    {
     "data": {
      "text/plain": [
       "array([4, 0, 0, 0], dtype=uint8)"
      ]
     },
     "execution_count": 37,
     "metadata": {},
     "output_type": "execute_result"
    }
   ],
   "source": [
    "np.packbits(np.array(list(np.binary_repr(4, width=32))[::-1], dtype=np.uint8), bitorder=\"little\")"
   ]
  },
  {
   "cell_type": "code",
   "execution_count": 38,
   "id": "00cd4176-4ba9-4230-91ee-9f4614dfee61",
   "metadata": {},
   "outputs": [
    {
     "data": {
      "text/plain": [
       "array([1], dtype=uint8)"
      ]
     },
     "execution_count": 38,
     "metadata": {},
     "output_type": "execute_result"
    }
   ],
   "source": [
    "np.packbits(4, bitorder=\"little\")"
   ]
  },
  {
   "cell_type": "code",
   "execution_count": 39,
   "id": "06a1f617-7383-4ced-b823-d838f26c9a3d",
   "metadata": {},
   "outputs": [
    {
     "data": {
      "text/plain": [
       "'100'"
      ]
     },
     "execution_count": 39,
     "metadata": {},
     "output_type": "execute_result"
    }
   ],
   "source": [
    "np.binary_repr(v)"
   ]
  },
  {
   "cell_type": "code",
   "execution_count": null,
   "id": "28ea0834-063f-42b1-9832-0f856b33a075",
   "metadata": {},
   "outputs": [],
   "source": []
  }
 ],
 "metadata": {
  "kernelspec": {
   "display_name": "Python 3 (ipykernel)",
   "language": "python",
   "name": "python3"
  },
  "language_info": {
   "codemirror_mode": {
    "name": "ipython",
    "version": 3
   },
   "file_extension": ".py",
   "mimetype": "text/x-python",
   "name": "python",
   "nbconvert_exporter": "python",
   "pygments_lexer": "ipython3",
   "version": "3.11.6"
  }
 },
 "nbformat": 4,
 "nbformat_minor": 5
}
