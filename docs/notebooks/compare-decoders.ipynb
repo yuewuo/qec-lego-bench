{
 "cells": [
  {
   "cell_type": "markdown",
   "id": "b02fd8f9-4655-464d-955a-ed7a47b1bbd5",
   "metadata": {},
   "source": [
    "# Compare Decoders"
   ]
  },
  {
   "cell_type": "markdown",
   "id": "4cf2fcab-f64b-4433-8257-e6b77cbe1cce",
   "metadata": {},
   "source": [
    "We compare different decoders a variaty of codes\n",
    "- 1\n",
    "\n",
    "with a variaty of decoder:\n",
    "- 1\n",
    "\n"
   ]
  },
  {
   "cell_type": "code",
   "execution_count": 2,
   "id": "0568b7f8-38d7-4e85-b7b3-65bee4bdf390",
   "metadata": {},
   "outputs": [],
   "source": [
    "from ldpc import codes, BeliefFindDecoder"
   ]
  },
  {
   "cell_type": "code",
   "execution_count": 6,
   "id": "908822cb-d429-413e-8789-40a9ca8b7875",
   "metadata": {},
   "outputs": [
    {
     "data": {
      "text/plain": [
       "<3x3 sparse matrix of type '<class 'numpy.uint8'>'\n",
       "\twith 6 stored elements in Compressed Sparse Row format>"
      ]
     },
     "execution_count": 6,
     "metadata": {},
     "output_type": "execute_result"
    }
   ],
   "source": [
    "codes.ring_code(3)"
   ]
  },
  {
   "cell_type": "code",
   "execution_count": null,
   "id": "e62556ae-9455-419e-bd07-18dde4daa756",
   "metadata": {},
   "outputs": [],
   "source": []
  }
 ],
 "metadata": {
  "kernelspec": {
   "display_name": "Python 3 (ipykernel)",
   "language": "python",
   "name": "python3"
  },
  "language_info": {
   "codemirror_mode": {
    "name": "ipython",
    "version": 3
   },
   "file_extension": ".py",
   "mimetype": "text/x-python",
   "name": "python",
   "nbconvert_exporter": "python",
   "pygments_lexer": "ipython3",
   "version": "3.11.6"
  }
 },
 "nbformat": 4,
 "nbformat_minor": 5
}
