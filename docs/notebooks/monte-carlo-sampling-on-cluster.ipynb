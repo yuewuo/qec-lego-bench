{
 "cells": [
  {
   "cell_type": "markdown",
   "id": "8c71139c-18a2-4232-a572-eabd069ddc67",
   "metadata": {},
   "source": [
    "# Running Monte Carlo Sampling on HPC cluster"
   ]
  },
  {
   "cell_type": "markdown",
   "id": "5210c6a5-a9ea-4001-99f6-f2447baf7990",
   "metadata": {},
   "source": [
    "Running MC sampling jobs on limited HPC resource can be quite challenging, for the reasons below:\n",
    "\n",
    "1. jobs typically have a long queue time, meaning we need to submit enough jobs to avoid long waiting time\n",
    "2. However, it is hard to predict in advance how much work is needed in QEC simulations, because $p_L$ can vary by several orders of magnitudes\n",
    "3. Often I want a group of simulation data points and I want to see some intermediate (rough) results before the full simulation finishes\n",
    "\n",
    "Apart from the challenges, we also have a few nice properties of the problem: \n",
    "\n",
    "4. We can tolerate missing some accuracy on data points, e.g. when $p_L$ is too low, and the trade-off between cost and accuracy is somewhat\n",
    "5. Unlike other problems, if some tasks are inherently time consuming, we can always split these Monte Carlo sampling problem into smaller ones.\n",
    "\n",
    "Often times, I need to manually decide how many samples I want and iterate multiple times before I can get a proper result.\n",
    "**Is it possible to let a program automatically run the simulation jobs for me?**\n",
    "\n",
    "Due to condition (1) and (3), it is necessary to use a group of allocated \"compute\" nodes and a centralized \"host\" node to dynamically decide which task is running on which. [Dask](https://docs.dask.org/en/stable/futures.html) provides such functionality that works on various HPC cluster frameworks like Slurm.\n",
    "\n",
    "The real challenge is (2) and (4): how can we intelligently decide which data point we would like to spend time on? Like what I would do manually? Well, there is no single answer for that but for generality we could let the user to select which configuration to run and how many shots to run.\n",
    "\n",
    "Fortunately, the nature of Monte Carlo sampling (5) makes it easier to organize the problem.\n",
    "We can abstract the problem of simulating a list of monte carlo results.\n",
    "```python\n",
    "executor = MonteCarloJobExecutor(\n",
    "    MonteCarloJob(LogicalErrorResult, d=3, p=0.01),\n",
    "    MonteCarloJob(LogicalErrorResult, d=3, p=0.02),\n",
    "    MonteCarloJob(LogicalErrorResult, d=5, p=0.01),\n",
    "    MonteCarloJob(LogicalErrorResult, d=5, p=0.02),\n",
    ")\n",
    "```\n",
    "\n",
    "As a generic framework of MC sampling, each Monte Carlo job object only maintain a `shot` variable. That is, the framework doesn't really care about logical error rate or other kind of objectives.\n",
    "It is the responsibility of the user to provide a custom \"select\" function that indicates where I would like to run.\n",
    "Once a `None` is returned, then the executor will try to finish all the work and return.\n",
    "In case some of the submitted jobs fail, the executor may call the \"select\" function again to ask what the user want to do.\n",
    "\n",
    "```python\n",
    "def next_job(status: MonteCarloJobsStatus) -> tuple[MonteCarloJob, int] | None:\n",
    "    for job in status.jobs:\n",
    "        if job.expecting_shots < 1000:\n",
    "            return job, 1000 - job.active_shots\n",
    "```"
   ]
  },
  {
   "cell_type": "code",
   "execution_count": 1,
   "id": "b1159152-cd58-4911-9fba-df3ae3d345f4",
   "metadata": {},
   "outputs": [],
   "source": [
    "%load_ext autoreload\n",
    "%autoreload 2"
   ]
  },
  {
   "cell_type": "code",
   "execution_count": 2,
   "id": "924625c8-57cb-44c5-ae3e-6c023ffb7006",
   "metadata": {},
   "outputs": [],
   "source": [
    "from dask.distributed import Client, LocalCluster\n",
    "cluster = LocalCluster()"
   ]
  },
  {
   "cell_type": "code",
   "execution_count": 3,
   "id": "48c68379-fc35-40d5-a737-3ae27e8db036",
   "metadata": {},
   "outputs": [
    {
     "data": {
      "application/vnd.jupyter.widget-view+json": {
       "model_id": "8679f46d3a8749cea476d9a3c8b125b1",
       "version_major": 2,
       "version_minor": 0
      },
      "text/html": [
       "<div class=\"jp-RenderedHTMLCommon jp-RenderedHTML jp-mod-trusted jp-OutputArea-output\">\n",
       "    <div style=\"width: 24px; height: 24px; background-color: #e1e1e1; border: 3px solid #9D9D9D; border-radius: 5px; position: absolute;\">\n",
       "    </div>\n",
       "    <div style=\"margin-left: 48px;\">\n",
       "        <h3 style=\"margin-bottom: 0px; margin-top: 0px;\">LocalCluster</h3>\n",
       "        <p style=\"color: #9D9D9D; margin-bottom: 0px;\">8b5664ec</p>\n",
       "        <table style=\"width: 100%; text-align: left;\">\n",
       "            <tr>\n",
       "                <td style=\"text-align: left;\">\n",
       "                    <strong>Dashboard:</strong> <a href=\"http://127.0.0.1:8787/status\" target=\"_blank\">http://127.0.0.1:8787/status</a>\n",
       "                </td>\n",
       "                <td style=\"text-align: left;\">\n",
       "                    <strong>Workers:</strong> 5\n",
       "                </td>\n",
       "            </tr>\n",
       "            <tr>\n",
       "                <td style=\"text-align: left;\">\n",
       "                    <strong>Total threads:</strong> 10\n",
       "                </td>\n",
       "                <td style=\"text-align: left;\">\n",
       "                    <strong>Total memory:</strong> 32.00 GiB\n",
       "                </td>\n",
       "            </tr>\n",
       "            \n",
       "            <tr>\n",
       "    <td style=\"text-align: left;\"><strong>Status:</strong> running</td>\n",
       "    <td style=\"text-align: left;\"><strong>Using processes:</strong> True</td>\n",
       "</tr>\n",
       "\n",
       "            \n",
       "        </table>\n",
       "\n",
       "        <details>\n",
       "            <summary style=\"margin-bottom: 20px;\">\n",
       "                <h3 style=\"display: inline;\">Scheduler Info</h3>\n",
       "            </summary>\n",
       "\n",
       "            <div style=\"\">\n",
       "    <div>\n",
       "        <div style=\"width: 24px; height: 24px; background-color: #FFF7E5; border: 3px solid #FF6132; border-radius: 5px; position: absolute;\"> </div>\n",
       "        <div style=\"margin-left: 48px;\">\n",
       "            <h3 style=\"margin-bottom: 0px;\">Scheduler</h3>\n",
       "            <p style=\"color: #9D9D9D; margin-bottom: 0px;\">Scheduler-1e0b79d3-562c-4e4b-8743-2b3ffc98dffc</p>\n",
       "            <table style=\"width: 100%; text-align: left;\">\n",
       "                <tr>\n",
       "                    <td style=\"text-align: left;\">\n",
       "                        <strong>Comm:</strong> tcp://127.0.0.1:50165\n",
       "                    </td>\n",
       "                    <td style=\"text-align: left;\">\n",
       "                        <strong>Workers:</strong> 5\n",
       "                    </td>\n",
       "                </tr>\n",
       "                <tr>\n",
       "                    <td style=\"text-align: left;\">\n",
       "                        <strong>Dashboard:</strong> <a href=\"http://127.0.0.1:8787/status\" target=\"_blank\">http://127.0.0.1:8787/status</a>\n",
       "                    </td>\n",
       "                    <td style=\"text-align: left;\">\n",
       "                        <strong>Total threads:</strong> 10\n",
       "                    </td>\n",
       "                </tr>\n",
       "                <tr>\n",
       "                    <td style=\"text-align: left;\">\n",
       "                        <strong>Started:</strong> Just now\n",
       "                    </td>\n",
       "                    <td style=\"text-align: left;\">\n",
       "                        <strong>Total memory:</strong> 32.00 GiB\n",
       "                    </td>\n",
       "                </tr>\n",
       "            </table>\n",
       "        </div>\n",
       "    </div>\n",
       "\n",
       "    <details style=\"margin-left: 48px;\">\n",
       "        <summary style=\"margin-bottom: 20px;\">\n",
       "            <h3 style=\"display: inline;\">Workers</h3>\n",
       "        </summary>\n",
       "\n",
       "        \n",
       "        <div style=\"margin-bottom: 20px;\">\n",
       "            <div style=\"width: 24px; height: 24px; background-color: #DBF5FF; border: 3px solid #4CC9FF; border-radius: 5px; position: absolute;\"> </div>\n",
       "            <div style=\"margin-left: 48px;\">\n",
       "            <details>\n",
       "                <summary>\n",
       "                    <h4 style=\"margin-bottom: 0px; display: inline;\">Worker: 0</h4>\n",
       "                </summary>\n",
       "                <table style=\"width: 100%; text-align: left;\">\n",
       "                    <tr>\n",
       "                        <td style=\"text-align: left;\">\n",
       "                            <strong>Comm: </strong> tcp://127.0.0.1:50180\n",
       "                        </td>\n",
       "                        <td style=\"text-align: left;\">\n",
       "                            <strong>Total threads: </strong> 2\n",
       "                        </td>\n",
       "                    </tr>\n",
       "                    <tr>\n",
       "                        <td style=\"text-align: left;\">\n",
       "                            <strong>Dashboard: </strong> <a href=\"http://127.0.0.1:50184/status\" target=\"_blank\">http://127.0.0.1:50184/status</a>\n",
       "                        </td>\n",
       "                        <td style=\"text-align: left;\">\n",
       "                            <strong>Memory: </strong> 6.40 GiB\n",
       "                        </td>\n",
       "                    </tr>\n",
       "                    <tr>\n",
       "                        <td style=\"text-align: left;\">\n",
       "                            <strong>Nanny: </strong> tcp://127.0.0.1:50169\n",
       "                        </td>\n",
       "                        <td style=\"text-align: left;\"></td>\n",
       "                    </tr>\n",
       "                    <tr>\n",
       "                        <td colspan=\"2\" style=\"text-align: left;\">\n",
       "                            <strong>Local directory: </strong> /var/folders/vt/khhqppkd1472wb_cdm06rqhr0000gn/T/dask-scratch-space/worker-2ig_gqyq\n",
       "                        </td>\n",
       "                    </tr>\n",
       "\n",
       "                    \n",
       "\n",
       "                    \n",
       "\n",
       "                </table>\n",
       "            </details>\n",
       "            </div>\n",
       "        </div>\n",
       "        \n",
       "        <div style=\"margin-bottom: 20px;\">\n",
       "            <div style=\"width: 24px; height: 24px; background-color: #DBF5FF; border: 3px solid #4CC9FF; border-radius: 5px; position: absolute;\"> </div>\n",
       "            <div style=\"margin-left: 48px;\">\n",
       "            <details>\n",
       "                <summary>\n",
       "                    <h4 style=\"margin-bottom: 0px; display: inline;\">Worker: 1</h4>\n",
       "                </summary>\n",
       "                <table style=\"width: 100%; text-align: left;\">\n",
       "                    <tr>\n",
       "                        <td style=\"text-align: left;\">\n",
       "                            <strong>Comm: </strong> tcp://127.0.0.1:50179\n",
       "                        </td>\n",
       "                        <td style=\"text-align: left;\">\n",
       "                            <strong>Total threads: </strong> 2\n",
       "                        </td>\n",
       "                    </tr>\n",
       "                    <tr>\n",
       "                        <td style=\"text-align: left;\">\n",
       "                            <strong>Dashboard: </strong> <a href=\"http://127.0.0.1:50185/status\" target=\"_blank\">http://127.0.0.1:50185/status</a>\n",
       "                        </td>\n",
       "                        <td style=\"text-align: left;\">\n",
       "                            <strong>Memory: </strong> 6.40 GiB\n",
       "                        </td>\n",
       "                    </tr>\n",
       "                    <tr>\n",
       "                        <td style=\"text-align: left;\">\n",
       "                            <strong>Nanny: </strong> tcp://127.0.0.1:50171\n",
       "                        </td>\n",
       "                        <td style=\"text-align: left;\"></td>\n",
       "                    </tr>\n",
       "                    <tr>\n",
       "                        <td colspan=\"2\" style=\"text-align: left;\">\n",
       "                            <strong>Local directory: </strong> /var/folders/vt/khhqppkd1472wb_cdm06rqhr0000gn/T/dask-scratch-space/worker-5996ha1b\n",
       "                        </td>\n",
       "                    </tr>\n",
       "\n",
       "                    \n",
       "\n",
       "                    \n",
       "\n",
       "                </table>\n",
       "            </details>\n",
       "            </div>\n",
       "        </div>\n",
       "        \n",
       "        <div style=\"margin-bottom: 20px;\">\n",
       "            <div style=\"width: 24px; height: 24px; background-color: #DBF5FF; border: 3px solid #4CC9FF; border-radius: 5px; position: absolute;\"> </div>\n",
       "            <div style=\"margin-left: 48px;\">\n",
       "            <details>\n",
       "                <summary>\n",
       "                    <h4 style=\"margin-bottom: 0px; display: inline;\">Worker: 2</h4>\n",
       "                </summary>\n",
       "                <table style=\"width: 100%; text-align: left;\">\n",
       "                    <tr>\n",
       "                        <td style=\"text-align: left;\">\n",
       "                            <strong>Comm: </strong> tcp://127.0.0.1:50181\n",
       "                        </td>\n",
       "                        <td style=\"text-align: left;\">\n",
       "                            <strong>Total threads: </strong> 2\n",
       "                        </td>\n",
       "                    </tr>\n",
       "                    <tr>\n",
       "                        <td style=\"text-align: left;\">\n",
       "                            <strong>Dashboard: </strong> <a href=\"http://127.0.0.1:50183/status\" target=\"_blank\">http://127.0.0.1:50183/status</a>\n",
       "                        </td>\n",
       "                        <td style=\"text-align: left;\">\n",
       "                            <strong>Memory: </strong> 6.40 GiB\n",
       "                        </td>\n",
       "                    </tr>\n",
       "                    <tr>\n",
       "                        <td style=\"text-align: left;\">\n",
       "                            <strong>Nanny: </strong> tcp://127.0.0.1:50173\n",
       "                        </td>\n",
       "                        <td style=\"text-align: left;\"></td>\n",
       "                    </tr>\n",
       "                    <tr>\n",
       "                        <td colspan=\"2\" style=\"text-align: left;\">\n",
       "                            <strong>Local directory: </strong> /var/folders/vt/khhqppkd1472wb_cdm06rqhr0000gn/T/dask-scratch-space/worker-6l5ghaw0\n",
       "                        </td>\n",
       "                    </tr>\n",
       "\n",
       "                    \n",
       "\n",
       "                    \n",
       "\n",
       "                </table>\n",
       "            </details>\n",
       "            </div>\n",
       "        </div>\n",
       "        \n",
       "        <div style=\"margin-bottom: 20px;\">\n",
       "            <div style=\"width: 24px; height: 24px; background-color: #DBF5FF; border: 3px solid #4CC9FF; border-radius: 5px; position: absolute;\"> </div>\n",
       "            <div style=\"margin-left: 48px;\">\n",
       "            <details>\n",
       "                <summary>\n",
       "                    <h4 style=\"margin-bottom: 0px; display: inline;\">Worker: 3</h4>\n",
       "                </summary>\n",
       "                <table style=\"width: 100%; text-align: left;\">\n",
       "                    <tr>\n",
       "                        <td style=\"text-align: left;\">\n",
       "                            <strong>Comm: </strong> tcp://127.0.0.1:50186\n",
       "                        </td>\n",
       "                        <td style=\"text-align: left;\">\n",
       "                            <strong>Total threads: </strong> 2\n",
       "                        </td>\n",
       "                    </tr>\n",
       "                    <tr>\n",
       "                        <td style=\"text-align: left;\">\n",
       "                            <strong>Dashboard: </strong> <a href=\"http://127.0.0.1:50192/status\" target=\"_blank\">http://127.0.0.1:50192/status</a>\n",
       "                        </td>\n",
       "                        <td style=\"text-align: left;\">\n",
       "                            <strong>Memory: </strong> 6.40 GiB\n",
       "                        </td>\n",
       "                    </tr>\n",
       "                    <tr>\n",
       "                        <td style=\"text-align: left;\">\n",
       "                            <strong>Nanny: </strong> tcp://127.0.0.1:50175\n",
       "                        </td>\n",
       "                        <td style=\"text-align: left;\"></td>\n",
       "                    </tr>\n",
       "                    <tr>\n",
       "                        <td colspan=\"2\" style=\"text-align: left;\">\n",
       "                            <strong>Local directory: </strong> /var/folders/vt/khhqppkd1472wb_cdm06rqhr0000gn/T/dask-scratch-space/worker-k80gvdsh\n",
       "                        </td>\n",
       "                    </tr>\n",
       "\n",
       "                    \n",
       "\n",
       "                    \n",
       "\n",
       "                </table>\n",
       "            </details>\n",
       "            </div>\n",
       "        </div>\n",
       "        \n",
       "        <div style=\"margin-bottom: 20px;\">\n",
       "            <div style=\"width: 24px; height: 24px; background-color: #DBF5FF; border: 3px solid #4CC9FF; border-radius: 5px; position: absolute;\"> </div>\n",
       "            <div style=\"margin-left: 48px;\">\n",
       "            <details>\n",
       "                <summary>\n",
       "                    <h4 style=\"margin-bottom: 0px; display: inline;\">Worker: 4</h4>\n",
       "                </summary>\n",
       "                <table style=\"width: 100%; text-align: left;\">\n",
       "                    <tr>\n",
       "                        <td style=\"text-align: left;\">\n",
       "                            <strong>Comm: </strong> tcp://127.0.0.1:50182\n",
       "                        </td>\n",
       "                        <td style=\"text-align: left;\">\n",
       "                            <strong>Total threads: </strong> 2\n",
       "                        </td>\n",
       "                    </tr>\n",
       "                    <tr>\n",
       "                        <td style=\"text-align: left;\">\n",
       "                            <strong>Dashboard: </strong> <a href=\"http://127.0.0.1:50190/status\" target=\"_blank\">http://127.0.0.1:50190/status</a>\n",
       "                        </td>\n",
       "                        <td style=\"text-align: left;\">\n",
       "                            <strong>Memory: </strong> 6.40 GiB\n",
       "                        </td>\n",
       "                    </tr>\n",
       "                    <tr>\n",
       "                        <td style=\"text-align: left;\">\n",
       "                            <strong>Nanny: </strong> tcp://127.0.0.1:50177\n",
       "                        </td>\n",
       "                        <td style=\"text-align: left;\"></td>\n",
       "                    </tr>\n",
       "                    <tr>\n",
       "                        <td colspan=\"2\" style=\"text-align: left;\">\n",
       "                            <strong>Local directory: </strong> /var/folders/vt/khhqppkd1472wb_cdm06rqhr0000gn/T/dask-scratch-space/worker-xxvv7v5o\n",
       "                        </td>\n",
       "                    </tr>\n",
       "\n",
       "                    \n",
       "\n",
       "                    \n",
       "\n",
       "                </table>\n",
       "            </details>\n",
       "            </div>\n",
       "        </div>\n",
       "        \n",
       "\n",
       "    </details>\n",
       "</div>\n",
       "\n",
       "        </details>\n",
       "    </div>\n",
       "</div>"
      ],
      "text/plain": [
       "LocalCluster(8b5664ec, 'tcp://127.0.0.1:50165', workers=5, threads=10, memory=32.00 GiB)"
      ]
     },
     "metadata": {},
     "output_type": "display_data"
    }
   ],
   "source": [
    "cluster"
   ]
  },
  {
   "cell_type": "code",
   "execution_count": 4,
   "id": "b11d6acd-c4ac-4f3b-9e01-ee869bff2386",
   "metadata": {},
   "outputs": [],
   "source": [
    "client = Client(cluster)"
   ]
  },
  {
   "cell_type": "code",
   "execution_count": 5,
   "id": "3a2deaff-6b6a-4287-87cf-eb94a302e4ab",
   "metadata": {},
   "outputs": [
    {
     "data": {
      "text/plain": [
       "-1655431226912616489"
      ]
     },
     "execution_count": 5,
     "metadata": {},
     "output_type": "execute_result"
    }
   ],
   "source": [
    "from qec_lego_bench.hpc.monte_carlo import MonteCarloJob, LogicalErrorResult, MonteCarloJobExecutor\n",
    "\n",
    "job = MonteCarloJob(LogicalErrorResult, a=3, b=2)\n",
    "hash(job)"
   ]
  },
  {
   "cell_type": "code",
   "execution_count": 6,
   "id": "a60719dd-a1c5-46f0-b0c9-844118ba243e",
   "metadata": {},
   "outputs": [],
   "source": [
    "from qec_lego_bench.hpc.monte_carlo import LogicalErrorResult"
   ]
  },
  {
   "cell_type": "code",
   "execution_count": 7,
   "id": "89ecc408-3013-40dd-b770-65baaac3a895",
   "metadata": {},
   "outputs": [
    {
     "data": {
      "text/plain": [
       "LogicalErrorResult(errors=13, discards=0)"
      ]
     },
     "execution_count": 7,
     "metadata": {},
     "output_type": "execute_result"
    }
   ],
   "source": [
    "a = LogicalErrorResult(12)\n",
    "b = LogicalErrorResult(13)\n",
    "b"
   ]
  },
  {
   "cell_type": "code",
   "execution_count": 8,
   "id": "ce09ef49-48b4-419b-a4f1-b2a422539624",
   "metadata": {},
   "outputs": [
    {
     "data": {
      "text/plain": [
       "LogicalErrorResult(errors=25, discards=0)"
      ]
     },
     "execution_count": 8,
     "metadata": {},
     "output_type": "execute_result"
    }
   ],
   "source": [
    "a + b"
   ]
  },
  {
   "cell_type": "markdown",
   "id": "f7d89b1e-c941-4c3b-b456-2a62cc886fd3",
   "metadata": {},
   "source": [
    "Let's mock a logical error rate evaluation where the logical error rate is computed by $p_L = A \\frac{p}{p_{\\text{th}}}^{\\frac{d+1}{2}}$ and the speed of the simulation scales with the number of syndromes (similar to that of an MWPM decoder)."
   ]
  },
  {
   "cell_type": "code",
   "execution_count": 18,
   "id": "f68e65c2-00f4-4db8-812b-b765b1a8c519",
   "metadata": {},
   "outputs": [],
   "source": [
    "import scipy.stats as stats\n",
    "import distributed\n",
    "import time\n",
    "\n",
    "def mock_logical_error_rate(shots: int, d: int, p: float, pth: float = 0.1, A: float = 0.1, per_defect_time: float = 1e-4) -> LogicalErrorResult:\n",
    "    # distributed.print(f\"running {shots} of d={d}, p={p}\")\n",
    "    pL = min(1, A * (p / pth) ** ((d + 1) // 2))\n",
    "    binom_dist = stats.binom(shots, pL)\n",
    "    logical_errors = binom_dist.rvs()  # return a random sample of how many logical errors\n",
    "    physical_errors = d * d * p * shots\n",
    "    time.sleep(physical_errors * per_defect_time)\n",
    "    return LogicalErrorResult(logical_errors)"
   ]
  },
  {
   "cell_type": "code",
   "execution_count": 19,
   "id": "020189c5-f1e5-4b4a-aab8-b2216beb451e",
   "metadata": {},
   "outputs": [
    {
     "data": {
      "image/png": "[encoded data removed]",
      "text/plain": [
       "<Figure size 640x480 with 1 Axes>"
      ]
     },
     "metadata": {},
     "output_type": "display_data"
    }
   ],
   "source": [
    "from IPython import display\n",
    "import numpy as np\n",
    "import matplotlib.pyplot as plt\n",
    "import sinter\n",
    "\n",
    "d_vec = [3, 5, 7, 9]\n",
    "p_vec = [0.0001, 0.0003, 0.001, 0.003, 0.01, 0.03, 0.1, 0.3]\n",
    "jobs = [\n",
    "    MonteCarloJob(d=d, p=p) for d in d_vec for p in p_vec\n",
    "]\n",
    "\n",
    "executor = MonteCarloJobExecutor(\n",
    "    client,\n",
    "    mock_logical_error_rate,\n",
    "    jobs\n",
    ")\n",
    "\n",
    "def naive_next_job(executor: MonteCarloJobExecutor) -> tuple[MonteCarloJob, int] | None:\n",
    "    for job in executor:\n",
    "        if job.expecting_shots < 1000:\n",
    "            return job, 10000 - job.expecting_shots\n",
    "\n",
    "hdisplay = display.display(\"\", display_id=True)\n",
    "\n",
    "def plot_intermediate_result(executor: MonteCarloJobExecutor):\n",
    "    fig, ax = plt.subplots(1,1)\n",
    "    ax.clear()\n",
    "    ax.set_xlabel('physical error rate $p$')\n",
    "    ax.set_ylabel('logical error rate $p_L$')\n",
    "    ax.set_xlim(min(p_vec) / 2, max(p_vec) * 2)\n",
    "    ax.set_xscale(\"log\")\n",
    "    ax.set_ylim(1e-4, 1)\n",
    "    ax.set_yscale(\"log\")\n",
    "    for d in d_vec:\n",
    "        x_vec = []\n",
    "        y_vec = []\n",
    "        err_vec = []\n",
    "        for p in p_vec:\n",
    "            job = executor.get_job(d=d, p=p)\n",
    "            if job is None or job.result is None:\n",
    "                continue\n",
    "            x_vec.append(p)\n",
    "            stats = job.result.stats_of(job)\n",
    "            y_vec.append(stats.failure_rate_value)\n",
    "            err_vec.append(stats.failure_rate_uncertainty)\n",
    "        ax.errorbar(x_vec, y_vec, err_vec, label=f\"d={d}\")\n",
    "    fig.legend()\n",
    "    hdisplay.update(fig)\n",
    "    plt.close(fig)\n",
    "\n",
    "executor.execute(naive_next_job, loop_callback=plot_intermediate_result)"
   ]
  },
  {
   "cell_type": "code",
   "execution_count": 11,
   "id": "ec3f74fc-eaff-4a2a-849c-c007b5eff4ed",
   "metadata": {},
   "outputs": [
    {
     "data": {
      "text/plain": [
       "True"
      ]
     },
     "execution_count": 11,
     "metadata": {},
     "output_type": "execute_result"
    }
   ],
   "source": [
    "from concurrent.futures import Future\n",
    "\n",
    "future = Future()\n",
    "future.set_result(0)\n",
    "future.done()\n"
   ]
  },
  {
   "cell_type": "code",
   "execution_count": 12,
   "id": "b9c878f8-6f0b-4d84-b1c2-4af1316edf63",
   "metadata": {},
   "outputs": [
    {
     "data": {
      "text/plain": [
       "False"
      ]
     },
     "execution_count": 12,
     "metadata": {},
     "output_type": "execute_result"
    }
   ],
   "source": [
    "future = Future()\n",
    "future.done()"
   ]
  },
  {
   "cell_type": "markdown",
   "id": "38929bf1-9766-4e86-8f46-9bf0381ee1f5",
   "metadata": {},
   "source": [
    "## Useful Resources\n",
    "\n",
    "- https://docs.dask.org/en/stable/deploying.html\n",
    "- https://docs.dask.org/en/stable/futures.html\n",
    "- https://docs.ycrc.yale.edu/clusters-at-yale/access/ood-jupyter/\n"
   ]
  },
  {
   "cell_type": "code",
   "execution_count": 13,
   "id": "8adf611d-0002-46a3-8ac3-0db3b5e846ab",
   "metadata": {},
   "outputs": [
    {
     "ename": "ModuleNotFoundError",
     "evalue": "No module named 'dask_jobqueue'",
     "output_type": "error",
     "traceback": [
      "\u001b[0;31m---------------------------------------------------------------------------\u001b[0m",
      "\u001b[0;31mModuleNotFoundError\u001b[0m                       Traceback (most recent call last)",
      "Cell \u001b[0;32mIn[13], line 1\u001b[0m\n\u001b[0;32m----> 1\u001b[0m \u001b[38;5;28;01mfrom\u001b[39;00m \u001b[38;5;21;01mdask_jobqueue\u001b[39;00m \u001b[38;5;28;01mimport\u001b[39;00m SLURMCluster\n\u001b[1;32m      2\u001b[0m cluster \u001b[38;5;241m=\u001b[39m SLURMCluster(\n\u001b[1;32m      3\u001b[0m     queue\u001b[38;5;241m=\u001b[39m\u001b[38;5;124m'\u001b[39m\u001b[38;5;124mregular\u001b[39m\u001b[38;5;124m'\u001b[39m,\n\u001b[1;32m      4\u001b[0m     account\u001b[38;5;241m=\u001b[39m\u001b[38;5;124m\"\u001b[39m\u001b[38;5;124mmyaccount\u001b[39m\u001b[38;5;124m\"\u001b[39m,\n\u001b[1;32m      5\u001b[0m     cores\u001b[38;5;241m=\u001b[39m\u001b[38;5;241m24\u001b[39m,\n\u001b[1;32m      6\u001b[0m     memory\u001b[38;5;241m=\u001b[39m\u001b[38;5;124m\"\u001b[39m\u001b[38;5;124m500 GB\u001b[39m\u001b[38;5;124m\"\u001b[39m\n\u001b[1;32m      7\u001b[0m )\n\u001b[1;32m      8\u001b[0m cluster\u001b[38;5;241m.\u001b[39mscale(jobs\u001b[38;5;241m=\u001b[39m\u001b[38;5;241m10\u001b[39m)  \u001b[38;5;66;03m# ask for 10 jobs\u001b[39;00m\n",
      "\u001b[0;31mModuleNotFoundError\u001b[0m: No module named 'dask_jobqueue'"
     ]
    }
   ],
   "source": [
    "from dask_jobqueue import SLURMCluster\n",
    "cluster = SLURMCluster(\n",
    "    queue='regular',\n",
    "    account=\"myaccount\",\n",
    "    cores=24,\n",
    "    memory=\"500 GB\"\n",
    ")\n",
    "cluster.scale(jobs=10)  # ask for 10 jobs"
   ]
  }
 ],
 "metadata": {
  "kernelspec": {
   "display_name": "Python 3 (ipykernel)",
   "language": "python",
   "name": "python3"
  },
  "language_info": {
   "codemirror_mode": {
    "name": "ipython",
    "version": 3
   },
   "file_extension": ".py",
   "mimetype": "text/x-python",
   "name": "python",
   "nbconvert_exporter": "python",
   "pygments_lexer": "ipython3",
   "version": "3.11.6"
  }
 },
 "nbformat": 4,
 "nbformat_minor": 5
}
