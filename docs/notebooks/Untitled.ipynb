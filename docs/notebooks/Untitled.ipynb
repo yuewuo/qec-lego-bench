{
 "cells": [
  {
   "cell_type": "code",
   "execution_count": null,
   "id": "ed872c57-4d79-4df5-9fcf-cbe926330fab",
   "metadata": {},
   "outputs": [],
   "source": []
  },
  {
   "cell_type": "markdown",
   "id": "f5461fb8-dd81-4a90-8be8-8eca7b4498d4",
   "metadata": {},
   "source": [
    "Let's mock a logical error rate evaluation where the logical error rate is computed by $p_L = A \\frac{p}{p_{\\text{th}}}^{\\frac{d+1}{2}}$ and the speed of the simulation scales with the number of syndromes (similar to that of an MWPM decoder)."
   ]
  },
  {
   "cell_type": "code",
   "execution_count": null,
   "id": "5eced435-4765-4c3d-be44-8ae79335ba3d",
   "metadata": {},
   "outputs": [],
   "source": [
    "import scipy.stats as stats\n",
    "import distributed\n",
    "import time\n",
    "\n",
    "def mock_logical_error_rate(shots: int, d: int, p: float, pth: float = 0.1, A: float = 0.1, per_defect_time: float = 1e-4) -> LogicalErrorResult:\n",
    "    # distributed.print(f\"running {shots} of d={d}, p={p}\")\n",
    "    pL = min(1, A * (p / pth) ** ((d + 1) // 2))\n",
    "    binom_dist = stats.binom(shots, pL)\n",
    "    logical_errors = binom_dist.rvs()  # return a random sample of how many logical errors\n",
    "    physical_errors = d * d * p * shots\n",
    "    time.sleep(physical_errors * per_defect_time)\n",
    "    return LogicalErrorResult(logical_errors)"
   ]
  },
  {
   "cell_type": "code",
   "execution_count": null,
   "id": "4b216f9c-bb8d-40b0-bc6c-1033fe4c5d2e",
   "metadata": {},
   "outputs": [],
   "source": [
    "from IPython import display\n",
    "import numpy as np\n",
    "import matplotlib.pyplot as plt\n",
    "import sinter\n",
    "import math\n",
    "from typing import Iterable, Callable\n",
    "from dataclasses import dataclass, field\n",
    "\n",
    "d_vec = [3, 5, 7, 9]\n",
    "p_vec = [0.0001, 0.0003, 0.001, 0.003, 0.01, 0.03, 0.1, 0.3]\n",
    "jobs = [\n",
    "    MonteCarloJob(d=d, p=p) for d in d_vec for p in p_vec\n",
    "]\n",
    "\n",
    "executor = MonteCarloJobExecutor(\n",
    "    client,\n",
    "    mock_logical_error_rate,\n",
    "    jobs,\n",
    "    filename=\"monte-carlo-sampling-on-cluster.json\",\n",
    ")\n",
    "\n",
    "def min_shots_submitter(jobs: Iterable[MonteCarloJob], min_shots: int = 10000) -> list[tuple[MonteCarloJob, int]]:\n",
    "    return [(job, min_shots - job.expecting_shots) for job in jobs if job.expecting_shots < min_shots]\n",
    "\n",
    "executor.execute(min_shots_submitter, loop_callback=IntermediatePlotter())"
   ]
  },
  {
   "cell_type": "markdown",
   "id": "a23696e9-a7b5-440e-a6a5-26b3777fe29c",
   "metadata": {},
   "source": [
    "We can then try something more intelligent: instead of using a constant number of shots, how about let's try to make the error bar similar? That is equivalent to accumulating sufficient number of errors, e.g., 100 errors"
   ]
  },
  {
   "cell_type": "code",
   "execution_count": null,
   "id": "2689c34f-7aac-466f-a683-9250806545ac",
   "metadata": {},
   "outputs": [],
   "source": [
    "from dataclasses import dataclass\n",
    "\n",
    "def intelligent_submitter(jobs: Iterable[MonteCarloJob]) -> list[tuple[MonteCarloJob, int]]:\n",
    "    submit = min_shots_next_jobs(jobs, min_shots = 10000)\n",
    "    submit += LimitedTimePrecisionSubmitter()(jobs)\n",
    "    return submit\n",
    "\n",
    "\n",
    "d_vec = [3, 5, 7, 9]\n",
    "p_vec = [0.1 ** (i / 8) for i in range(0, 24)]\n",
    "jobs = [\n",
    "    MonteCarloJob(d=d, p=p) for d in d_vec for p in p_vec\n",
    "]\n",
    "\n",
    "executor = MonteCarloJobExecutor(\n",
    "    Client(cluster),\n",
    "    mock_logical_error_rate,\n",
    "    jobs,\n",
    "    filename=\"monte-carlo-sampling-on-cluster.json\",\n",
    ")\n",
    "\n",
    "plotter = IntermediatePlotter()\n",
    "progress_plotter = JobProgressPlotter()\n",
    "def callback(executor: MonteCarloJobExecutor):\n",
    "    plotter(executor)\n",
    "    progress_plotter(executor)\n",
    "executor.execute(intelligent_submitter, loop_callback=callback)"
   ]
  },
  {
   "cell_type": "markdown",
   "id": "95f0ba3f-c82c-4837-8ef9-31a767636c91",
   "metadata": {},
   "source": [
    "I want to know more about the running jobs, what about a table?"
   ]
  },
  {
   "cell_type": "code",
   "execution_count": null,
   "id": "403596cd-6685-411b-9db3-1a53891de80f",
   "metadata": {},
   "outputs": [],
   "source": [
    "import numpy as np\n",
    "import matplotlib.pyplot as plt\n",
    "\n",
    "fig_border = 'skyblue'\n",
    "data =  [\n",
    "            [         'India', 'China', 'Russia', 'USA', 'Australia'],\n",
    "            [ '1980',  696828385,982372466,  138257420,  223140018,  14706322],\n",
    "            ['1990',  870452165, 1153704252,  148005704,   248083732, 17048003],\n",
    "            ['2000',  1059633675,  1264099069,  146844839,  282398554, 19017963],\n",
    "            ['2010',  1240613620,  1348191368,  143242599,  311182845, 22019168],\n",
    "            ['2020', 1396387127, 1424929781, 145617329,  335942003,  25670051],\n",
    "            [ '1980',  696828385,982372466,  138257420,  223140018,  14706322],\n",
    "            ['1990',  870452165, 1153704252,  148005704,   248083732, 17048003],\n",
    "            ['2000',  1059633675,  1264099069,  146844839,  282398554, 19017963],\n",
    "            ['2010',  1240613620,  1348191368,  143242599,  311182845, 22019168],\n",
    "            ['2020', 1396387127, 1424929781, 145617329,  335942003,  25670051],\n",
    "            [ '1980',  696828385,982372466,  138257420,  223140018,  14706322],\n",
    "            ['1990',  870452165, 1153704252,  148005704,   248083732, 17048003],\n",
    "            ['2000',  1059633675,  1264099069,  146844839,  282398554, 19017963],\n",
    "            ['2010',  1240613620,  1348191368,  143242599,  311182845, 22019168],\n",
    "            ['2020', 1396387127, 1424929781, 145617329,  335942003,  25670051],\n",
    "            [ '1980',  696828385,982372466,  138257420,  223140018,  14706322],\n",
    "            ['1990',  870452165, 1153704252,  148005704,   248083732, 17048003],\n",
    "            ['2000',  1059633675,  1264099069,  146844839,  282398554, 19017963],\n",
    "            ['2010',  1240613620,  1348191368,  143242599,  311182845, 22019168],\n",
    "        ]\n",
    "#the headers from the data array\n",
    "column_headers = data.pop(0)\n",
    "row_headers = [x.pop(0) for x in data]\n",
    "\n",
    "cell_text = []\n",
    "for row in data:\n",
    "    cell_text.append([f'{x/1000:1.1f}' for x in row])\n",
    "\n",
    "\n",
    "print( plt.cm.BuPu(0.1))\n",
    "# rcolors = plt.cm.BuPu(np.full(len(row_headers), 0.1))\n",
    "# ccolors = plt.cm.BuPu(np.full(len(column_headers), 0.1))\n",
    "\n",
    "#Creating the figure. Setting a small pad on the tight layout\n",
    "\n",
    "plt.figure(tight_layout={'pad':0})\n",
    "\n",
    "#Adding a table at the bottom of the axes\n",
    "\n",
    "the_table = plt.table(cellText=cell_text,\n",
    "                      rowLabels=row_headers,\n",
    "                      rowColours=rcolors,\n",
    "                      rowLoc='right',\n",
    "                      colColours=ccolors,\n",
    "                      colLabels=column_headers,\n",
    "                      loc='center')\n",
    "the_table.auto_set_column_width(list(range(5)))\n",
    "\n",
    "# Hiding axes\n",
    "ax = plt.gca()\n",
    "ax.get_xaxis().set_visible(False)\n",
    "ax.get_yaxis().set_visible(False)\n",
    "\n",
    "# Hiding axes border\n",
    "plt.box(on=None)"
   ]
  },
  {
   "cell_type": "code",
   "execution_count": null,
   "id": "3468a447-a65e-4f12-8838-b16323732bac",
   "metadata": {},
   "outputs": [],
   "source": []
  },
  {
   "cell_type": "code",
   "execution_count": null,
   "id": "37d4a14d-23f9-4fb7-9e66-a7fa5ae8f826",
   "metadata": {},
   "outputs": [],
   "source": [
    "from concurrent.futures import Future\n",
    "\n",
    "future = Future()\n",
    "future.set_result(0)\n",
    "future.done()\n"
   ]
  },
  {
   "cell_type": "code",
   "execution_count": null,
   "id": "1b3447cf-a687-4294-9f20-c28f0ee5b963",
   "metadata": {},
   "outputs": [],
   "source": [
    "future = Future()\n",
    "future.done()"
   ]
  },
  {
   "cell_type": "code",
   "execution_count": null,
   "id": "1e68b403-eeab-4f4c-a0f9-4cb6c7b67718",
   "metadata": {},
   "outputs": [],
   "source": []
  },
  {
   "cell_type": "code",
   "execution_count": null,
   "id": "3a45c019-defe-45ca-ae82-1fc13a7d1973",
   "metadata": {},
   "outputs": [],
   "source": [
    "from dask_jobqueue import SLURMCluster\n",
    "cluster = SLURMCluster(\n",
    "    queue='regular',\n",
    "    account=\"myaccount\",\n",
    "    cores=24,\n",
    "    memory=\"500 GB\"\n",
    ")\n",
    "cluster.scale(jobs=10)  # ask for 10 jobs"
   ]
  },
  {
   "cell_type": "code",
   "execution_count": null,
   "id": "dfee7d75-ed1f-4638-8f7e-9483ebcdce34",
   "metadata": {},
   "outputs": [],
   "source": []
  }
 ],
 "metadata": {
  "kernelspec": {
   "display_name": "Python 3 (ipykernel)",
   "language": "python",
   "name": "python3"
  },
  "language_info": {
   "codemirror_mode": {
    "name": "ipython",
    "version": 3
   },
   "file_extension": ".py",
   "mimetype": "text/x-python",
   "name": "python",
   "nbconvert_exporter": "python",
   "pygments_lexer": "ipython3",
   "version": "3.11.6"
  }
 },
 "nbformat": 4,
 "nbformat_minor": 5
}
