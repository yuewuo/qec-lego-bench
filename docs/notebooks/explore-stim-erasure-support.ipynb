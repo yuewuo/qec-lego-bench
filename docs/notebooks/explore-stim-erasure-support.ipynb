{
 "cells": [
  {
   "cell_type": "markdown",
   "metadata": {
    "vscode": {
     "languageId": "plaintext"
    }
   },
   "source": [
    "# Explore erasure decoding using stim\n",
    "\n",
    "Until Feb 5th 2025, I haven't found any publicly available decoder that is capable of doing erasure decoding directly using the `HERALDED_*` instructions in a stim circuit.\n",
    "I think the complication comes from the fact that one would have to analyze the circuit and recognize those instructions.\n",
    "Let me first play with these instructions first and see whether this is a not-so-complicated task.\n",
    "\n",
    "Here is a link posted on Dec 25th 2024 asking for decoder support of erasure errors [https://quantumcomputing.stackexchange.com/questions/26582/how-do-i-perform-an-erasure-error-in-stim](https://quantumcomputing.stackexchange.com/questions/26582/how-do-i-perform-an-erasure-error-in-stim)."
   ]
  },
  {
   "cell_type": "code",
   "execution_count": 1,
   "metadata": {},
   "outputs": [],
   "source": [
    "%load_ext autoreload\n",
    "%autoreload 2"
   ]
  },
  {
   "cell_type": "code",
   "execution_count": 2,
   "metadata": {},
   "outputs": [],
   "source": [
    "import stim"
   ]
  },
  {
   "cell_type": "code",
   "execution_count": 3,
   "metadata": {
    "vscode": {
     "languageId": "plaintext"
    }
   },
   "outputs": [],
   "source": [
    "circuit = stim.Circuit()\n",
    "\n",
    "# First, the circuit will initialize a Bell pair.\n",
    "circuit.append(\"H\", [0])\n",
    "circuit.append(\"CNOT\", [0, 1])\n",
    "\n",
    "circuit.append(\"HERALDED_ERASE\", [0], [0.25])\n",
    "\n",
    "# Then, the circuit will measure both qubits of the Bell pair in the Z basis.\n",
    "circuit.append(\"M\", [0, 1])"
   ]
  },
  {
   "cell_type": "code",
   "execution_count": 4,
   "metadata": {
    "scrolled": true
   },
   "outputs": [
    {
     "data": {
      "image/svg+xml": [
       "<svg viewBox=\"0 0 352 224\"  version=\"1.1\" xmlns=\"http://www.w3.org/2000/svg\">\n",
       "<g id=\"qubit_lines\">\n",
       "<path id=\"qubit_line:0\" d=\"M64,64 L320,64 \" stroke=\"black\"/>\n",
       "<text dominant-baseline=\"central\" text-anchor=\"end\" font-family=\"monospace\" font-size=\"12\" x=\"64\" y=\"64\">q0</text>\n",
       "<path id=\"qubit_line:1\" d=\"M64,128 L320,128 \" stroke=\"black\"/>\n",
       "<text dominant-baseline=\"central\" text-anchor=\"end\" font-family=\"monospace\" font-size=\"12\" x=\"64\" y=\"128\">q1</text>\n",
       "</g>\n",
       "<rect x=\"80\" y=\"48\" width=\"32\" height=\"32\" stroke=\"black\" fill=\"white\"/>\n",
       "<text dominant-baseline=\"central\" text-anchor=\"middle\" font-family=\"monospace\" font-size=\"30\" x=\"96\" y=\"64\">H</text>\n",
       "<path d=\"M160,64 L160,128 \" stroke=\"black\"/>\n",
       "<circle cx=\"160\" cy=\"64\" r=\"12\" stroke=\"none\" fill=\"black\"/>\n",
       "<circle cx=\"160\" cy=\"128\" r=\"12\" stroke=\"black\" fill=\"white\"/>\n",
       "<path d=\"M148,128 L172,128 M160,116 L160,140 \" stroke=\"black\"/>\n",
       "<rect x=\"208\" y=\"48\" width=\"32\" height=\"32\" stroke=\"black\" fill=\"#800000\"/>\n",
       "<text dominant-baseline=\"central\" text-anchor=\"middle\" font-family=\"monospace\" font-size=\"8\" x=\"224\" y=\"64\" fill=\"white\">HErase</text>\n",
       "<text dominant-baseline=\"hanging\" text-anchor=\"middle\" font-family=\"monospace\" font-size=\"10\" stroke=\"red\" x=\"224\" y=\"84\">0.25</text>\n",
       "<text text-anchor=\"middle\" font-family=\"monospace\" font-size=\"8\" x=\"224\" y=\"44\">rec[0]</text>\n",
       "<rect x=\"272\" y=\"48\" width=\"32\" height=\"32\" stroke=\"black\" fill=\"black\"/>\n",
       "<text dominant-baseline=\"central\" text-anchor=\"middle\" font-family=\"monospace\" font-size=\"30\" x=\"288\" y=\"64\" fill=\"white\">M</text>\n",
       "<text text-anchor=\"middle\" font-family=\"monospace\" font-size=\"8\" x=\"288\" y=\"44\">rec[1]</text>\n",
       "<rect x=\"272\" y=\"112\" width=\"32\" height=\"32\" stroke=\"black\" fill=\"black\"/>\n",
       "<text dominant-baseline=\"central\" text-anchor=\"middle\" font-family=\"monospace\" font-size=\"30\" x=\"288\" y=\"128\" fill=\"white\">M</text>\n",
       "<text text-anchor=\"middle\" font-family=\"monospace\" font-size=\"8\" x=\"288\" y=\"108\">rec[2]</text>\n",
       "</svg>"
      ],
      "text/plain": [
       "<svg viewBox=\"0 0 352 224\"  version=\"1.1\" xmlns=\"http://www.w3.org/2000/svg\">\n",
       "<g id=\"qubit_lines\">\n",
       "<path id=\"qubit_line:0\" d=\"M64,64 L320,64 \" stroke=\"black\"/>\n",
       "<text dominant-baseline=\"central\" text-anchor=\"end\" font-family=\"monospace\" font-size=\"12\" x=\"64\" y=\"64\">q0</text>\n",
       "<path id=\"qubit_line:1\" d=\"M64,128 L320,128 \" stroke=\"black\"/>\n",
       "<text dominant-baseline=\"central\" text-anchor=\"end\" font-family=\"monospace\" font-size=\"12\" x=\"64\" y=\"128\">q1</text>\n",
       "</g>\n",
       "<rect x=\"80\" y=\"48\" width=\"32\" height=\"32\" stroke=\"black\" fill=\"white\"/>\n",
       "<text dominant-baseline=\"central\" text-anchor=\"middle\" font-family=\"monospace\" font-size=\"30\" x=\"96\" y=\"64\">H</text>\n",
       "<path d=\"M160,64 L160,128 \" stroke=\"black\"/>\n",
       "<circle cx=\"160\" cy=\"64\" r=\"12\" stroke=\"none\" fill=\"black\"/>\n",
       "<circle cx=\"160\" cy=\"128\" r=\"12\" stroke=\"black\" fill=\"white\"/>\n",
       "<path d=\"M148,128 L172,128 M160,116 L160,140 \" stroke=\"black\"/>\n",
       "<rect x=\"208\" y=\"48\" width=\"32\" height=\"32\" stroke=\"black\" fill=\"#800000\"/>\n",
       "<text dominant-baseline=\"central\" text-anchor=\"middle\" font-family=\"monospace\" font-size=\"8\" x=\"224\" y=\"64\" fill=\"white\">HErase</text>\n",
       "<text dominant-baseline=\"hanging\" text-anchor=\"middle\" font-family=\"monospace\" font-size=\"10\" stroke=\"red\" x=\"224\" y=\"84\">0.25</text>\n",
       "<text text-anchor=\"middle\" font-family=\"monospace\" font-size=\"8\" x=\"224\" y=\"44\">rec[0]</text>\n",
       "<rect x=\"272\" y=\"48\" width=\"32\" height=\"32\" stroke=\"black\" fill=\"black\"/>\n",
       "<text dominant-baseline=\"central\" text-anchor=\"middle\" font-family=\"monospace\" font-size=\"30\" x=\"288\" y=\"64\" fill=\"white\">M</text>\n",
       "<text text-anchor=\"middle\" font-family=\"monospace\" font-size=\"8\" x=\"288\" y=\"44\">rec[1]</text>\n",
       "<rect x=\"272\" y=\"112\" width=\"32\" height=\"32\" stroke=\"black\" fill=\"black\"/>\n",
       "<text dominant-baseline=\"central\" text-anchor=\"middle\" font-family=\"monospace\" font-size=\"30\" x=\"288\" y=\"128\" fill=\"white\">M</text>\n",
       "<text text-anchor=\"middle\" font-family=\"monospace\" font-size=\"8\" x=\"288\" y=\"108\">rec[2]</text>\n",
       "</svg>"
      ]
     },
     "execution_count": 4,
     "metadata": {},
     "output_type": "execute_result"
    }
   ],
   "source": [
    "circuit.diagram('timeline-svg')"
   ]
  },
  {
   "cell_type": "code",
   "execution_count": 5,
   "metadata": {},
   "outputs": [
    {
     "data": {
      "text/plain": [
       "stim.DetectorErrorModel()"
      ]
     },
     "execution_count": 5,
     "metadata": {},
     "output_type": "execute_result"
    }
   ],
   "source": [
    "circuit.detector_error_model(approximate_disjoint_errors=True)"
   ]
  },
  {
   "cell_type": "code",
   "execution_count": 6,
   "metadata": {},
   "outputs": [],
   "source": [
    "import arguably\n",
    "import sinter\n",
    "from typing import Optional\n",
    "from sinter._decoding import sample_decode\n",
    "\n",
    "from qec_lego_bench.cli.util import *\n",
    "from qec_lego_bench.cli.codes import *\n",
    "from qec_lego_bench.cli.noises import *\n",
    "from qec_lego_bench.cli.decoders import *\n",
    "from qec_lego_bench.stats import Stats"
   ]
  },
  {
   "cell_type": "code",
   "execution_count": 7,
   "metadata": {},
   "outputs": [],
   "source": [
    "code_instance = CodeCli(\"rep(d=3,rounds=1,p=0.001)\")()\n",
    "circuit = code_instance.circuit"
   ]
  },
  {
   "cell_type": "code",
   "execution_count": 8,
   "metadata": {},
   "outputs": [
    {
     "data": {
      "text/plain": [
       "stim.Circuit('''\n",
       "    R 0 1 2 3 4\n",
       "    X_ERROR(0.001) 0 1 2 3 4\n",
       "    TICK\n",
       "    DEPOLARIZE1(0.001) 0 2 4\n",
       "    CX 0 1 2 3\n",
       "    DEPOLARIZE2(0.001) 0 1 2 3\n",
       "    TICK\n",
       "    CX 2 1 4 3\n",
       "    DEPOLARIZE2(0.001) 2 1 4 3\n",
       "    TICK\n",
       "    X_ERROR(0.001) 1 3\n",
       "    MR 1 3\n",
       "    X_ERROR(0.001) 1 3\n",
       "    DETECTOR(1, 0) rec[-2]\n",
       "    DETECTOR(3, 0) rec[-1]\n",
       "    X_ERROR(0.001) 0 2 4\n",
       "    M 0 2 4\n",
       "    DETECTOR(1, 1) rec[-2] rec[-3] rec[-5]\n",
       "    DETECTOR(3, 1) rec[-1] rec[-2] rec[-4]\n",
       "    OBSERVABLE_INCLUDE(0) rec[-1]\n",
       "''')"
      ]
     },
     "execution_count": 8,
     "metadata": {},
     "output_type": "execute_result"
    }
   ],
   "source": [
    "circuit"
   ]
  },
  {
   "cell_type": "code",
   "execution_count": 9,
   "metadata": {},
   "outputs": [
    {
     "data": {
      "text/plain": [
       "stim.DetectorErrorModel('''\n",
       "    error(0.005) D2\n",
       "    error(0.005) D2 D3\n",
       "    detector(1, 0) D0\n",
       "    detector(3, 0) D1\n",
       "    detector(1, 1) D3\n",
       "    detector(3, 1) D4\n",
       "    logical_observable L0\n",
       "''')"
      ]
     },
     "execution_count": 9,
     "metadata": {},
     "output_type": "execute_result"
    }
   ],
   "source": [
    "circuit = stim.Circuit('''\n",
    "    R 0 1 2 3 4\n",
    "    TICK\n",
    "    CX 0 1 2 3\n",
    "    TICK\n",
    "    CX 2 1 4 3\n",
    "    TICK\n",
    "    MR 1 3\n",
    "    DETECTOR(1, 0) rec[-2]\n",
    "    DETECTOR(3, 0) rec[-1]\n",
    "    HERALDED_ERASE(0.01) 0\n",
    "    DETECTOR rec[-1]\n",
    "    M 0 2 4\n",
    "    DETECTOR(1, 1) rec[-2] rec[-3] rec[-6]\n",
    "    DETECTOR(3, 1) rec[-1] rec[-2] rec[-5]\n",
    "    OBSERVABLE_INCLUDE(0) rec[-1]\n",
    "''')\n",
    "circuit.detector_error_model(approximate_disjoint_errors=True)"
   ]
  },
  {
   "cell_type": "code",
   "execution_count": 10,
   "metadata": {},
   "outputs": [
    {
     "data": {
      "text/plain": [
       "stim.CompiledDetectorSampler(stim.Circuit('''\n",
       "    R 0 1 2 3 4\n",
       "    TICK\n",
       "    CX 0 1 2 3\n",
       "    TICK\n",
       "    CX 2 1 4 3\n",
       "    TICK\n",
       "    MR 1 3\n",
       "    DETECTOR(1, 0) rec[-2]\n",
       "    DETECTOR(3, 0) rec[-1]\n",
       "    HERALDED_ERASE(0.01) 0\n",
       "    DETECTOR rec[-1]\n",
       "    M 0 2 4\n",
       "    DETECTOR(1, 1) rec[-2] rec[-3] rec[-6]\n",
       "    DETECTOR(3, 1) rec[-1] rec[-2] rec[-5]\n",
       "    OBSERVABLE_INCLUDE(0) rec[-1]\n",
       "'''))"
      ]
     },
     "execution_count": 10,
     "metadata": {},
     "output_type": "execute_result"
    }
   ],
   "source": [
    "circuit.compile_detector_sampler()"
   ]
  },
  {
   "cell_type": "code",
   "execution_count": 11,
   "metadata": {},
   "outputs": [
    {
     "data": {
      "text/plain": [
       "stim.DetectorErrorModel('''\n",
       "    error(0.005) D2\n",
       "    error(0.005) D2 D3\n",
       "    detector(1, 0) D0\n",
       "    detector(3, 0) D1\n",
       "    detector(1, 1) D3\n",
       "    detector(3, 1) D4\n",
       "    logical_observable L0\n",
       "''')"
      ]
     },
     "execution_count": 11,
     "metadata": {},
     "output_type": "execute_result"
    }
   ],
   "source": [
    "dem = circuit.detector_error_model(approximate_disjoint_errors=True)\n",
    "dem"
   ]
  },
  {
   "cell_type": "code",
   "execution_count": 12,
   "metadata": {},
   "outputs": [
    {
     "data": {
      "text/plain": [
       "[stim.DemInstruction('error', [0.005], [stim.target_relative_detector_id(2)]),\n",
       " stim.DemInstruction('error', [0.005], [stim.target_relative_detector_id(2), stim.target_relative_detector_id(3)]),\n",
       " stim.DemInstruction('detector', [1, 0], [stim.target_relative_detector_id(0)]),\n",
       " stim.DemInstruction('detector', [3, 0], [stim.target_relative_detector_id(1)]),\n",
       " stim.DemInstruction('detector', [1, 1], [stim.target_relative_detector_id(3)]),\n",
       " stim.DemInstruction('detector', [3, 1], [stim.target_relative_detector_id(4)]),\n",
       " stim.DemInstruction('logical_observable', [], [stim.target_logical_observable_id(0)])]"
      ]
     },
     "execution_count": 12,
     "metadata": {},
     "output_type": "execute_result"
    }
   ],
   "source": [
    "list(dem)"
   ]
  },
  {
   "cell_type": "markdown",
   "metadata": {},
   "source": [
    "## OK We need to manually support it\n",
    "\n",
    "The DEM returned from the heralded errors treat them as pure pauli error (even after adding the detection events).\n",
    "This makes sense because DEM doesn't have native mechanism to describe \"conditional\" error.\n",
    "Since `sinter.Decoder` class does not receive the original circuit as input, we will have to do some hacky way by passing the circuit to the decoder outside of the loop.\n",
    "\n",
    "So the idea is here:\n",
    "\n",
    "### Adding heralded errors to an existing circuit\n",
    "\n",
    "When we add Pauli noises, it was very straightforward because we can simply put them into the circuit.\n",
    "The added errors will not change the indices of any measurements or detectors.\n",
    "This is no longer true when we add heralded errors.\n",
    "A heralded error generates one measurement per qubit index.\n",
    "Thus, all the detector references involving relative indices must have an offset accordingly.\n",
    "The offset is not a constant value and changes depending on the original index.\n",
    "\n",
    "### Decoding a circuit with heralded errors\n",
    "\n",
    "Since the DEM doesn't contain heralded errors, the decoder need to know the information from the circuit.\n",
    "It will need to analyze what are the \n",
    "\n",
    "### Easiest circuit to start with:\n",
    "\n",
    "```sh\n",
    "R 0 1 2 3 4\n",
    "TICK\n",
    "CX 0 1 2 3\n",
    "TICK\n",
    "CX 2 1 4 3\n",
    "TICK\n",
    "MR 1 3\n",
    "DETECTOR(1, 0) rec[-2]\n",
    "DETECTOR(3, 0) rec[-1]\n",
    "HERALDED_ERASE(0.01) 0\n",
    "DETECTOR rec[-1]\n",
    "M 0 2 4\n",
    "DETECTOR(1, 1) rec[-2] rec[-3] rec[-6]\n",
    "DETECTOR(3, 1) rec[-1] rec[-2] rec[-5]\n",
    "OBSERVABLE_INCLUDE(0) rec[-1]\n",
    "```"
   ]
  },
  {
   "cell_type": "code",
   "execution_count": 55,
   "metadata": {},
   "outputs": [
    {
     "name": "stdout",
     "output_type": "stream",
     "text": [
      "num_detectors: 0, num_measurements: 2, num_observables: 1, num_qubits: 1\n"
     ]
    },
    {
     "data": {
      "text/plain": [
       "stim.DetectorErrorModel('''\n",
       "    error(0.005) L0\n",
       "''')"
      ]
     },
     "execution_count": 55,
     "metadata": {},
     "output_type": "execute_result"
    }
   ],
   "source": [
    "circuit = stim.Circuit('''\n",
    "    R 0\n",
    "    HERALDED_ERASE(0.01) 0\n",
    "    M 0\n",
    "    OBSERVABLE_INCLUDE(0) rec[-1]\n",
    "''')\n",
    "print(f\"num_detectors: {circuit.num_detectors}, num_measurements: {circuit.num_measurements}, num_observables: {circuit.num_observables}, num_qubits: {circuit.num_qubits}\")\n",
    "circuit.detector_error_model(approximate_disjoint_errors=True)\n",
    "# dir(circuit.num_detectors)"
   ]
  },
  {
   "cell_type": "code",
   "execution_count": 56,
   "metadata": {},
   "outputs": [
    {
     "data": {
      "text/plain": [
       "[('R', [0], 0),\n",
       " ('HERALDED_ERASE', [0], 0.01),\n",
       " ('M', [0], 0),\n",
       " ('OBSERVABLE_INCLUDE', [('rec', -1)], 0.0)]"
      ]
     },
     "execution_count": 56,
     "metadata": {},
     "output_type": "execute_result"
    }
   ],
   "source": [
    "## first flatten the operations such that \n",
    "operations = circuit.flattened_operations()\n",
    "operations"
   ]
  },
  {
   "cell_type": "code",
   "execution_count": 50,
   "metadata": {},
   "outputs": [
    {
     "data": {
      "text/plain": [
       "stim.target_rec(-2)"
      ]
     },
     "execution_count": 50,
     "metadata": {},
     "output_type": "execute_result"
    }
   ],
   "source": [
    "stim.target_rec(-2)"
   ]
  },
  {
   "cell_type": "code",
   "execution_count": 51,
   "metadata": {},
   "outputs": [
    {
     "ename": "ValueError",
     "evalue": "Gate R was given 1 parens arguments (0) but takes 0 parens arguments.",
     "output_type": "error",
     "traceback": [
      "\u001b[0;31m---------------------------------------------------------------------------\u001b[0m",
      "\u001b[0;31mValueError\u001b[0m                                Traceback (most recent call last)",
      "Cell \u001b[0;32mIn[51], line 2\u001b[0m\n\u001b[1;32m      1\u001b[0m circuit \u001b[38;5;241m=\u001b[39m stim\u001b[38;5;241m.\u001b[39mCircuit()\n\u001b[0;32m----> 2\u001b[0m \u001b[43mcircuit\u001b[49m\u001b[38;5;241;43m.\u001b[39;49m\u001b[43mappend\u001b[49m\u001b[43m(\u001b[49m\u001b[38;5;124;43m'\u001b[39;49m\u001b[38;5;124;43mR\u001b[39;49m\u001b[38;5;124;43m'\u001b[39;49m\u001b[43m,\u001b[49m\u001b[43m \u001b[49m\u001b[43m[\u001b[49m\u001b[38;5;241;43m0\u001b[39;49m\u001b[43m]\u001b[49m\u001b[43m,\u001b[49m\u001b[43m \u001b[49m\u001b[38;5;241;43m0\u001b[39;49m\u001b[43m)\u001b[49m\n\u001b[1;32m      3\u001b[0m circuit\u001b[38;5;241m.\u001b[39mappend(\u001b[38;5;124m'\u001b[39m\u001b[38;5;124mHERALDED_ERASE\u001b[39m\u001b[38;5;124m'\u001b[39m, [\u001b[38;5;241m0\u001b[39m], \u001b[38;5;241m0.01\u001b[39m)\n\u001b[1;32m      4\u001b[0m circuit\u001b[38;5;241m.\u001b[39mappend(\u001b[38;5;124m'\u001b[39m\u001b[38;5;124mM\u001b[39m\u001b[38;5;124m'\u001b[39m, [\u001b[38;5;241m0\u001b[39m], \u001b[38;5;241m0\u001b[39m)\n",
      "\u001b[0;31mValueError\u001b[0m: Gate R was given 1 parens arguments (0) but takes 0 parens arguments."
     ]
    }
   ],
   "source": [
    "circuit = stim.Circuit()\n",
    "circuit.append('R', [0], 0)\n",
    "circuit.append('HERALDED_ERASE', [0], 0.01)\n",
    "circuit.append('M', [0], 0)\n",
    "circuit.append('OBSERVABLE_INCLUDE', [('rec', -1)], 0.0)\n",
    "circuit"
   ]
  },
  {
   "cell_type": "code",
   "execution_count": 60,
   "metadata": {},
   "outputs": [
    {
     "data": {
      "text/plain": [
       "stim.Circuit('''\n",
       "    R 0\n",
       "    HERALDED_ERASE(0.01) 0\n",
       "    M 0\n",
       "    OBSERVABLE_INCLUDE(0) rec[-1]\n",
       "''')"
      ]
     },
     "execution_count": 60,
     "metadata": {},
     "output_type": "execute_result"
    }
   ],
   "source": [
    "circuit"
   ]
  },
  {
   "cell_type": "code",
   "execution_count": 86,
   "metadata": {},
   "outputs": [
    {
     "name": "stdout",
     "output_type": "stream",
     "text": [
      "R 0 **** R [] [stim.GateTarget(0)] \n",
      "HERALDED_ERASE(0.01) 0 **** HERALDED_ERASE [0.01] [stim.GateTarget(0)] \n",
      "M 0 **** M [] [stim.GateTarget(0)] \n",
      "OBSERVABLE_INCLUDE(0) rec[-1] **** OBSERVABLE_INCLUDE [0.0] [stim.target_rec(-1)] \n"
     ]
    }
   ],
   "source": [
    "circuit2 = stim.Circuit()\n",
    "for operation in circuit:\n",
    "    print(operation, \"****\", operation.name, operation.gate_args_copy(), operation.targets_copy(), operation.tag)  # operation.num_measurements\n",
    "    circuit2.append(operation.name, arg=operation.gate_args_copy(), targets=operation.targets_copy(), tag=\"abc\")"
   ]
  },
  {
   "cell_type": "code",
   "execution_count": 87,
   "metadata": {},
   "outputs": [
    {
     "data": {
      "text/plain": [
       "stim.Circuit('''\n",
       "    R[abc] 0\n",
       "    HERALDED_ERASE[abc](0.01) 0\n",
       "    M[abc] 0\n",
       "    OBSERVABLE_INCLUDE[abc](0) rec[-1]\n",
       "''')"
      ]
     },
     "execution_count": 87,
     "metadata": {},
     "output_type": "execute_result"
    }
   ],
   "source": [
    "circuit2"
   ]
  },
  {
   "cell_type": "code",
   "execution_count": null,
   "metadata": {},
   "outputs": [],
   "source": []
  },
  {
   "cell_type": "code",
   "execution_count": null,
   "metadata": {},
   "outputs": [],
   "source": []
  }
 ],
 "metadata": {
  "kernelspec": {
   "display_name": "Python 3 (ipykernel)",
   "language": "python",
   "name": "python3"
  },
  "language_info": {
   "codemirror_mode": {
    "name": "ipython",
    "version": 3
   },
   "file_extension": ".py",
   "mimetype": "text/x-python",
   "name": "python",
   "nbconvert_exporter": "python",
   "pygments_lexer": "ipython3",
   "version": "3.11.6"
  }
 },
 "nbformat": 4,
 "nbformat_minor": 4
}
