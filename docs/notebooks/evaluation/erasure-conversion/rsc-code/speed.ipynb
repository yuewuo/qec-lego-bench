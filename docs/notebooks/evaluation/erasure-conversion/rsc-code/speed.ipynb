{
 "cells": [
  {
   "cell_type": "markdown",
   "metadata": {},
   "source": [
    "# Evaluating decoding speed"
   ]
  },
  {
   "cell_type": "code",
   "execution_count": null,
   "metadata": {},
   "outputs": [],
   "source": [
    "d: float = 3\n",
    "p: float = 0.001\n",
    "code: str = f\"rsc(d={d},p={p})\"\n",
    "noise: str = \"none\"\n",
    "\n",
    "kwargs = dict(\n",
    "    min_time = 60,\n",
    "    min_shots = 1000000,\n",
    "    min_init_time = 0.1,\n",
    "    min_init_shots = 1,\n",
    ")\n",
    "\n",
    "json_filename: str | None = None\n",
    "force_finished: bool = False  # only plot the figure and do not run experiments"
   ]
  },
  {
   "cell_type": "code",
   "execution_count": 2,
   "metadata": {},
   "outputs": [
    {
     "name": "stdout",
     "output_type": "stream",
     "text": [
      "number of decoders: 15\n"
     ]
    }
   ],
   "source": [
    "ecr_vec: list[float] = [0.2 * e for e in range(5)] + [0.9, 0.95, 0.98, 1]  # erasure conversion rate\n",
    "c_vec = [0, 50, 1000]\n",
    "max_iter_vec = [0, 5]\n",
    "osd_order_vec = [0, 10]\n",
    "\n",
    "mwpf_decoder_vec = [f\"mwpf(c={c})\" for c in c_vec] + [f\"mwpf(c={c},pass_circuit=1)\" for c in c_vec]\n",
    "bposd0_decoder_vec = [f\"bposd(max_iter={max_iter})\" for max_iter in max_iter_vec]\n",
    "bposdn_decoder_vec = [f\"bposd(max_iter={max_iter},osd_order={osd_order},osd_method=osd_e)\" for max_iter in max_iter_vec for osd_order in osd_order_vec]\n",
    "bpuf_decoder_vec = [f\"bpuf(max_iter={max_iter})\" for max_iter in max_iter_vec]\n",
    "\n",
    "decoder_vec = mwpf_decoder_vec + bposd0_decoder_vec + bposdn_decoder_vec + bpuf_decoder_vec + [\"mwpm\"]\n",
    "print(\"number of decoders:\", len(decoder_vec))"
   ]
  },
  {
   "cell_type": "code",
   "execution_count": 3,
   "metadata": {},
   "outputs": [
    {
     "name": "stdout",
     "output_type": "stream",
     "text": [
      "zdat-speed-rsc-d-3-p-0-001.json\n"
     ]
    }
   ],
   "source": [
    "from slugify import slugify\n",
    "\n",
    "if json_filename is None:\n",
    "    json_filename = \"zdat-speed-\" + slugify(code) + \".json\"\n",
    "print(json_filename)"
   ]
  },
  {
   "cell_type": "code",
   "execution_count": 4,
   "metadata": {},
   "outputs": [],
   "source": [
    "%load_ext autoreload\n",
    "%autoreload 2"
   ]
  },
  {
   "cell_type": "code",
   "execution_count": 5,
   "metadata": {},
   "outputs": [],
   "source": [
    "from qec_lego_bench.hpc.job_store import Job, JobStore\n",
    "from qec_lego_bench.hpc.submitter import *\n",
    "from qec_lego_bench.hpc.plotter import *\n",
    "from qec_lego_bench.cli.decoding_speed import decoding_speed, DecodingSpeedResult"
   ]
  },
  {
   "cell_type": "markdown",
   "metadata": {},
   "source": [
    "### Define the job list"
   ]
  },
  {
   "cell_type": "code",
   "execution_count": 6,
   "metadata": {},
   "outputs": [],
   "source": [
    "def evaluation_function(\n",
    "    decoder: str, ecr: float, no_detectors: bool, verbose: bool = True\n",
    ") -> DecodingSpeedResult:\n",
    "    if verbose:\n",
    "        print(f\"decoder: {decoder}, ecr: {ecr}, no_detectors: {no_detectors}\")\n",
    "    return decoding_speed(\n",
    "        decoder=decoder,\n",
    "        code=code,\n",
    "        noise=noise,\n",
    "        noise2=f\"erasure_conversion(rate={ecr}\"\n",
    "        + (\",no_detectors=1)\" if no_detectors else \")\"),\n",
    "        **kwargs,\n",
    "        no_print=not verbose,\n",
    "    )\n",
    "\n",
    "\n",
    "jobs = [\n",
    "    Job(decoder, ecr, no_detectors)\n",
    "    for decoder in decoder_vec\n",
    "    for ecr in ecr_vec\n",
    "    for no_detectors in [True, False]\n",
    "]\n",
    "# evaluation_function(decoder_vec[0])"
   ]
  },
  {
   "cell_type": "markdown",
   "metadata": {},
   "source": [
    "## The rest of the notebook runs the evaluation"
   ]
  },
  {
   "cell_type": "markdown",
   "metadata": {},
   "source": [
    "### Define the callback, e.g. plotting the intermediate result and the list of remaining tasks\n",
    "\n",
    "(I have to put them in the same block as the actual execution, otherwise it won't update in VScode)"
   ]
  },
  {
   "cell_type": "code",
   "execution_count": 7,
   "metadata": {},
   "outputs": [
    {
     "name": "stdout",
     "output_type": "stream",
     "text": [
      "decoder: mwpm, ecr: 0.0, no_detectors: True\n",
      "\u001b[KEvaluating initialization of 1024 shots, elapsed: 0.161241s, average: 1.575e-04s per shot\n",
      "initialization time: 1.575e-04s\n",
      "\u001b[KEvaluating decoding of 10000000 shots, elapsed: 0.782662s, average: 7.827e-08s per shot\n",
      "decoding time: 7.827e-08s\n",
      "decoder: mwpm, ecr: 0.0, no_detectors: False\n",
      "\u001b[KEvaluating initialization of 1024 shots, elapsed: 0.162276s, average: 1.585e-04s per shot\n",
      "initialization time: 1.585e-04s\n",
      "\u001b[KEvaluating decoding of 10000000 shots, elapsed: 0.783542s, average: 7.835e-08s per shot\n",
      "decoding time: 7.835e-08s\n",
      "decoder: mwpm, ecr: 0.2, no_detectors: True\n",
      "\u001b[KEvaluating initialization of 1024 shots, elapsed: 0.160973s, average: 1.572e-04s per shot\n",
      "initialization time: 1.572e-04s\n",
      "\u001b[KEvaluating decoding of 10000000 shots, elapsed: 0.802120s, average: 8.021e-08s per shot\n",
      "decoding time: 8.021e-08s\n",
      "decoder: mwpm, ecr: 0.2, no_detectors: False\n",
      "\u001b[KEvaluating initialization of 256 shots, elapsed: 0.160137s, average: 6.255e-04s per shot\n",
      "initialization time: 6.255e-04s\n",
      "\u001b[KEvaluating decoding of 10000000 shots, elapsed: 4.139021s, average: 4.139e-07s per shot\n",
      "decoding time: 4.139e-07s\n",
      "decoder: mwpm, ecr: 0.4, no_detectors: True\n",
      "\u001b[KEvaluating initialization of 1024 shots, elapsed: 0.160052s, average: 1.563e-04s per shot\n",
      "initialization time: 1.563e-04s\n",
      "\u001b[KEvaluating decoding of 10000000 shots, elapsed: 0.828794s, average: 8.288e-08s per shot\n",
      "decoding time: 8.288e-08s\n",
      "decoder: mwpm, ecr: 0.4, no_detectors: False\n",
      "\u001b[KEvaluating initialization of 256 shots, elapsed: 0.160718s, average: 6.278e-04s per shot\n",
      "initialization time: 6.278e-04s\n",
      "\u001b[KEvaluating decoding of 10000000 shots, elapsed: 4.230145s, average: 4.230e-07s per shot\n",
      "decoding time: 4.230e-07s\n",
      "decoder: mwpm, ecr: 0.6000000000000001, no_detectors: True\n",
      "\u001b[KEvaluating initialization of 1024 shots, elapsed: 0.162314s, average: 1.585e-04s per shot\n",
      "initialization time: 1.585e-04s\n",
      "\u001b[KEvaluating decoding of 10000000 shots, elapsed: 0.832304s, average: 8.323e-08s per shot\n",
      "decoding time: 8.323e-08s\n",
      "decoder: mwpm, ecr: 0.6000000000000001, no_detectors: False\n",
      "\u001b[KEvaluating initialization of 256 shots, elapsed: 0.162681s, average: 6.355e-04s per shot\n",
      "initialization time: 6.355e-04s\n",
      "\u001b[KEvaluating decoding of 10000000 shots, elapsed: 4.296336s, average: 4.296e-07s per shot\n",
      "decoding time: 4.296e-07s\n",
      "decoder: mwpm, ecr: 0.8, no_detectors: True\n",
      "\u001b[KEvaluating initialization of 1024 shots, elapsed: 0.161690s, average: 1.579e-04s per shot\n",
      "initialization time: 1.579e-04s\n",
      "\u001b[KEvaluating decoding of 10000000 shots, elapsed: 0.853055s, average: 8.531e-08s per shot\n",
      "decoding time: 8.531e-08s\n",
      "decoder: mwpm, ecr: 0.8, no_detectors: False\n",
      "\u001b[KEvaluating initialization of 256 shots, elapsed: 0.160538s, average: 6.271e-04s per shot\n",
      "initialization time: 6.271e-04s\n",
      "\u001b[KEvaluating decoding of 10000000 shots, elapsed: 4.402202s, average: 4.402e-07s per shot\n",
      "decoding time: 4.402e-07s\n",
      "decoder: mwpm, ecr: 0.9, no_detectors: True\n",
      "\u001b[KEvaluating initialization of 1024 shots, elapsed: 0.161006s, average: 1.572e-04s per shot\n",
      "initialization time: 1.572e-04s\n",
      "\u001b[KEvaluating decoding of 10000000 shots, elapsed: 0.870593s, average: 8.706e-08s per shot\n",
      "decoding time: 8.706e-08s\n",
      "decoder: mwpm, ecr: 0.9, no_detectors: False\n",
      "\u001b[KEvaluating initialization of 256 shots, elapsed: 0.160653s, average: 6.275e-04s per shot\n",
      "initialization time: 6.275e-04s\n",
      "\u001b[KEvaluating decoding of 10000000 shots, elapsed: 4.797056s, average: 4.797e-07s per shot\n",
      "decoding time: 4.797e-07s\n",
      "decoder: mwpm, ecr: 0.95, no_detectors: True\n",
      "\u001b[KEvaluating initialization of 1024 shots, elapsed: 0.162798s, average: 1.590e-04s per shot\n",
      "initialization time: 1.590e-04s\n",
      "\u001b[KEvaluating decoding of 10000000 shots, elapsed: 0.867600s, average: 8.676e-08s per shot\n",
      "decoding time: 8.676e-08s\n",
      "decoder: mwpm, ecr: 0.95, no_detectors: False\n",
      "\u001b[KEvaluating initialization of 256 shots, elapsed: 0.159524s, average: 6.231e-04s per shot\n",
      "initialization time: 6.231e-04s\n",
      "\u001b[KEvaluating decoding of 10000000 shots, elapsed: 4.659707s, average: 4.660e-07s per shot\n",
      "decoding time: 4.660e-07s\n",
      "decoder: mwpm, ecr: 0.98, no_detectors: True\n",
      "\u001b[KEvaluating initialization of 1024 shots, elapsed: 0.160977s, average: 1.572e-04s per shot\n",
      "initialization time: 1.572e-04s\n",
      "\u001b[KEvaluating decoding of 10000000 shots, elapsed: 0.873244s, average: 8.732e-08s per shot\n",
      "decoding time: 8.732e-08s\n",
      "decoder: mwpm, ecr: 0.98, no_detectors: False\n",
      "\u001b[KEvaluating initialization of 256 shots, elapsed: 0.160226s, average: 6.259e-04s per shot\n",
      "initialization time: 6.259e-04s\n",
      "\u001b[KEvaluating decoding of 10000000 shots, elapsed: 4.654564s, average: 4.655e-07s per shot\n",
      "decoding time: 4.655e-07s\n",
      "decoder: mwpm, ecr: 1, no_detectors: True\n",
      "\u001b[KEvaluating initialization of 1024 shots, elapsed: 0.124349s, average: 1.214e-04s per shot\n",
      "initialization time: 1.214e-04s\n",
      "\u001b[KEvaluating decoding of 10000000 shots, elapsed: 0.843827s, average: 8.438e-08s per shot\n",
      "decoding time: 8.438e-08s\n",
      "decoder: mwpm, ecr: 1, no_detectors: False\n",
      "\u001b[KEvaluating initialization of 256 shots, elapsed: 0.125978s, average: 4.921e-04s per shot\n",
      "initialization time: 4.921e-04s\n",
      "\u001b[KEvaluating decoding of 10000000 shots, elapsed: 5.337541s, average: 5.338e-07s per shot\n",
      "decoding time: 5.338e-07s\n"
     ]
    }
   ],
   "source": [
    "import time  # add some sleep to let them work properly in VScode Jupyter notebook\n",
    "\n",
    "\n",
    "def plotter(executor: JobStore):\n",
    "    ...\n",
    "    time.sleep(0.1)\n",
    "\n",
    "job_store = JobStore(evaluation_function, jobs, result_type=DecodingSpeedResult, filename=json_filename)\n",
    "job_store.execute(loop_callback=plotter)"
   ]
  },
  {
   "cell_type": "code",
   "execution_count": null,
   "metadata": {},
   "outputs": [],
   "source": []
  }
 ],
 "metadata": {
  "kernelspec": {
   "display_name": "base",
   "language": "python",
   "name": "python3"
  },
  "language_info": {
   "codemirror_mode": {
    "name": "ipython",
    "version": 3
   },
   "file_extension": ".py",
   "mimetype": "text/x-python",
   "name": "python",
   "nbconvert_exporter": "python",
   "pygments_lexer": "ipython3",
   "version": "3.11.6"
  }
 },
 "nbformat": 4,
 "nbformat_minor": 4
}
