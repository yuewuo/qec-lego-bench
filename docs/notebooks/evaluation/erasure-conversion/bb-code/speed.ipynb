{
 "cells": [
  {
   "cell_type": "markdown",
   "metadata": {},
   "source": [
    "# Evaluating decoding speed"
   ]
  },
  {
   "cell_type": "code",
   "execution_count": 1,
   "metadata": {
    "tags": [
     "parameters"
    ]
   },
   "outputs": [],
   "source": [
    "code: str = \"bb(n=72,k=12,d=6)\"\n",
    "noise: str = \"depolarize(p=0.02)\"\n",
    "\n",
    "kwargs = dict(\n",
    "    min_time = 60,\n",
    "    min_shots = 1000000,  # a couple of them might take hours but usually they are fine\n",
    "    min_init_time = 0.1,\n",
    "    min_init_shots = 1,\n",
    ")\n",
    "\n",
    "starting_index_bias: float = 0.0\n",
    "\n",
    "json_filename: str | None = None\n",
    "force_finished: bool = True  # only plot the figure and do not run experiments"
   ]
  },
  {
   "cell_type": "code",
   "execution_count": 2,
   "metadata": {},
   "outputs": [
    {
     "name": "stdout",
     "output_type": "stream",
     "text": [
      "number of decoders: 14\n"
     ]
    }
   ],
   "source": [
    "ecr_vec: list[float] = [0.2 * e for e in range(5)] + [0.9, 0.95, 0.98, 1]  # erasure conversion rate\n",
    "c_vec = [0, 50, 1000]\n",
    "max_iter_vec = [0, 5]\n",
    "osd_order_vec = [0, 10]\n",
    "\n",
    "mwpf_decoder_vec = [f\"mwpf(c={c})\" for c in c_vec] + [f\"mwpf(c={c},pass_circuit=1)\" for c in c_vec]\n",
    "bposd0_decoder_vec = [f\"bposd(max_iter={max_iter})\" for max_iter in max_iter_vec]\n",
    "bposdn_decoder_vec = [f\"bposd(max_iter={max_iter},osd_order={osd_order},osd_method=osd_e)\" for max_iter in max_iter_vec for osd_order in osd_order_vec]\n",
    "bpuf_decoder_vec = [f\"bpuf(max_iter={max_iter})\" for max_iter in max_iter_vec]\n",
    "\n",
    "decoder_vec = mwpf_decoder_vec + bposd0_decoder_vec + bposdn_decoder_vec + bpuf_decoder_vec\n",
    "print(\"number of decoders:\", len(decoder_vec))"
   ]
  },
  {
   "cell_type": "code",
   "execution_count": 3,
   "metadata": {},
   "outputs": [
    {
     "name": "stdout",
     "output_type": "stream",
     "text": [
      "zdat-speed-bb-n-72-k-12-d-6.json\n"
     ]
    }
   ],
   "source": [
    "from slugify import slugify\n",
    "\n",
    "if json_filename is None:\n",
    "    json_filename = \"zdat-speed-\" + slugify(code) + \".json\"\n",
    "print(json_filename)"
   ]
  },
  {
   "cell_type": "code",
   "execution_count": 4,
   "metadata": {},
   "outputs": [],
   "source": [
    "%load_ext autoreload\n",
    "%autoreload 2"
   ]
  },
  {
   "cell_type": "code",
   "execution_count": 5,
   "metadata": {},
   "outputs": [],
   "source": [
    "from qec_lego_bench.hpc.job_store import Job, JobStore\n",
    "from qec_lego_bench.hpc.submitter import *\n",
    "from qec_lego_bench.hpc.plotter import *\n",
    "from qec_lego_bench.cli.decoding_speed import decoding_speed, DecodingSpeedResult"
   ]
  },
  {
   "cell_type": "markdown",
   "metadata": {},
   "source": [
    "### Define the job list"
   ]
  },
  {
   "cell_type": "code",
   "execution_count": 6,
   "metadata": {},
   "outputs": [],
   "source": [
    "def evaluation_function(\n",
    "    decoder: str, ecr: float, no_detectors: bool, verbose: bool = True\n",
    ") -> DecodingSpeedResult:\n",
    "    if verbose:\n",
    "        print(f\"decoder: {decoder}, ecr: {ecr}, no_detectors: {no_detectors}\", flush=True)\n",
    "    return decoding_speed(\n",
    "        decoder=decoder,\n",
    "        code=code,\n",
    "        noise=noise,\n",
    "        noise2=f\"erasure_conversion(rate={ecr}\"\n",
    "        + (\",no_detectors=1)\" if no_detectors else \")\"),\n",
    "        **kwargs,\n",
    "        no_print=not verbose,\n",
    "    )\n",
    "\n",
    "\n",
    "jobs = [\n",
    "    Job(decoder, ecr, no_detectors)\n",
    "    for decoder in decoder_vec\n",
    "    for ecr in ecr_vec\n",
    "    for no_detectors in [True, False]\n",
    "]\n",
    "# evaluation_function(decoder_vec[0])"
   ]
  },
  {
   "cell_type": "markdown",
   "metadata": {},
   "source": [
    "## The rest of the notebook runs the evaluation"
   ]
  },
  {
   "cell_type": "markdown",
   "metadata": {},
   "source": [
    "### Define the callback, e.g. plotting the intermediate result and the list of remaining tasks\n",
    "\n",
    "(I have to put them in the same block as the actual execution, otherwise it won't update in VScode)"
   ]
  },
  {
   "cell_type": "code",
   "execution_count": 7,
   "metadata": {},
   "outputs": [],
   "source": [
    "import time  # add some sleep to let them work properly in VScode Jupyter notebook\n",
    "\n",
    "\n",
    "def plotter(executor: JobStore):\n",
    "    ...\n",
    "    time.sleep(0.1)\n",
    "\n",
    "job_store = JobStore(evaluation_function, jobs, result_type=DecodingSpeedResult, filename=json_filename)\n",
    "job_store.execute(loop_callback=plotter, starting_index_bias=starting_index_bias)"
   ]
  },
  {
   "cell_type": "code",
   "execution_count": null,
   "metadata": {},
   "outputs": [],
   "source": []
  }
 ],
 "metadata": {
  "kernelspec": {
   "display_name": "base",
   "language": "python",
   "name": "python3"
  },
  "language_info": {
   "codemirror_mode": {
    "name": "ipython",
    "version": 3
   },
   "file_extension": ".py",
   "mimetype": "text/x-python",
   "name": "python",
   "nbconvert_exporter": "python",
   "pygments_lexer": "ipython3",
   "version": "3.11.6"
  }
 },
 "nbformat": 4,
 "nbformat_minor": 4
}
