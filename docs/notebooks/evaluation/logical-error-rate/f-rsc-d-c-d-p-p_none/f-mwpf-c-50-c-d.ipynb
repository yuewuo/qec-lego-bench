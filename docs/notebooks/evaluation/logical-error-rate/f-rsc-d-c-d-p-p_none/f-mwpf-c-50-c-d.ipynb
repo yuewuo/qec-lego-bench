{
 "cells": [
  {
   "cell_type": "markdown",
   "id": "4558f350-dc2d-4dd6-aebf-d5b5007e2d00",
   "metadata": {
    "editable": true,
    "papermill": {},
    "slideshow": {
     "slide_type": ""
    },
    "tags": []
   },
   "source": [
    "# Logical Error Rate Evaluation (rotated surface code)"
   ]
  },
  {
   "cell_type": "code",
   "execution_count": 1,
   "id": "9b66e4b3-9d3f-4b8b-810f-9a9b869b4cac",
   "metadata": {
    "editable": true,
    "papermill": {},
    "slideshow": {
     "slide_type": ""
    },
    "tags": [
     "parameters"
    ]
   },
   "outputs": [],
   "source": [
    "# This cell is tagged `parameters` and will be override by `papermill`\n",
    "# all `=` should be replaced by `@` in the string, otherwise papermill won't be able to parse them\n",
    "decoder_eval: str = '\"mwpm\"'\n",
    "code_eval: str = 'f\"rsc(d@{c.d},p@{p})\"'\n",
    "noise_eval: str = '\"none\"'\n",
    "config_vec_eval: str = '[dmap(d@3), dmap(d@5), dmap(d@7), dmap(d@9), dmap(d@11)]'\n",
    "\n",
    "p_center: float = 0.01  # this p value is choosen such that the logical error rate is not too high or too low\n",
    "per10_p_count: int = 3  # how many p to take per x10 interval\n",
    "\n",
    "slurm_maximum_jobs = 360\n",
    "slurm_cores_per_node: int = 18  # (slurm_maximum_jobs // slurm_cores_per_node) should not exceed 200\n",
    "slurm_mem_per_job: int = 4  # 4GB per job\n",
    "slurm_walltime: str = \"11:00:00\"  # 11 hours (adaptively shutdown if no more jobs)\n",
    "slurm_partition: str = \"scavenge\"\n",
    "\n",
    "local_maximum_jobs = 10\n",
    "\n",
    "json_filename: str | None = None\n",
    "mark_finished: bool = False  # only plot the figure and do not run experiments\n",
    "shudown_cluster: bool | None = None  # by default shutdown on cluster and do not shutdown on local machine"
   ]
  },
  {
   "cell_type": "code",
   "execution_count": 2,
   "id": "a31c6e4d",
   "metadata": {
    "tags": [
     "injected-parameters"
    ]
   },
   "outputs": [],
   "source": [
    "# Parameters\n",
    "code_eval = \"f\\\"rsc(d@{c.d},p@{p})\\\"\"\n",
    "noise_eval = \"\\\"none\\\"\"\n",
    "p_center = 0.01\n",
    "config_vec_eval = \"[dmap(d@3),dmap(d@5),dmap(d@7),dmap(d@9),dmap(d@11)]\"\n",
    "decoder_eval = \"f\\\"mwpf(c@{50*c.d})\\\"\"\n"
   ]
  },
  {
   "cell_type": "code",
   "execution_count": 3,
   "id": "e8033e21",
   "metadata": {
    "papermill": {},
    "tags": []
   },
   "outputs": [],
   "source": [
    "# to get around papermill limitation: there cannot be = character in the string\n",
    "decoder_eval = decoder_eval.replace(\"@\", \"=\")\n",
    "code_eval = code_eval.replace(\"@\", \"=\")\n",
    "noise_eval = noise_eval.replace(\"@\", \"=\")\n",
    "config_vec_eval = config_vec_eval.replace(\"@\", \"=\")"
   ]
  },
  {
   "cell_type": "code",
   "execution_count": null,
   "id": "21bc48d2-1808-4ff7-9e1f-d9ff174bd140",
   "metadata": {
    "papermill": {},
    "tags": []
   },
   "outputs": [],
   "source": [
    "from slugify import slugify\n",
    "from dotmap import DotMap as dmap\n",
    "\n",
    "config_vec = eval(config_vec_eval)\n",
    "print(config_vec)\n",
    "\n",
    "if json_filename is None:\n",
    "    json_filename = slugify(code_eval) + \".\" + slugify(noise_eval) + \".\" + slugify(decoder_eval) + \".json\"\n",
    "print(json_filename)"
   ]
  },
  {
   "cell_type": "code",
   "execution_count": 5,
   "id": "618a1666-7f00-47f9-bb80-c429204a1740",
   "metadata": {
    "papermill": {},
    "tags": []
   },
   "outputs": [],
   "source": [
    "%load_ext autoreload\n",
    "%autoreload 2"
   ]
  },
  {
   "cell_type": "code",
   "execution_count": 6,
   "id": "19d2ec4d-9220-4897-8dd9-38ac8fede4a3",
   "metadata": {
    "editable": true,
    "papermill": {},
    "slideshow": {
     "slide_type": ""
    },
    "tags": []
   },
   "outputs": [],
   "source": [
    "from qec_lego_bench.hpc.monte_carlo import *\n",
    "from qec_lego_bench.hpc.submitter import *\n",
    "from qec_lego_bench.hpc.plotter import *\n",
    "from typing import Iterable\n",
    "from qec_lego_bench.cli.logical_error_rate import logical_error_rate"
   ]
  },
  {
   "cell_type": "markdown",
   "id": "efbc9d8d-2511-40a0-9b90-09ac9cea7ccd",
   "metadata": {
    "editable": true,
    "papermill": {},
    "slideshow": {
     "slide_type": ""
    },
    "tags": []
   },
   "source": [
    "### Define the job list"
   ]
  },
  {
   "cell_type": "code",
   "execution_count": null,
   "id": "751df522-7b2d-435a-9b76-f75c35c42313",
   "metadata": {
    "editable": true,
    "papermill": {},
    "slideshow": {
     "slide_type": ""
    },
    "tags": []
   },
   "outputs": [],
   "source": [
    "ap_vec = AdaptivePVec(p_center=p_center, per10_p_count=per10_p_count)\n",
    "jobs = [MonteCarloJob(config=config, p=p_center) for config in config_vec]\n",
    "\n",
    "\n",
    "def monte_carlo_function(\n",
    "    shots: int, config: dmap, p: float\n",
    ") -> tuple[int, LogicalErrorResult]:\n",
    "    c = config\n",
    "    decoder = eval(decoder_eval)\n",
    "    code = eval(code_eval)\n",
    "    noise = eval(noise_eval)\n",
    "    stats = logical_error_rate(\n",
    "        decoder=decoder,\n",
    "        code=code,\n",
    "        noise=noise,\n",
    "        max_shots=shots,\n",
    "        max_errors=shots,\n",
    "        no_progress=True,\n",
    "        no_print=True,\n",
    "    )\n",
    "    return stats.shots, LogicalErrorResult(errors=stats.errors, discards=stats.discards)\n",
    "\n",
    "\n",
    "monte_carlo_function(1000, config_vec[0], p_center)"
   ]
  },
  {
   "cell_type": "markdown",
   "id": "59078c82-fab1-46a8-9ce6-f6e27f3e3b71",
   "metadata": {
    "editable": true,
    "papermill": {},
    "slideshow": {
     "slide_type": ""
    },
    "tags": []
   },
   "source": [
    "### Define the strategy to submit jobs"
   ]
  },
  {
   "cell_type": "code",
   "execution_count": 8,
   "id": "c492f928-ba37-4157-9f01-9e495330da6e",
   "metadata": {
    "editable": true,
    "papermill": {},
    "slideshow": {
     "slide_type": ""
    },
    "tags": []
   },
   "outputs": [],
   "source": [
    "adaptive_submitter = AdaptivePVecSubmitter(\n",
    "    config_vec=config_vec,\n",
    "    ap_vec=ap_vec,\n",
    "    time_limit=3600,\n",
    "    min_shots=1000,\n",
    "    target_precision=0.1,\n",
    ")\n",
    "precision_submitter = PrecisionSubmitter(\n",
    "    time_limit=100 * 3600, min_precision=1, target_precision=0.03\n",
    ")\n",
    "\n",
    "\n",
    "def submitter(executor: MonteCarloJobExecutor) -> list[tuple[MonteCarloJob, int]]:\n",
    "    submit = adaptive_submitter(executor)\n",
    "    if len(submit) == 0 and executor.no_pending():  # previous submitter all finished\n",
    "        submit += precision_submitter(executor)\n",
    "    return submit"
   ]
  },
  {
   "cell_type": "markdown",
   "id": "5a81e72d-ae6b-4919-bbee-42e4bfb850ad",
   "metadata": {
    "editable": true,
    "papermill": {},
    "slideshow": {
     "slide_type": ""
    },
    "tags": []
   },
   "source": [
    "## The rest of the notebook runs the evaluation"
   ]
  },
  {
   "cell_type": "markdown",
   "id": "7b348d2e-791c-47dd-8431-ff14a342abe5",
   "metadata": {
    "editable": true,
    "papermill": {},
    "slideshow": {
     "slide_type": ""
    },
    "tags": []
   },
   "source": [
    "Start a cluster by intelligently choose Slurm or Local cluster."
   ]
  },
  {
   "cell_type": "code",
   "execution_count": null,
   "id": "f57c92da-d8b8-462a-aa6e-367d21a1bd61",
   "metadata": {
    "editable": true,
    "papermill": {},
    "slideshow": {
     "slide_type": ""
    },
    "tags": []
   },
   "outputs": [],
   "source": [
    "if not mark_finished:\n",
    "    try:\n",
    "        from dask_jobqueue import SLURMCluster\n",
    "        from dask.distributed import Client\n",
    "        n_workers = slurm_maximum_jobs // slurm_cores_per_node\n",
    "        assert n_workers <= 200, \"Yale HPC forbids submitting more than 200 jobs per hour\"\n",
    "        slurm_job_folder = os.path.join(os.path.abspath(os.getcwd()), \"slurm_job\")\n",
    "        cluster = SLURMCluster(\n",
    "            queue=slurm_partition,\n",
    "            cores=slurm_cores_per_node,\n",
    "            processes=slurm_cores_per_node,\n",
    "            memory=f\"{slurm_mem_per_job * slurm_cores_per_node} GB\",\n",
    "            walltime=slurm_walltime,\n",
    "            job_extra_directives=[f'--out=\"{slurm_job_folder}/%j.out\"', f'--error=\"{slurm_job_folder}/%j.err\"'],\n",
    "        )\n",
    "        print(cluster.job_script())\n",
    "        # cluster.scale(slurm_maximum_jobs)\n",
    "        cluster.adapt(minimum=slurm_maximum_jobs, maximum=slurm_maximum_jobs)  # allow respawn\n",
    "        if shudown_cluster is None:\n",
    "            shudown_cluster = True\n",
    "    except Exception as e:\n",
    "        print(e)\n",
    "        from dask.distributed import Client, LocalCluster\n",
    "        cluster = LocalCluster(n_workers=local_maximum_jobs)\n",
    "        if shudown_cluster is None:\n",
    "            shudown_cluster = False\n",
    "    print(cluster.dashboard_link)\n",
    "    cluster"
   ]
  },
  {
   "cell_type": "code",
   "execution_count": 10,
   "id": "52eb6eef-7a86-4612-8dc4-34b8fc9260f5",
   "metadata": {
    "papermill": {},
    "tags": []
   },
   "outputs": [],
   "source": [
    "config = MonteCarloExecutorConfig()\n",
    "config.max_submitted_job = max(config.max_submitted_job, 3 * slurm_maximum_jobs)\n",
    "executor = MonteCarloJobExecutor(\n",
    "    monte_carlo_function,\n",
    "    jobs,\n",
    "    config=config,\n",
    "    filename=json_filename,\n",
    ")"
   ]
  },
  {
   "cell_type": "markdown",
   "id": "de3669be",
   "metadata": {
    "papermill": {},
    "tags": []
   },
   "source": [
    "### Define the callback, e.g. plotting the intermediate result and the list of remaining tasks\n",
    "\n",
    "(I have to put them in the same block as the actual execution, otherwise it won't update in VScode)"
   ]
  },
  {
   "cell_type": "code",
   "execution_count": null,
   "id": "ae195c2f-0e8e-41d2-865e-619d62e8a8ab",
   "metadata": {
    "editable": true,
    "papermill": {},
    "slideshow": {
     "slide_type": ""
    },
    "tags": []
   },
   "outputs": [],
   "source": [
    "plotter = AdaptivePVecPlotter(config_vec=config_vec, ap_vec=ap_vec)\n",
    "progress_plotter = JobProgressPlotter()\n",
    "memory_plotter = MemoryUsagePlotter()\n",
    "\n",
    "\n",
    "def callback(executor: MonteCarloJobExecutor):\n",
    "    plotter(executor)\n",
    "    progress_plotter(executor)\n",
    "    memory_plotter(executor)\n",
    "\n",
    "\n",
    "if mark_finished:\n",
    "    executor.execute(None, submitter, loop_callback=callback)\n",
    "else:\n",
    "    if shudown_cluster:\n",
    "        print(\n",
    "            \"will shut down the cluster after job finishes; if this is not desired, set `shudown_cluster` to False\"\n",
    "        )\n",
    "    with Client(cluster) as client:\n",
    "        try:\n",
    "            executor.execute(client, submitter, loop_callback=callback)\n",
    "        finally:\n",
    "            if shudown_cluster:\n",
    "                print(\n",
    "                    \"shutting down the whole cluster; if this is not desired, set `shudown_cluster` to False\"\n",
    "                )\n",
    "                client.shutdown()"
   ]
  },
  {
   "cell_type": "code",
   "execution_count": null,
   "id": "c7543de8-b8d4-49a0-8af3-87c76179ed3a",
   "metadata": {
    "editable": true,
    "papermill": {},
    "slideshow": {
     "slide_type": ""
    },
    "tags": []
   },
   "outputs": [],
   "source": []
  }
 ],
 "metadata": {
  "kernelspec": {
   "display_name": "base",
   "language": "python",
   "name": "python3"
  },
  "language_info": {
   "codemirror_mode": {
    "name": "ipython",
    "version": 3
   },
   "file_extension": ".py",
   "mimetype": "text/x-python",
   "name": "python",
   "nbconvert_exporter": "python",
   "pygments_lexer": "ipython3",
   "version": "3.11.6"
  },
  "papermill": {
   "default_parameters": {},
   "environment_variables": {},
   "input_path": "template-simple.ipynb",
   "output_path": "f-rsc-d-c-d-p-p_none/f-mwpf-c-50-c-d.ipynb",
   "parameters": {
    "code_eval": "f\"rsc(d@{c.d},p@{p})\"",
    "config_vec_eval": "[dmap(d@3),dmap(d@5),dmap(d@7),dmap(d@9),dmap(d@11)]",
    "decoder_eval": "f\"mwpf(c@{50*c.d})\"",
    "noise_eval": "\"none\"",
    "p_center": 0.01
   },
   "version": "2.6.0"
  }
 },
 "nbformat": 4,
 "nbformat_minor": 5
}
