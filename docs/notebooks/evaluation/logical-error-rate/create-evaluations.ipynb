{
 "cells": [
  {
   "cell_type": "markdown",
   "id": "9dac5cbe-2f50-4d12-834a-a0f5c3fca75d",
   "metadata": {},
   "source": [
    "# Create Notebooks but not run them\n",
    "\n",
    "One should check [how-to-run-notebook-on-cluster.ipynb](../how-to-run-notebook-on-cluster.ipynb) for executing the notebooks on a cluster.\n",
    "For here, we only generate evaluation notebooks **if they do not exist**.\n",
    "Thus, you can effectively force a rerun, or update the notebook to the latest version, by removing the old notebooks.\n",
    "You can also choose to remove the JSON data or not, depending on your needs."
   ]
  },
  {
   "cell_type": "code",
   "execution_count": 2,
   "id": "fb35a986",
   "metadata": {},
   "outputs": [
    {
     "name": "stdout",
     "output_type": "stream",
     "text": [
      "available keys\n",
      "    - decoder_eval: str = '\"mwpm\"'\n",
      "    - code_eval: str = 'f\"rsc(d@{c.d},p@{p})\"'\n",
      "    - noise_eval: str = '\"none\"'\n",
      "    - config_vec_eval: str = '[dmap(d@3), dmap(d@5), dmap(d@7), dmap(d@9), dmap(d@11)]'\n",
      "    - p_center: float = 0.01\n",
      "    - per10_p_count: int = 3\n",
      "    - slurm_maximum_jobs: None = 360\n",
      "    - slurm_cores_per_node: int = 18\n",
      "    - slurm_mem_per_job: int = 4\n",
      "    - slurm_walltime: str = \"11:00:00\"\n",
      "    - slurm_partition: str = \"scavenge\"\n",
      "    - local_maximum_jobs: None = 10\n",
      "    - mark_finished: bool = False\n"
     ]
    }
   ],
   "source": [
    "import os, sys, time\n",
    "import papermill as pm\n",
    "from dotmap import DotMap as dmap\n",
    "from slugify import slugify\n",
    "\n",
    "template_path = 'template-simple.ipynb'\n",
    "inspected = pm.inspect_notebook(template_path)\n",
    "print(\"available keys\")\n",
    "for key, value in inspected.items():\n",
    "    v = dmap(value)\n",
    "    print(f\"    - {key}: {v.inferred_type_name} = {v.default}\")"
   ]
  },
  {
   "cell_type": "markdown",
   "id": "91cda08c",
   "metadata": {},
   "source": [
    "## Rotated Surface Code"
   ]
  },
  {
   "cell_type": "code",
   "execution_count": 5,
   "id": "dbd6b87f-d9bf-4d02-a6a7-504559262b15",
   "metadata": {},
   "outputs": [
    {
     "name": "stdout",
     "output_type": "stream",
     "text": [
      "config_vec_eval: [dmap(d@3),dmap(d@5),dmap(d@7),dmap(d@9),dmap(d@11)]\n",
      "skip existing: f-rsc-d-c-d-p-p_none/mwpm.ipynb\n",
      "skip existing: f-rsc-d-c-d-p-p_none/mwpf.ipynb\n",
      "skip existing: f-rsc-d-c-d-p-p_none/huf.ipynb\n",
      "skip existing: f-rsc-d-c-d-p-p_none/f-mwpf-c-50-c-d.ipynb\n",
      "skip existing: f-rsc-d-c-d-p-p_none/bposd.ipynb\n",
      "skip existing: f-rsc-d-c-d-p-p_none/bposd-max-iter-5.ipynb\n",
      "skip existing: f-rsc-d-c-d-p-p_none/bposd-max-iter-5-osd-order-10-osd-method-osd-e.ipynb\n",
      "skip existing: f-rsc-d-c-d-p-p_none/bpuf.ipynb\n",
      "skip existing: f-rsc-d-c-d-p-p_none/bpuf-max-iter-5.ipynb\n"
     ]
    }
   ],
   "source": [
    "d_vec = [3, 5, 7, 9, 11]\n",
    "\n",
    "rsc_parameters = dict(\n",
    "    code_eval = 'f\"rsc(d@{c.d},p@{p})\"',\n",
    "    noise_eval = '\"none\"',\n",
    "    p_center = 0.01,\n",
    "    config_vec_eval=\"[\" + \",\".join(f\"dmap(d@{d})\" for d in d_vec) + \"]\",\n",
    ")\n",
    "\n",
    "print(\"config_vec_eval:\", rsc_parameters[\"config_vec_eval\"])\n",
    "\n",
    "folder = slugify(rsc_parameters[\"code_eval\"]) + \"_\" + slugify(rsc_parameters[\"noise_eval\"])\n",
    "os.makedirs(folder, exist_ok=True)\n",
    "\n",
    "decoder_eval_vec = [\n",
    "    '\"mwpm\"',\n",
    "    '\"mwpf\"',\n",
    "    '\"huf\"',\n",
    "    'f\"mwpf(c@{50*c.d})\"',  # auto scaling\n",
    "    '\"bposd\"',\n",
    "    '\"bposd(max_iter@5)\"',\n",
    "    '\"bposd(max_iter@5,osd_order@10,osd_method@osd_e)\"',\n",
    "    '\"bpuf\"',\n",
    "    '\"bpuf(max_iter@5)\"',\n",
    "]\n",
    "\n",
    "for decoder_eval in decoder_eval_vec:\n",
    "    parameters = dict(\n",
    "        **rsc_parameters,\n",
    "        decoder_eval=decoder_eval,\n",
    "    )\n",
    "    notebook_path = os.path.join(folder, slugify(decoder_eval) + \".ipynb\")\n",
    "    if os.path.exists(notebook_path):\n",
    "        print(\"skip existing:\", notebook_path)\n",
    "    else:\n",
    "        print(\"parameters:\", parameters)\n",
    "        pm.execute_notebook(\n",
    "            template_path,\n",
    "            notebook_path,\n",
    "            parameters=parameters,\n",
    "            prepare_only=True,  # do not run the notebook\n",
    "        )"
   ]
  },
  {
   "cell_type": "code",
   "execution_count": null,
   "id": "b44c8430",
   "metadata": {},
   "outputs": [],
   "source": []
  }
 ],
 "metadata": {
  "kernelspec": {
   "display_name": "base",
   "language": "python",
   "name": "python3"
  },
  "language_info": {
   "codemirror_mode": {
    "name": "ipython",
    "version": 3
   },
   "file_extension": ".py",
   "mimetype": "text/x-python",
   "name": "python",
   "nbconvert_exporter": "python",
   "pygments_lexer": "ipython3",
   "version": "3.11.6"
  }
 },
 "nbformat": 4,
 "nbformat_minor": 5
}
