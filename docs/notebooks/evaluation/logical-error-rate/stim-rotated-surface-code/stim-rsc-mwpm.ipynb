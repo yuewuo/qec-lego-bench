{
 "cells": [
  {
   "cell_type": "markdown",
   "id": "4558f350-dc2d-4dd6-aebf-d5b5007e2d00",
   "metadata": {
    "editable": true,
    "slideshow": {
     "slide_type": ""
    },
    "tags": []
   },
   "source": [
    "# Logical Error Rate Evaluation (rotated surface code)"
   ]
  },
  {
   "cell_type": "markdown",
   "id": "df965281-7d34-4b60-8bc0-77f5f193c59d",
   "metadata": {
    "editable": true,
    "slideshow": {
     "slide_type": ""
    },
    "tags": []
   },
   "source": [
    "This notebook is parameterized. To generate a logical error rate figure for a particular decoder, code and noise model, modify the following cell or use [papermill]()\n",
    "\n",
    "```sh\n",
    "# for example\n",
    "papermill example.ipynb bposd.ipynb -p decoder 'bposd(max_iter=5)'\n",
    "```"
   ]
  },
  {
   "cell_type": "code",
   "execution_count": 1,
   "id": "9b66e4b3-9d3f-4b8b-810f-9a9b869b4cac",
   "metadata": {
    "editable": true,
    "slideshow": {
     "slide_type": ""
    },
    "tags": [
     "parameters"
    ]
   },
   "outputs": [],
   "source": [
    "# This cell is tagged `parameters` and will be override by `papermill`\n",
    "decoder = \"mwpm\"\n",
    "json_filename = \"mwpm.json\"  # where to save the result, must be provided\n",
    "\n",
    "slurm_maximum_jobs = 1000\n",
    "local_maximum_jobs = 10"
   ]
  },
  {
   "cell_type": "code",
   "execution_count": 2,
   "id": "19d2ec4d-9220-4897-8dd9-38ac8fede4a3",
   "metadata": {
    "editable": true,
    "slideshow": {
     "slide_type": ""
    },
    "tags": []
   },
   "outputs": [],
   "source": [
    "from qec_lego_bench.hpc.monte_carlo import MonteCarloJob, LogicalErrorResult, MonteCarloJobExecutor\n",
    "from qec_lego_bench.hpc.submitter.min_shots_submitter import MinShotsSubmitter\n",
    "from qec_lego_bench.hpc.submitter.precision_submitter import PrecisionSubmitter\n",
    "from qec_lego_bench.hpc.plotter.job_progress_plotter import JobProgressPlotter\n",
    "from qec_lego_bench.hpc.plotter.logical_error_rate_plotter import LogicalErrorRatePlotter\n",
    "from typing import Iterable\n",
    "from qec_lego_bench.cli.logical_error_rate import logical_error_rate"
   ]
  },
  {
   "cell_type": "markdown",
   "id": "efbc9d8d-2511-40a0-9b90-09ac9cea7ccd",
   "metadata": {
    "editable": true,
    "slideshow": {
     "slide_type": ""
    },
    "tags": []
   },
   "source": [
    "### Define the job list"
   ]
  },
  {
   "cell_type": "code",
   "execution_count": 11,
   "id": "751df522-7b2d-435a-9b76-f75c35c42313",
   "metadata": {
    "editable": true,
    "slideshow": {
     "slide_type": ""
    },
    "tags": []
   },
   "outputs": [
    {
     "data": {
      "text/plain": [
       "(1000, LogicalErrorResult(errors=296, discards=0))"
      ]
     },
     "execution_count": 11,
     "metadata": {},
     "output_type": "execute_result"
    }
   ],
   "source": [
    "d_vec = [3, 5, 7, 9, 11]\n",
    "p_vec = [0.03 * 0.1 ** (i / 8) for i in range(1, 24)]\n",
    "\n",
    "# d_vec = [3]\n",
    "# p_vec = [0.01, 0.03]\n",
    "\n",
    "jobs = [MonteCarloJob(d=d, p=p) for d in d_vec for p in p_vec]\n",
    "\n",
    "\n",
    "def monte_carlo_function(shots: int, d: int, p: float) -> tuple[int, LogicalErrorResult]:\n",
    "    stats = logical_error_rate(decoder=decoder, code=f\"rsc(d={d},p={p})\", max_shots=shots, max_errors=shots, no_progress=True, no_print=True)\n",
    "    return stats.shots, LogicalErrorResult(errors=stats.errors, discards=stats.discards)\n",
    "\n",
    "monte_carlo_function(1000, min(d_vec), max(p_vec))"
   ]
  },
  {
   "cell_type": "markdown",
   "id": "59078c82-fab1-46a8-9ce6-f6e27f3e3b71",
   "metadata": {
    "editable": true,
    "slideshow": {
     "slide_type": ""
    },
    "tags": []
   },
   "source": [
    "### Define the strategy to submit jobs"
   ]
  },
  {
   "cell_type": "code",
   "execution_count": 4,
   "id": "c492f928-ba37-4157-9f01-9e495330da6e",
   "metadata": {
    "editable": true,
    "slideshow": {
     "slide_type": ""
    },
    "tags": []
   },
   "outputs": [],
   "source": [
    "min_shots_submitter = MinShotsSubmitter(shots=10000)\n",
    "precision_submitter = PrecisionSubmitter(time_limit=10*3600, min_precision=1)\n",
    "more_precision_submitter = PrecisionSubmitter(time_limit=50*3600, min_precision=2)\n",
    "def submitter(jobs: Iterable[MonteCarloJob]) -> list[tuple[MonteCarloJob, int]]:\n",
    "    submit = min_shots_submitter(jobs)\n",
    "    submit += precision_submitter(jobs)\n",
    "    if len(submit) == 0 and all([job.pending_shots == 0 for job in jobs]):  # previous submitter all finished\n",
    "        submit += more_precision_submitter(jobs)\n",
    "    return submit"
   ]
  },
  {
   "cell_type": "markdown",
   "id": "194f4f5c-b7eb-45a3-a273-cfdc555505f4",
   "metadata": {
    "editable": true,
    "slideshow": {
     "slide_type": ""
    },
    "tags": []
   },
   "source": [
    "### Define the callback, e.g. plotting the intermediate result and the list of remaining tasks"
   ]
  },
  {
   "cell_type": "code",
   "execution_count": 5,
   "id": "68bf2b6c-4b76-430d-9bec-5cd45a5428f7",
   "metadata": {
    "editable": true,
    "slideshow": {
     "slide_type": ""
    },
    "tags": []
   },
   "outputs": [
    {
     "data": {
      "image/png": "[encoded data removed]",
      "text/plain": [
       "<Figure size 640x480 with 1 Axes>"
      ]
     },
     "metadata": {},
     "output_type": "display_data"
    },
    {
     "data": {
      "image/png": "[encoded data removed]",
      "text/plain": [
       "<Figure size 640x480 with 1 Axes>"
      ]
     },
     "metadata": {},
     "output_type": "display_data"
    }
   ],
   "source": [
    "plotter = LogicalErrorRatePlotter(d_vec, p_vec)\n",
    "progress_plotter = JobProgressPlotter()\n",
    "def callback(executor: MonteCarloJobExecutor):\n",
    "    plotter(executor)\n",
    "    progress_plotter(executor)"
   ]
  },
  {
   "cell_type": "markdown",
   "id": "5a81e72d-ae6b-4919-bbee-42e4bfb850ad",
   "metadata": {
    "editable": true,
    "slideshow": {
     "slide_type": ""
    },
    "tags": []
   },
   "source": [
    "# The rest of the notebook runs the evaluation"
   ]
  },
  {
   "cell_type": "markdown",
   "id": "7b348d2e-791c-47dd-8431-ff14a342abe5",
   "metadata": {
    "editable": true,
    "slideshow": {
     "slide_type": ""
    },
    "tags": []
   },
   "source": [
    "Start a cluster by intelligently choose Slurm or Local cluster."
   ]
  },
  {
   "cell_type": "code",
   "execution_count": 12,
   "id": "f57c92da-d8b8-462a-aa6e-367d21a1bd61",
   "metadata": {
    "editable": true,
    "slideshow": {
     "slide_type": ""
    },
    "tags": []
   },
   "outputs": [
    {
     "name": "stderr",
     "output_type": "stream",
     "text": [
      "/opt/homebrew/Caskroom/miniconda/base/lib/python3.11/site-packages/distributed/node.py:187: UserWarning: Port 8787 is already in use.\n",
      "Perhaps you already have a cluster running?\n",
      "Hosting the HTTP server on port 63565 instead\n",
      "  warnings.warn(\n",
      "2025-01-24 10:09:03,946 - distributed.scheduler - WARNING - Removing worker 'tcp://127.0.0.1:63580' caused the cluster to lose already computed task(s), which will be recomputed elsewhere: {'monitored_job-4aa955eace4b0aeebf9adcafac9a4570'} (stimulus_id='handle-worker-cleanup-1737731343.9467762')\n",
      "2025-01-24 10:09:03,947 - distributed.scheduler - WARNING - Removing worker 'tcp://127.0.0.1:63579' caused the cluster to lose already computed task(s), which will be recomputed elsewhere: {'monitored_job-f121060c7c66df9e556fab7f29ff75ae'} (stimulus_id='handle-worker-cleanup-1737731343.947871')\n"
     ]
    }
   ],
   "source": [
    "try:\n",
    "    from dask_jobqueue import SLURMCluster\n",
    "    cluster = SLURMCluster(\n",
    "        queue='scavenge',\n",
    "        cores=1,\n",
    "        memory=\"4 GB\"\n",
    "    )\n",
    "    cluster.scale(slurm_maximum_jobs)\n",
    "except:\n",
    "    from dask.distributed import Client, LocalCluster\n",
    "    cluster = LocalCluster()\n",
    "    cluster.scale(local_maximum_jobs)"
   ]
  },
  {
   "cell_type": "code",
   "execution_count": 15,
   "id": "81b8ed34-0107-4ea3-a434-d4cf2cf32067",
   "metadata": {
    "editable": true,
    "slideshow": {
     "slide_type": ""
    },
    "tags": []
   },
   "outputs": [
    {
     "data": {
      "application/vnd.jupyter.widget-view+json": {
       "model_id": "62b304e0ce3840baba2ce35983bd6a0b",
       "version_major": 2,
       "version_minor": 0
      },
      "text/html": [
       "<div class=\"jp-RenderedHTMLCommon jp-RenderedHTML jp-mod-trusted jp-OutputArea-output\">\n",
       "    <div style=\"width: 24px; height: 24px; background-color: #e1e1e1; border: 3px solid #9D9D9D; border-radius: 5px; position: absolute;\">\n",
       "    </div>\n",
       "    <div style=\"margin-left: 48px;\">\n",
       "        <h3 style=\"margin-bottom: 0px; margin-top: 0px;\">LocalCluster</h3>\n",
       "        <p style=\"color: #9D9D9D; margin-bottom: 0px;\">f7adec60</p>\n",
       "        <table style=\"width: 100%; text-align: left;\">\n",
       "            <tr>\n",
       "                <td style=\"text-align: left;\">\n",
       "                    <strong>Dashboard:</strong> <a href=\"http://127.0.0.1:63565/status\" target=\"_blank\">http://127.0.0.1:63565/status</a>\n",
       "                </td>\n",
       "                <td style=\"text-align: left;\">\n",
       "                    <strong>Workers:</strong> 0\n",
       "                </td>\n",
       "            </tr>\n",
       "            <tr>\n",
       "                <td style=\"text-align: left;\">\n",
       "                    <strong>Total threads:</strong> 0\n",
       "                </td>\n",
       "                <td style=\"text-align: left;\">\n",
       "                    <strong>Total memory:</strong> 0 B\n",
       "                </td>\n",
       "            </tr>\n",
       "            \n",
       "            <tr>\n",
       "    <td style=\"text-align: left;\"><strong>Status:</strong> closed</td>\n",
       "    <td style=\"text-align: left;\"><strong>Using processes:</strong> True</td>\n",
       "</tr>\n",
       "\n",
       "            \n",
       "        </table>\n",
       "\n",
       "        <details>\n",
       "            <summary style=\"margin-bottom: 20px;\">\n",
       "                <h3 style=\"display: inline;\">Scheduler Info</h3>\n",
       "            </summary>\n",
       "\n",
       "            <div style=\"\">\n",
       "    <div>\n",
       "        <div style=\"width: 24px; height: 24px; background-color: #FFF7E5; border: 3px solid #FF6132; border-radius: 5px; position: absolute;\"> </div>\n",
       "        <div style=\"margin-left: 48px;\">\n",
       "            <h3 style=\"margin-bottom: 0px;\">Scheduler</h3>\n",
       "            <p style=\"color: #9D9D9D; margin-bottom: 0px;\">Scheduler-4aee2d32-3e01-44b2-8633-35a81287ea95</p>\n",
       "            <table style=\"width: 100%; text-align: left;\">\n",
       "                <tr>\n",
       "                    <td style=\"text-align: left;\">\n",
       "                        <strong>Comm:</strong> tcp://127.0.0.1:63566\n",
       "                    </td>\n",
       "                    <td style=\"text-align: left;\">\n",
       "                        <strong>Workers:</strong> 0\n",
       "                    </td>\n",
       "                </tr>\n",
       "                <tr>\n",
       "                    <td style=\"text-align: left;\">\n",
       "                        <strong>Dashboard:</strong> <a href=\"http://127.0.0.1:63565/status\" target=\"_blank\">http://127.0.0.1:63565/status</a>\n",
       "                    </td>\n",
       "                    <td style=\"text-align: left;\">\n",
       "                        <strong>Total threads:</strong> 0\n",
       "                    </td>\n",
       "                </tr>\n",
       "                <tr>\n",
       "                    <td style=\"text-align: left;\">\n",
       "                        <strong>Started:</strong> Just now\n",
       "                    </td>\n",
       "                    <td style=\"text-align: left;\">\n",
       "                        <strong>Total memory:</strong> 0 B\n",
       "                    </td>\n",
       "                </tr>\n",
       "            </table>\n",
       "        </div>\n",
       "    </div>\n",
       "\n",
       "    <details style=\"margin-left: 48px;\">\n",
       "        <summary style=\"margin-bottom: 20px;\">\n",
       "            <h3 style=\"display: inline;\">Workers</h3>\n",
       "        </summary>\n",
       "\n",
       "        \n",
       "\n",
       "    </details>\n",
       "</div>\n",
       "\n",
       "        </details>\n",
       "    </div>\n",
       "</div>"
      ],
      "text/plain": [
       "LocalCluster(f7adec60, 'tcp://127.0.0.1:63566', workers=0, threads=0, memory=0 B)"
      ]
     },
     "metadata": {},
     "output_type": "display_data"
    }
   ],
   "source": [
    "cluster"
   ]
  },
  {
   "cell_type": "code",
   "execution_count": 14,
   "id": "d12e4be5-3854-4a98-94a9-fba08a56eca9",
   "metadata": {
    "editable": true,
    "slideshow": {
     "slide_type": ""
    },
    "tags": []
   },
   "outputs": [],
   "source": [
    "with Client(cluster) as client:\n",
    "    try:\n",
    "        executor = MonteCarloJobExecutor(\n",
    "            client,\n",
    "            monte_carlo_function,\n",
    "            jobs,\n",
    "            filename=json_filename,\n",
    "        )\n",
    "        executor.execute(submitter, loop_callback=callback)\n",
    "    finally:\n",
    "        print(\"shutting down the whole cluster; if this is not desired, comment it out\")\n",
    "        client.shutdown()"
   ]
  },
  {
   "cell_type": "code",
   "execution_count": null,
   "id": "c7543de8-b8d4-49a0-8af3-87c76179ed3a",
   "metadata": {
    "editable": true,
    "slideshow": {
     "slide_type": ""
    },
    "tags": []
   },
   "outputs": [],
   "source": []
  }
 ],
 "metadata": {
  "kernelspec": {
   "display_name": "Python 3 (ipykernel)",
   "language": "python",
   "name": "python3"
  },
  "language_info": {
   "codemirror_mode": {
    "name": "ipython",
    "version": 3
   },
   "file_extension": ".py",
   "mimetype": "text/x-python",
   "name": "python",
   "nbconvert_exporter": "python",
   "pygments_lexer": "ipython3",
   "version": "3.11.6"
  }
 },
 "nbformat": 4,
 "nbformat_minor": 5
}
