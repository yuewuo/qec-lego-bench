{
 "cells": [
  {
   "cell_type": "markdown",
   "id": "9dac5cbe-2f50-4d12-834a-a0f5c3fca75d",
   "metadata": {},
   "source": [
    "# Create Notebooks but not run them"
   ]
  },
  {
   "cell_type": "code",
   "execution_count": null,
   "id": "dbd6b87f-d9bf-4d02-a6a7-504559262b15",
   "metadata": {},
   "outputs": [],
   "source": [
    "1 + 1"
   ]
  }
 ],
 "metadata": {
  "kernelspec": {
   "display_name": "Python 3 (ipykernel)",
   "language": "python",
   "name": "python3"
  },
  "language_info": {
   "codemirror_mode": {
    "name": "ipython",
    "version": 3
   },
   "file_extension": ".py",
   "mimetype": "text/x-python",
   "name": "python",
   "nbconvert_exporter": "python",
   "pygments_lexer": "ipython3",
   "version": "3.11.6"
  }
 },
 "nbformat": 4,
 "nbformat_minor": 5
}
