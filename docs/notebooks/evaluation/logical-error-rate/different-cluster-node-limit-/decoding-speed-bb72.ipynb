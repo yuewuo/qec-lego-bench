{
 "cells": [
  {
   "cell_type": "markdown",
   "id": "a3082d18-56df-4834-8963-586a5500bced",
   "metadata": {
    "editable": true,
    "papermill": {
     "duration": 0.002743,
     "end_time": "2025-01-30T07:30:59.479453",
     "exception": false,
     "start_time": "2025-01-30T07:30:59.476710",
     "status": "completed"
    },
    "slideshow": {
     "slide_type": ""
    },
    "tags": []
   },
   "source": [
    "# Decoding Speed"
   ]
  },
  {
   "cell_type": "code",
   "execution_count": 1,
   "id": "afceb91f-5b83-487f-96f9-5015002f5daf",
   "metadata": {
    "editable": true,
    "papermill": {
     "duration": 0.007266,
     "end_time": "2025-01-30T07:30:59.488685",
     "exception": false,
     "start_time": "2025-01-30T07:30:59.481419",
     "status": "completed"
    },
    "slideshow": {
     "slide_type": ""
    },
    "tags": [
     "parameters"
    ]
   },
   "outputs": [],
   "source": [
    "# This cell is tagged `parameters` and will be override by `papermill`\n",
    "json_filename: str = \"speed-bb72.json\"  # where to save the result, must be provided\n",
    "code: str = \"bb(n=72,k=12,d=6)\"\n",
    "noise: str = \"depolarize(p=0.01)\"\n",
    "\n",
    "kwargs = dict(\n",
    "    min_time = 60,\n",
    "    min_shots = 50,\n",
    "    min_init_time = 0.1,\n",
    "    min_init_shots = 1,\n",
    ")"
   ]
  },
  {
   "cell_type": "code",
   "execution_count": 2,
   "id": "5e4bf8f4-0e7c-453e-aacd-18c9061a999c",
   "metadata": {
    "editable": true,
    "papermill": {
     "duration": 0.012077,
     "end_time": "2025-01-30T07:30:59.507403",
     "exception": false,
     "start_time": "2025-01-30T07:30:59.495326",
     "status": "completed"
    },
    "slideshow": {
     "slide_type": ""
    },
    "tags": []
   },
   "outputs": [],
   "source": [
    "%load_ext autoreload\n",
    "%autoreload 2"
   ]
  },
  {
   "cell_type": "code",
   "execution_count": 3,
   "id": "552dcc10-a319-487b-a20b-09221382176b",
   "metadata": {
    "editable": true,
    "papermill": {
     "duration": 0.008583,
     "end_time": "2025-01-30T07:30:59.517282",
     "exception": false,
     "start_time": "2025-01-30T07:30:59.508699",
     "status": "completed"
    },
    "slideshow": {
     "slide_type": ""
    },
    "tags": []
   },
   "outputs": [],
   "source": [
    "# import psutil\n",
    "# psutil.Process().nice(0)# if on *ux\n",
    "# psutil.Process().nice(psutil.IDLE_PRIORITY_CLASS)# if on win"
   ]
  },
  {
   "cell_type": "code",
   "execution_count": 4,
   "id": "f4ce38b6-65b8-4ec5-b097-aab9f6943e10",
   "metadata": {
    "editable": true,
    "papermill": {
     "duration": 1.112265,
     "end_time": "2025-01-30T07:31:00.630845",
     "exception": false,
     "start_time": "2025-01-30T07:30:59.518580",
     "status": "completed"
    },
    "slideshow": {
     "slide_type": ""
    },
    "tags": []
   },
   "outputs": [],
   "source": [
    "from qec_lego_bench.cli.decoding_speed import decoding_speed, DecodingSpeedResult\n",
    "from qec_lego_bench.hpc.job_store import Job, JobStore\n",
    "from qec_lego_bench.hpc.plotter.logical_error_rate_plotter import *"
   ]
  },
  {
   "cell_type": "code",
   "execution_count": 5,
   "id": "2eb79028-afab-46a7-a36e-f567fd486716",
   "metadata": {
    "editable": true,
    "papermill": {
     "duration": 71.125079,
     "end_time": "2025-01-30T07:32:11.757511",
     "exception": false,
     "start_time": "2025-01-30T07:31:00.632432",
     "status": "completed"
    },
    "slideshow": {
     "slide_type": ""
    },
    "tags": []
   },
   "outputs": [
    {
     "name": "stdout",
     "output_type": "stream",
     "text": [
      "\r\n",
      "\u001b[KEvaluating initialization of 64 shots, elapsed: 0.140707s, average: 2.199e-03s per shot\r"
     ]
    },
    {
     "name": "stdout",
     "output_type": "stream",
     "text": [
      "\n",
      "initialization time: 2.199e-03s\n"
     ]
    },
    {
     "name": "stdout",
     "output_type": "stream",
     "text": [
      "\r\n",
      "\u001b[KEvaluating decoding of 50 shots, elapsed: 0.019517s, average: 3.903e-04s per shot\r"
     ]
    },
    {
     "name": "stdout",
     "output_type": "stream",
     "text": [
      "\r\n",
      "\u001b[KEvaluating decoding of 100 shots, elapsed: 0.004250s, average: 4.250e-05s per shot\r"
     ]
    },
    {
     "name": "stdout",
     "output_type": "stream",
     "text": [
      "\r\n",
      "\u001b[KEvaluating decoding of 200 shots, elapsed: 0.004647s, average: 2.324e-05s per shot\r"
     ]
    },
    {
     "name": "stdout",
     "output_type": "stream",
     "text": [
      "\r\n",
      "\u001b[KEvaluating decoding of 400 shots, elapsed: 0.007703s, average: 1.926e-05s per shot\r"
     ]
    },
    {
     "name": "stdout",
     "output_type": "stream",
     "text": [
      "\r\n",
      "\u001b[KEvaluating decoding of 800 shots, elapsed: 0.016693s, average: 2.087e-05s per shot\r"
     ]
    },
    {
     "name": "stdout",
     "output_type": "stream",
     "text": [
      "\r\n",
      "\u001b[KEvaluating decoding of 1600 shots, elapsed: 0.033325s, average: 2.083e-05s per shot\r"
     ]
    },
    {
     "name": "stdout",
     "output_type": "stream",
     "text": [
      "\r\n",
      "\u001b[KEvaluating decoding of 3200 shots, elapsed: 0.064646s, average: 2.020e-05s per shot\r"
     ]
    },
    {
     "name": "stdout",
     "output_type": "stream",
     "text": [
      "\r\n",
      "\u001b[KEvaluating decoding of 6400 shots, elapsed: 0.123402s, average: 1.928e-05s per shot\r"
     ]
    },
    {
     "name": "stdout",
     "output_type": "stream",
     "text": [
      "\r\n",
      "\u001b[KEvaluating decoding of 12800 shots, elapsed: 0.235163s, average: 1.837e-05s per shot\r"
     ]
    },
    {
     "name": "stdout",
     "output_type": "stream",
     "text": [
      "\r\n",
      "\u001b[KEvaluating decoding of 25600 shots, elapsed: 0.466897s, average: 1.824e-05s per shot\r"
     ]
    },
    {
     "name": "stdout",
     "output_type": "stream",
     "text": [
      "\r\n",
      "\u001b[KEvaluating decoding of 51200 shots, elapsed: 0.933903s, average: 1.824e-05s per shot\r"
     ]
    },
    {
     "name": "stdout",
     "output_type": "stream",
     "text": [
      "\r\n",
      "\u001b[KEvaluating decoding of 102400 shots, elapsed: 1.857947s, average: 1.814e-05s per shot\r"
     ]
    },
    {
     "name": "stdout",
     "output_type": "stream",
     "text": [
      "\r\n",
      "\u001b[KEvaluating decoding of 3637563 shots, elapsed: 66.421162s, average: 1.826e-05s per shot\r"
     ]
    },
    {
     "name": "stdout",
     "output_type": "stream",
     "text": [
      "\n",
      "decoding time: 1.826e-05s\n"
     ]
    },
    {
     "data": {
      "text/plain": [
       "DecodingSpeedResult(elapsed=66.42116174319199, shots=3637563)"
      ]
     },
     "execution_count": 6,
     "metadata": {},
     "output_type": "execute_result"
    }
   ],
   "source": [
    "# cluster_node_limit\n",
    "c_vec = list(range(51)) + [100 * (10 ** i) for i in range(5)]\n",
    "\n",
    "def evaluation_function(c: int, verbose: bool = True) -> DecodingSpeedResult:\n",
    "    if verbose:\n",
    "        print(f\"c: {c}\")\n",
    "    return decoding_speed(decoder=f\"mwpf(c={c})\", code=code, noise=noise, **kwargs, no_print=not verbose)\n",
    "\n",
    "jobs = [MonteCarloJob(c=c) for c in c_vec]\n",
    "# evaluation_function(min(c_vec))"
   ]
  },
  {
   "cell_type": "markdown",
   "id": "ebd460d0-efa9-4075-9a1d-a62791230623",
   "metadata": {
    "editable": true,
    "papermill": {
     "duration": 0.001695,
     "end_time": "2025-01-30T07:32:11.761123",
     "exception": false,
     "start_time": "2025-01-30T07:32:11.759428",
     "status": "completed"
    },
    "slideshow": {
     "slide_type": ""
    },
    "tags": []
   },
   "source": [
    "Define the plot functionality"
   ]
  },
  {
   "cell_type": "code",
   "execution_count": 6,
   "id": "aea5f255-0cca-4a5b-a43d-f5d4b460d502",
   "metadata": {
    "editable": true,
    "papermill": {
     "duration": 0.021027,
     "end_time": "2025-01-30T07:32:11.783845",
     "exception": false,
     "start_time": "2025-01-30T07:32:11.762818",
     "status": "completed"
    },
    "slideshow": {
     "slide_type": ""
    },
    "tags": []
   },
   "outputs": [
    {
     "data": {
      "image/png": "[encoded data removed]",
      "text/plain": [
       "<Figure size 640x480 with 1 Axes>"
      ]
     },
     "metadata": {},
     "output_type": "display_data"
    }
   ],
   "source": [
    "@dataclass\n",
    "class DecodingTimePlotter:\n",
    "    hdisplay: display.DisplayHandle = field(\n",
    "        default_factory=lambda: display.display(\"\", display_id=True)\n",
    "    )\n",
    "    fig: Figure = field(default_factory=lambda: plt.figure())\n",
    "\n",
    "    def __post_init__(self):\n",
    "        self.fig.clear()\n",
    "\n",
    "    def __call__(self, executor: MonteCarloJobExecutor):\n",
    "        display_c_of = lambda c: c if c != 0 else 0.5\n",
    "        # plot the results\n",
    "        fig = self.fig\n",
    "        ax = fig.gca()\n",
    "        ax.clear()\n",
    "        ax.set_xlabel(\"cluster node limit $c$\")\n",
    "        ax.set_ylabel(\"decoding time\")\n",
    "        ax.set_xlim(display_c_of(min(c_vec)) / 2, display_c_of(max(c_vec))* 2)\n",
    "        ax.set_xscale(\"log\")\n",
    "        ax.set_xscale(\"log\")\n",
    "        ax.set_ylim(1e-5, 1e-3)\n",
    "        ax.set_yscale(\"log\")\n",
    "        x_vec = []\n",
    "        y_vec = []\n",
    "        for c in c_vec:\n",
    "            job = executor.get_job(c=c)\n",
    "            if job is None or job.result is None:\n",
    "                continue\n",
    "            x_vec.append(display_c_of(c))\n",
    "            y_vec.append(job.result.decoding_time)\n",
    "        ax.errorbar(x_vec, y_vec, fmt=\"o-\")\n",
    "        self.hdisplay.update(fig)\n",
    "\n",
    "plotter = DecodingTimePlotter()"
   ]
  },
  {
   "cell_type": "code",
   "execution_count": null,
   "id": "1cfa5901-2d84-4321-90e2-220ac77b9da1",
   "metadata": {
    "editable": true,
    "papermill": {
     "duration": 0.363029,
     "end_time": "2025-01-30T07:32:12.148953",
     "exception": false,
     "start_time": "2025-01-30T07:32:11.785924",
     "status": "completed"
    },
    "slideshow": {
     "slide_type": ""
    },
    "tags": []
   },
   "outputs": [
    {
     "name": "stdout",
     "output_type": "stream",
     "text": [
      "c: 4\n",
      "\u001b[KEvaluating initialization of 64 shots, elapsed: 0.177299s, average: 2.770e-03s per shot\n",
      "initialization time: 2.770e-03s\n",
      "\u001b[KEvaluating decoding of 1199991 shots, elapsed: 64.721827s, average: 5.394e-05s per shot\n",
      "decoding time: 5.394e-05s\n",
      "c: 5\n",
      "\u001b[KEvaluating initialization of 64 shots, elapsed: 0.174568s, average: 2.728e-03s per shot\n",
      "initialization time: 2.728e-03s\n",
      "\u001b[KEvaluating decoding of 1206729 shots, elapsed: 66.280619s, average: 5.493e-05s per shot\n",
      "decoding time: 5.493e-05s\n",
      "c: 6\n",
      "\u001b[KEvaluating initialization of 64 shots, elapsed: 0.155958s, average: 2.437e-03s per shot\n",
      "initialization time: 2.437e-03s\n",
      "\u001b[KEvaluating decoding of 1278655 shots, elapsed: 70.534637s, average: 5.516e-05s per shot\n",
      "decoding time: 5.516e-05s\n",
      "c: 7\n",
      "\u001b[KEvaluating initialization of 64 shots, elapsed: 0.173794s, average: 2.716e-03s per shot\n",
      "initialization time: 2.716e-03s\n",
      "\u001b[KEvaluating decoding of 1149719 shots, elapsed: 65.792624s, average: 5.722e-05s per shot\n",
      "decoding time: 5.722e-05s\n",
      "c: 8\n",
      "\u001b[KEvaluating initialization of 64 shots, elapsed: 0.175066s, average: 2.735e-03s per shot\n",
      "initialization time: 2.735e-03s\n",
      "\u001b[KEvaluating decoding of 1112420 shots, elapsed: 67.192617s, average: 6.040e-05s per shot\n",
      "decoding time: 6.040e-05s\n",
      "c: 9\n",
      "\u001b[KEvaluating initialization of 64 shots, elapsed: 0.198359s, average: 3.099e-03s per shot\n",
      "initialization time: 3.099e-03s\n",
      "\u001b[KEvaluating decoding of 938066 shots, elapsed: 62.526061s, average: 6.665e-05s per shot\n",
      "decoding time: 6.665e-05s\n",
      "c: 10\n",
      "\u001b[KEvaluating initialization of 64 shots, elapsed: 0.190264s, average: 2.973e-03s per shot\n",
      "initialization time: 2.973e-03s\n",
      "\u001b[KEvaluating decoding of 932403 shots, elapsed: 65.671472s, average: 7.043e-05s per shot\n",
      "decoding time: 7.043e-05s\n",
      "c: 11\n",
      "\u001b[KEvaluating initialization of 64 shots, elapsed: 0.165114s, average: 2.580e-03s per shot\n",
      "initialization time: 2.580e-03s\n",
      "\u001b[KEvaluating decoding of 933690 shots, elapsed: 67.032320s, average: 7.179e-05s per shot\n",
      "decoding time: 7.179e-05s\n",
      "c: 12\n",
      "\u001b[KEvaluating initialization of 64 shots, elapsed: 0.186316s, average: 2.911e-03s per shot\n",
      "initialization time: 2.911e-03s\n",
      "\u001b[KEvaluating decoding of 892382 shots, elapsed: 65.508918s, average: 7.341e-05s per shot\n",
      "decoding time: 7.341e-05s\n",
      "c: 13\n",
      "\u001b[KEvaluating initialization of 64 shots, elapsed: 0.182755s, average: 2.856e-03s per shot\n",
      "initialization time: 2.856e-03s\n",
      "\u001b[KEvaluating decoding of 861037 shots, elapsed: 66.457516s, average: 7.718e-05s per shot\n",
      "decoding time: 7.718e-05s\n",
      "c: 14\n",
      "\u001b[KEvaluating initialization of 64 shots, elapsed: 0.175097s, average: 2.736e-03s per shot\n",
      "initialization time: 2.736e-03s\n",
      "\u001b[KEvaluating decoding of 825400 shots, elapsed: 67.190031s, average: 8.140e-05s per shot\n",
      "decoding time: 8.140e-05s\n",
      "c: 15\n",
      "\u001b[KEvaluating initialization of 64 shots, elapsed: 0.176043s, average: 2.751e-03s per shot\n",
      "initialization time: 2.751e-03s\n",
      "\u001b[KEvaluating decoding of 810523 shots, elapsed: 71.066457s, average: 8.768e-05s per shot\n",
      "decoding time: 8.768e-05s\n",
      "c: 16\n",
      "\u001b[KEvaluating initialization of 32 shots, elapsed: 0.116545s, average: 3.642e-03s per shot\n",
      "initialization time: 3.642e-03s\n",
      "\u001b[KEvaluating decoding of 1349906 shots, elapsed: 114.428084s, average: 8.477e-05s per shot\n",
      "decoding time: 8.477e-05s\n",
      "c: 17\n",
      "\u001b[KEvaluating initialization of 64 shots, elapsed: 0.186841s, average: 2.919e-03s per shot\n",
      "initialization time: 2.919e-03s\n",
      "\u001b[KEvaluating decoding of 722190 shots, elapsed: 66.872402s, average: 9.260e-05s per shot\n",
      "decoding time: 9.260e-05s\n",
      "c: 18\n",
      "\u001b[KEvaluating initialization of 16 shots, elapsed: 0.100030s, average: 6.252e-03s per shot\n",
      "initialization time: 6.252e-03s\n",
      "\u001b[KEvaluating decoding of 1092522 shots, elapsed: 94.722044s, average: 8.670e-05s per shot\n",
      "decoding time: 8.670e-05s\n",
      "c: 19\n",
      "\u001b[KEvaluating initialization of 64 shots, elapsed: 0.176010s, average: 2.750e-03s per shot\n",
      "initialization time: 2.750e-03s\n",
      "\u001b[KEvaluating decoding of 749705 shots, elapsed: 65.009843s, average: 8.671e-05s per shot\n",
      "decoding time: 8.671e-05s\n",
      "c: 20\n",
      "\u001b[KEvaluating initialization of 64 shots, elapsed: 0.175614s, average: 2.744e-03s per shot\n",
      "initialization time: 2.744e-03s\n",
      "\u001b[KEvaluating decoding of 690611 shots, elapsed: 60.135363s, average: 8.708e-05s per shot\n",
      "decoding time: 8.708e-05s\n",
      "c: 21\n",
      "\u001b[KEvaluating initialization of 64 shots, elapsed: 0.172111s, average: 2.689e-03s per shot\n",
      "initialization time: 2.689e-03s\n",
      "\u001b[KEvaluating decoding of 787411 shots, elapsed: 69.642107s, average: 8.844e-05s per shot\n",
      "decoding time: 8.844e-05s\n",
      "c: 22\n",
      "\u001b[KEvaluating initialization of 64 shots, elapsed: 0.186901s, average: 2.920e-03s per shot\n",
      "initialization time: 2.920e-03s\n",
      "\u001b[KEvaluating decoding of 711913 shots, elapsed: 62.281178s, average: 8.748e-05s per shot\n",
      "decoding time: 8.748e-05s\n",
      "c: 23\n",
      "\u001b[KEvaluating initialization of 64 shots, elapsed: 0.172408s, average: 2.694e-03s per shot\n",
      "initialization time: 2.694e-03s\n",
      "\u001b[KEvaluating decoding of 771609 shots, elapsed: 69.556846s, average: 9.015e-05s per shot\n",
      "decoding time: 9.015e-05s\n",
      "c: 24\n",
      "\u001b[KEvaluating initialization of 64 shots, elapsed: 0.186326s, average: 2.911e-03s per shot\n",
      "initialization time: 2.911e-03s\n",
      "\u001b[KEvaluating decoding of 716591 shots, elapsed: 68.155074s, average: 9.511e-05s per shot\n",
      "decoding time: 9.511e-05s\n",
      "c: 25\n",
      "\u001b[KEvaluating initialization of 32 shots, elapsed: 0.102385s, average: 3.200e-03s per shot\n",
      "initialization time: 3.200e-03s\n",
      "\u001b[KEvaluating decoding of 1220688 shots, elapsed: 116.573985s, average: 9.550e-05s per shot\n",
      "decoding time: 9.550e-05s\n",
      "c: 26\n",
      "\u001b[KEvaluating initialization of 64 shots, elapsed: 0.193982s, average: 3.031e-03s per shot\n",
      "initialization time: 3.031e-03s\n",
      "\u001b[KEvaluating decoding of 690949 shots, elapsed: 65.363834s, average: 9.460e-05s per shot\n",
      "decoding time: 9.460e-05s\n",
      "c: 27\n",
      "\u001b[KEvaluating initialization of 64 shots, elapsed: 0.174242s, average: 2.723e-03s per shot\n",
      "initialization time: 2.723e-03s\n",
      "\u001b[KEvaluating decoding of 723859 shots, elapsed: 66.478035s, average: 9.184e-05s per shot\n",
      "decoding time: 9.184e-05s\n",
      "c: 28\n",
      "\u001b[KEvaluating initialization of 64 shots, elapsed: 0.196134s, average: 3.065e-03s per shot\n",
      "initialization time: 3.065e-03s\n",
      "\u001b[KEvaluating decoding of 727462 shots, elapsed: 66.980184s, average: 9.207e-05s per shot\n",
      "decoding time: 9.207e-05s\n",
      "c: 29\n",
      "\u001b[KEvaluating initialization of 32 shots, elapsed: 0.101681s, average: 3.178e-03s per shot\n",
      "initialization time: 3.178e-03s\n",
      "\u001b[KEvaluating decoding of 715136 shots, elapsed: 68.538416s, average: 9.584e-05s per shot\n",
      "decoding time: 9.584e-05s\n",
      "c: 30\n",
      "\u001b[KEvaluating initialization of 64 shots, elapsed: 0.169956s, average: 2.656e-03s per shot\n",
      "initialization time: 2.656e-03s\n",
      "\u001b[KEvaluating decoding of 719672 shots, elapsed: 69.415316s, average: 9.645e-05s per shot\n",
      "decoding time: 9.645e-05s\n",
      "c: 31\n",
      "\u001b[KEvaluating initialization of 64 shots, elapsed: 0.177843s, average: 2.779e-03s per shot\n",
      "initialization time: 2.779e-03s\n",
      "\u001b[KEvaluating decoding of 677932 shots, elapsed: 66.152727s, average: 9.758e-05s per shot\n",
      "decoding time: 9.758e-05s\n",
      "c: 32\n",
      "\u001b[KEvaluating initialization of 64 shots, elapsed: 0.166210s, average: 2.597e-03s per shot\n",
      "initialization time: 2.597e-03s\n",
      "\u001b[KEvaluating decoding of 991732 shots, elapsed: 97.132111s, average: 9.794e-05s per shot\n",
      "decoding time: 9.794e-05s\n",
      "c: 33\n",
      "\u001b[KEvaluating initialization of 64 shots, elapsed: 0.177060s, average: 2.767e-03s per shot\n",
      "initialization time: 2.767e-03s\n",
      "\u001b[KEvaluating decoding of 684779 shots, elapsed: 64.745248s, average: 9.455e-05s per shot\n",
      "decoding time: 9.455e-05s\n",
      "c: 34\n",
      "\u001b[KEvaluating initialization of 64 shots, elapsed: 0.181494s, average: 2.836e-03s per shot\n",
      "initialization time: 2.836e-03s\n",
      "\u001b[KEvaluating decoding of 704338 shots, elapsed: 67.811600s, average: 9.628e-05s per shot\n",
      "decoding time: 9.628e-05s\n",
      "c: 35\n",
      "\u001b[KEvaluating initialization of 64 shots, elapsed: 0.203190s, average: 3.175e-03s per shot\n",
      "initialization time: 3.175e-03s\n",
      "\u001b[KEvaluating decoding of 1231268 shots, elapsed: 118.559936s, average: 9.629e-05s per shot\n",
      "decoding time: 9.629e-05s\n",
      "c: 36\n",
      "\u001b[KEvaluating initialization of 64 shots, elapsed: 0.182197s, average: 2.847e-03s per shot\n",
      "initialization time: 2.847e-03s\n",
      "\u001b[KEvaluating decoding of 679191 shots, elapsed: 66.001226s, average: 9.718e-05s per shot\n",
      "decoding time: 9.718e-05s\n",
      "c: 37\n",
      "\u001b[KEvaluating initialization of 64 shots, elapsed: 0.180859s, average: 2.826e-03s per shot\n",
      "initialization time: 2.826e-03s\n",
      "\u001b[KEvaluating decoding of 667090 shots, elapsed: 68.180719s, average: 1.022e-04s per shot\n",
      "decoding time: 1.022e-04s\n",
      "c: 38\n",
      "\u001b[KEvaluating initialization of 64 shots, elapsed: 0.177174s, average: 2.768e-03s per shot\n",
      "initialization time: 2.768e-03s\n",
      "\u001b[KEvaluating decoding of 739335 shots, elapsed: 71.582781s, average: 9.682e-05s per shot\n",
      "decoding time: 9.682e-05s\n",
      "c: 39\n",
      "\u001b[KEvaluating initialization of 32 shots, elapsed: 0.101904s, average: 3.185e-03s per shot\n",
      "initialization time: 3.185e-03s\n",
      "\u001b[KEvaluating decoding of 639942 shots, elapsed: 62.317036s, average: 9.738e-05s per shot\n",
      "decoding time: 9.738e-05s\n",
      "c: 40\n",
      "\u001b[KEvaluating initialization of 64 shots, elapsed: 0.174797s, average: 2.731e-03s per shot\n",
      "initialization time: 2.731e-03s\n",
      "\u001b[KEvaluating decoding of 633865 shots, elapsed: 69.042013s, average: 1.089e-04s per shot\n",
      "decoding time: 1.089e-04s\n",
      "c: 41\n",
      "\u001b[KEvaluating initialization of 64 shots, elapsed: 0.252388s, average: 3.944e-03s per shot\n",
      "initialization time: 3.944e-03s\n",
      "\u001b[KEvaluating decoding of 1196446 shots, elapsed: 124.426162s, average: 1.040e-04s per shot\n",
      "decoding time: 1.040e-04s\n",
      "c: 42\n",
      "\u001b[KEvaluating initialization of 32 shots, elapsed: 0.104565s, average: 3.268e-03s per shot\n",
      "initialization time: 3.268e-03s\n",
      "\u001b[KEvaluating decoding of 673214 shots, elapsed: 65.180256s, average: 9.682e-05s per shot\n",
      "decoding time: 9.682e-05s\n",
      "c: 43\n",
      "\u001b[KEvaluating initialization of 64 shots, elapsed: 0.169381s, average: 2.647e-03s per shot\n",
      "initialization time: 2.647e-03s\n",
      "\u001b[KEvaluating decoding of 715132 shots, elapsed: 68.330378s, average: 9.555e-05s per shot\n",
      "decoding time: 9.555e-05s\n",
      "c: 44\n",
      "\u001b[KEvaluating initialization of 64 shots, elapsed: 0.173576s, average: 2.712e-03s per shot\n",
      "initialization time: 2.712e-03s\n",
      "\u001b[KEvaluating decoding of 636950 shots, elapsed: 61.105810s, average: 9.594e-05s per shot\n",
      "decoding time: 9.594e-05s\n",
      "c: 45\n",
      "\u001b[KEvaluating initialization of 64 shots, elapsed: 0.181983s, average: 2.843e-03s per shot\n",
      "initialization time: 2.843e-03s\n",
      "\u001b[KEvaluating decoding of 651985 shots, elapsed: 62.543424s, average: 9.593e-05s per shot\n",
      "decoding time: 9.593e-05s\n",
      "c: 46\n",
      "\u001b[KEvaluating initialization of 64 shots, elapsed: 0.206508s, average: 3.227e-03s per shot\n",
      "initialization time: 3.227e-03s\n",
      "\u001b[KEvaluating decoding of 661477 shots, elapsed: 63.691743s, average: 9.629e-05s per shot\n",
      "decoding time: 9.629e-05s\n",
      "c: 47\n",
      "\u001b[KEvaluating initialization of 64 shots, elapsed: 0.187476s, average: 2.929e-03s per shot\n",
      "initialization time: 2.929e-03s\n",
      "\u001b[KEvaluating decoding of 725546 shots, elapsed: 71.334713s, average: 9.832e-05s per shot\n",
      "decoding time: 9.832e-05s\n",
      "c: 48\n",
      "\u001b[KEvaluating initialization of 32 shots, elapsed: 0.106834s, average: 3.339e-03s per shot\n",
      "initialization time: 3.339e-03s\n",
      "\u001b[KEvaluating decoding of 678620 shots, elapsed: 66.015465s, average: 9.728e-05s per shot\n",
      "decoding time: 9.728e-05s\n",
      "c: 49\n",
      "\u001b[KEvaluating initialization of 64 shots, elapsed: 0.173183s, average: 2.706e-03s per shot\n",
      "initialization time: 2.706e-03s\n",
      "\u001b[KEvaluating decoding of 652012 shots, elapsed: 65.406723s, average: 1.003e-04s per shot\n",
      "decoding time: 1.003e-04s\n",
      "c: 50\n",
      "\u001b[KEvaluating initialization of 64 shots, elapsed: 0.179813s, average: 2.810e-03s per shot\n",
      "initialization time: 2.810e-03s\n",
      "\u001b[KEvaluating decoding of 704119 shots, elapsed: 70.089925s, average: 9.954e-05s per shot\n",
      "decoding time: 9.954e-05s\n",
      "c: 100\n",
      "\u001b[KEvaluating initialization of 64 shots, elapsed: 0.192743s, average: 3.012e-03s per shot\n",
      "initialization time: 3.012e-03s\n",
      "\u001b[KEvaluating decoding of 610134 shots, elapsed: 65.072682s, average: 1.067e-04s per shot\n",
      "decoding time: 1.067e-04s\n",
      "c: 1000\n",
      "\u001b[KEvaluating initialization of 32 shots, elapsed: 0.133473s, average: 4.171e-03s per shot\n",
      "initialization time: 4.171e-03s\n",
      "\u001b[KEvaluating decoding of 12800 shots, elapsed: 1.220111s, average: 9.532e-05s per shot"
     ]
    }
   ],
   "source": [
    "job_store = JobStore(evaluation_function, jobs, result_type=DecodingSpeedResult, filename=json_filename)\n",
    "job_store.execute(loop_callback=plotter)"
   ]
  },
  {
   "cell_type": "code",
   "execution_count": null,
   "id": "a2edb553-f1b5-41ba-9643-86978a83b3e8",
   "metadata": {
    "editable": true,
    "papermill": {
     "duration": 0.002018,
     "end_time": "2025-01-30T07:32:12.153279",
     "exception": false,
     "start_time": "2025-01-30T07:32:12.151261",
     "status": "completed"
    },
    "slideshow": {
     "slide_type": ""
    },
    "tags": []
   },
   "outputs": [],
   "source": []
  }
 ],
 "metadata": {
  "kernelspec": {
   "display_name": "Python 3 (ipykernel)",
   "language": "python",
   "name": "python3"
  },
  "language_info": {
   "codemirror_mode": {
    "name": "ipython",
    "version": 3
   },
   "file_extension": ".py",
   "mimetype": "text/x-python",
   "name": "python",
   "nbconvert_exporter": "python",
   "pygments_lexer": "ipython3",
   "version": "3.11.6"
  },
  "papermill": {
   "default_parameters": {},
   "duration": 73.848904,
   "end_time": "2025-01-30T07:32:12.574026",
   "environment_variables": {},
   "exception": null,
   "input_path": "decoding_speed_mwpm.ipynb",
   "output_path": "decoding_speed_mwpf.ipynb",
   "parameters": {
    "decoder": "mwpf",
    "json_filename": "speed-rsc-mwpf.json"
   },
   "start_time": "2025-01-30T07:30:58.725122",
   "version": "2.6.0"
  }
 },
 "nbformat": 4,
 "nbformat_minor": 5
}
