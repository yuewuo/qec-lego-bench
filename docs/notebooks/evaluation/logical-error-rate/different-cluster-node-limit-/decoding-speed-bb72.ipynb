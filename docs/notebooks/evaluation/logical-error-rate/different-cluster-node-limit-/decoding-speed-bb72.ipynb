{
 "cells": [
  {
   "cell_type": "markdown",
   "id": "a3082d18-56df-4834-8963-586a5500bced",
   "metadata": {
    "editable": true,
    "papermill": {
     "duration": 0.002743,
     "end_time": "2025-01-30T07:30:59.479453",
     "exception": false,
     "start_time": "2025-01-30T07:30:59.476710",
     "status": "completed"
    },
    "slideshow": {
     "slide_type": ""
    },
    "tags": []
   },
   "source": [
    "# Decoding Speed"
   ]
  },
  {
   "cell_type": "code",
   "execution_count": 1,
   "id": "afceb91f-5b83-487f-96f9-5015002f5daf",
   "metadata": {
    "editable": true,
    "papermill": {
     "duration": 0.007266,
     "end_time": "2025-01-30T07:30:59.488685",
     "exception": false,
     "start_time": "2025-01-30T07:30:59.481419",
     "status": "completed"
    },
    "slideshow": {
     "slide_type": ""
    },
    "tags": [
     "parameters"
    ]
   },
   "outputs": [],
   "source": [
    "# This cell is tagged `parameters` and will be override by `papermill`\n",
    "json_filename: str = \"speed-bb72.json\"  # where to save the result, must be provided\n",
    "code: str = \"bb(n=72,k=12,d=6)\"\n",
    "noise: str = \"depolarize(p=0.01)\"\n",
    "\n",
    "kwargs = dict(\n",
    "    min_time = 60,\n",
    "    min_shots = 50,\n",
    "    min_init_time = 0.1,\n",
    "    min_init_shots = 1,\n",
    ")"
   ]
  },
  {
   "cell_type": "code",
   "execution_count": 2,
   "id": "5e4bf8f4-0e7c-453e-aacd-18c9061a999c",
   "metadata": {
    "editable": true,
    "papermill": {
     "duration": 0.012077,
     "end_time": "2025-01-30T07:30:59.507403",
     "exception": false,
     "start_time": "2025-01-30T07:30:59.495326",
     "status": "completed"
    },
    "slideshow": {
     "slide_type": ""
    },
    "tags": []
   },
   "outputs": [],
   "source": [
    "%load_ext autoreload\n",
    "%autoreload 2"
   ]
  },
  {
   "cell_type": "code",
   "execution_count": 3,
   "id": "552dcc10-a319-487b-a20b-09221382176b",
   "metadata": {
    "editable": true,
    "papermill": {
     "duration": 0.008583,
     "end_time": "2025-01-30T07:30:59.517282",
     "exception": false,
     "start_time": "2025-01-30T07:30:59.508699",
     "status": "completed"
    },
    "slideshow": {
     "slide_type": ""
    },
    "tags": []
   },
   "outputs": [],
   "source": [
    "# import psutil\n",
    "# psutil.Process().nice(0)# if on *ux\n",
    "# psutil.Process().nice(psutil.IDLE_PRIORITY_CLASS)# if on win"
   ]
  },
  {
   "cell_type": "code",
   "execution_count": 4,
   "id": "f4ce38b6-65b8-4ec5-b097-aab9f6943e10",
   "metadata": {
    "editable": true,
    "papermill": {
     "duration": 1.112265,
     "end_time": "2025-01-30T07:31:00.630845",
     "exception": false,
     "start_time": "2025-01-30T07:30:59.518580",
     "status": "completed"
    },
    "slideshow": {
     "slide_type": ""
    },
    "tags": []
   },
   "outputs": [],
   "source": [
    "from qec_lego_bench.cli.decoding_speed import decoding_speed, DecodingSpeedResult\n",
    "from qec_lego_bench.hpc.job_store import Job, JobStore\n",
    "from qec_lego_bench.hpc.plotter.logical_error_rate_plotter import *"
   ]
  },
  {
   "cell_type": "code",
   "execution_count": 5,
   "id": "2eb79028-afab-46a7-a36e-f567fd486716",
   "metadata": {
    "editable": true,
    "papermill": {
     "duration": 71.125079,
     "end_time": "2025-01-30T07:32:11.757511",
     "exception": false,
     "start_time": "2025-01-30T07:31:00.632432",
     "status": "completed"
    },
    "slideshow": {
     "slide_type": ""
    },
    "tags": []
   },
   "outputs": [
    {
     "name": "stdout",
     "output_type": "stream",
     "text": [
      "\r\n",
      "\u001b[KEvaluating decoding of 50 shots, elapsed: 0.019517s, average: 3.903e-04s per shot\r"
     ]
    },
    {
     "name": "stdout",
     "output_type": "stream",
     "text": [
      "\r\n",
      "\u001b[KEvaluating decoding of 100 shots, elapsed: 0.004250s, average: 4.250e-05s per shot\r"
     ]
    },
    {
     "name": "stdout",
     "output_type": "stream",
     "text": [
      "\r\n",
      "\u001b[KEvaluating decoding of 200 shots, elapsed: 0.004647s, average: 2.324e-05s per shot\r"
     ]
    },
    {
     "name": "stdout",
     "output_type": "stream",
     "text": [
      "\r\n",
      "\u001b[KEvaluating decoding of 400 shots, elapsed: 0.007703s, average: 1.926e-05s per shot\r"
     ]
    },
    {
     "name": "stdout",
     "output_type": "stream",
     "text": [
      "\r\n",
      "\u001b[KEvaluating decoding of 800 shots, elapsed: 0.016693s, average: 2.087e-05s per shot\r"
     ]
    },
    {
     "name": "stdout",
     "output_type": "stream",
     "text": [
      "\r\n",
      "\u001b[KEvaluating decoding of 1600 shots, elapsed: 0.033325s, average: 2.083e-05s per shot\r"
     ]
    },
    {
     "name": "stdout",
     "output_type": "stream",
     "text": [
      "\r\n",
      "\u001b[KEvaluating decoding of 3200 shots, elapsed: 0.064646s, average: 2.020e-05s per shot\r"
     ]
    },
    {
     "name": "stdout",
     "output_type": "stream",
     "text": [
      "\r\n",
      "\u001b[KEvaluating decoding of 6400 shots, elapsed: 0.123402s, average: 1.928e-05s per shot\r"
     ]
    },
    {
     "name": "stdout",
     "output_type": "stream",
     "text": [
      "\r\n",
      "\u001b[KEvaluating decoding of 12800 shots, elapsed: 0.235163s, average: 1.837e-05s per shot\r"
     ]
    },
    {
     "name": "stdout",
     "output_type": "stream",
     "text": [
      "\r\n",
      "\u001b[KEvaluating decoding of 25600 shots, elapsed: 0.466897s, average: 1.824e-05s per shot\r"
     ]
    },
    {
     "name": "stdout",
     "output_type": "stream",
     "text": [
      "\r\n",
      "\u001b[KEvaluating decoding of 51200 shots, elapsed: 0.933903s, average: 1.824e-05s per shot\r"
     ]
    },
    {
     "name": "stdout",
     "output_type": "stream",
     "text": [
      "\r\n",
      "\u001b[KEvaluating decoding of 102400 shots, elapsed: 1.857947s, average: 1.814e-05s per shot\r"
     ]
    },
    {
     "name": "stdout",
     "output_type": "stream",
     "text": [
      "\r\n",
      "\u001b[KEvaluating decoding of 3637563 shots, elapsed: 66.421162s, average: 1.826e-05s per shot\r"
     ]
    },
    {
     "name": "stdout",
     "output_type": "stream",
     "text": [
      "\n",
      "decoding time: 1.826e-05s\n"
     ]
    },
    {
     "data": {
      "text/plain": [
       "DecodingSpeedResult(elapsed=66.42116174319199, shots=3637563)"
      ]
     },
     "execution_count": 6,
     "metadata": {},
     "output_type": "execute_result"
    }
   ],
   "source": [
    "# cluster_node_limit\n",
    "c_vec = list(range(51)) + [100 * (10 ** i) for i in range(5)]\n",
    "\n",
    "def evaluation_function(c: int, verbose: bool = True) -> DecodingSpeedResult:\n",
    "    if verbose:\n",
    "        print(f\"c: {c}\")\n",
    "    return decoding_speed(decoder=f\"mwpf(c={c})\", code=code, noise=noise, **kwargs, no_print=not verbose)\n",
    "\n",
    "jobs = [MonteCarloJob(c=c) for c in c_vec]\n",
    "# evaluation_function(min(c_vec))"
   ]
  },
  {
   "cell_type": "markdown",
   "id": "ebd460d0-efa9-4075-9a1d-a62791230623",
   "metadata": {
    "editable": true,
    "papermill": {
     "duration": 0.001695,
     "end_time": "2025-01-30T07:32:11.761123",
     "exception": false,
     "start_time": "2025-01-30T07:32:11.759428",
     "status": "completed"
    },
    "slideshow": {
     "slide_type": ""
    },
    "tags": []
   },
   "source": [
    "Define the plot functionality"
   ]
  },
  {
   "cell_type": "code",
   "execution_count": 6,
   "id": "aea5f255-0cca-4a5b-a43d-f5d4b460d502",
   "metadata": {
    "editable": true,
    "papermill": {
     "duration": 0.021027,
     "end_time": "2025-01-30T07:32:11.783845",
     "exception": false,
     "start_time": "2025-01-30T07:32:11.762818",
     "status": "completed"
    },
    "slideshow": {
     "slide_type": ""
    },
    "tags": []
   },
   "outputs": [
    {
     "data": {
      "image/png": "[encoded data removed]",
      "text/plain": [
       "<Figure size 640x480 with 1 Axes>"
      ]
     },
     "metadata": {},
     "output_type": "display_data"
    },
    {
     "data": {
      "text/plain": [
       "<Figure size 640x480 with 0 Axes>"
      ]
     },
     "metadata": {},
     "output_type": "display_data"
    }
   ],
   "source": [
    "@dataclass\n",
    "class DecodingTimePlotter:\n",
    "    hdisplay: display.DisplayHandle = field(\n",
    "        default_factory=lambda: display.display(\"\", display_id=True)\n",
    "    )\n",
    "    fig: Figure = field(default_factory=closed_figure)\n",
    "\n",
    "    def __call__(self, executor: MonteCarloJobExecutor):\n",
    "        display_c_of = lambda c: c if c != 0 else 0.5\n",
    "        # plot the results\n",
    "        fig = self.fig\n",
    "        ax = fig.gca()\n",
    "        ax.clear()\n",
    "        ax.set_xlabel(\"cluster node limit $c$\")\n",
    "        ax.set_ylabel(\"decoding time\")\n",
    "        ax.set_xlim(display_c_of(min(c_vec)) / 2, display_c_of(max(c_vec))* 2)\n",
    "        ax.set_xscale(\"log\")\n",
    "        ax.set_xscale(\"log\")\n",
    "        ax.set_ylim(1e-5, 1e-3)\n",
    "        ax.set_yscale(\"log\")\n",
    "        x_vec = []\n",
    "        y_vec = []\n",
    "        for c in c_vec:\n",
    "            job = executor.get_job(c=c)\n",
    "            if job is None or job.result is None:\n",
    "                continue\n",
    "            x_vec.append(display_c_of(c))\n",
    "            y_vec.append(job.result.decoding_time)\n",
    "        ax.errorbar(x_vec, y_vec, fmt=\"o-\")\n",
    "        self.hdisplay.update(fig)\n",
    "\n",
    "plotter = DecodingTimePlotter()"
   ]
  },
  {
   "cell_type": "code",
   "execution_count": 7,
   "id": "1cfa5901-2d84-4321-90e2-220ac77b9da1",
   "metadata": {
    "editable": true,
    "papermill": {
     "duration": 0.363029,
     "end_time": "2025-01-30T07:32:12.148953",
     "exception": false,
     "start_time": "2025-01-30T07:32:11.785924",
     "status": "completed"
    },
    "slideshow": {
     "slide_type": ""
    },
    "tags": []
   },
   "outputs": [
    {
     "name": "stdout",
     "output_type": "stream",
     "text": [
      "c: 0\n",
      "\u001b[KEvaluating initialization of 64 shots, elapsed: 0.162583s, average: 2.540e-03s per shotEvaluating initialization of 32 shots, elapsed: 0.080487s, average: 2.515e-03s per shot\n",
      "initialization time: 2.540e-03s\n",
      "\u001b[KEvaluating decoding of 1663609 shots, elapsed: 66.446822s, average: 3.994e-05s per shot\n",
      "decoding time: 3.994e-05s\n",
      "c: 1\n",
      "\u001b[KEvaluating initialization of 64 shots, elapsed: 0.167869s, average: 2.623e-03s per shot\n",
      "initialization time: 2.623e-03s\n",
      "\u001b[KEvaluating decoding of 1646145 shots, elapsed: 65.870131s, average: 4.001e-05s per shot\n",
      "decoding time: 4.001e-05s\n",
      "c: 2\n",
      "\u001b[KEvaluating initialization of 64 shots, elapsed: 0.168133s, average: 2.627e-03s per shot\n",
      "initialization time: 2.627e-03s\n",
      "\u001b[KEvaluating decoding of 1571591 shots, elapsed: 63.048309s, average: 4.012e-05s per shot\n",
      "decoding time: 4.012e-05s\n",
      "c: 3\n",
      "\u001b[KEvaluating initialization of 64 shots, elapsed: 0.169020s, average: 2.641e-03s per shot\n",
      "initialization time: 2.641e-03s\n",
      "\u001b[KEvaluating decoding of 1628576 shots, elapsed: 65.337995s, average: 4.012e-05s per shot\n",
      "decoding time: 4.012e-05s\n",
      "c: 4\n",
      "\u001b[KEvaluating initialization of 64 shots, elapsed: 0.175825s, average: 2.747e-03s per shot\n",
      "initialization time: 2.747e-03s\n",
      "\u001b[KEvaluating decoding of 1229119 shots, elapsed: 66.630597s, average: 5.421e-05s per shot\n",
      "decoding time: 5.421e-05s\n",
      "c: 5\n",
      "\u001b[KEvaluating initialization of 64 shots, elapsed: 0.228350s, average: 3.568e-03s per shot\n",
      "initialization time: 3.568e-03s\n",
      "\u001b[KEvaluating decoding of 1210957 shots, elapsed: 65.675546s, average: 5.423e-05s per shot\n",
      "decoding time: 5.423e-05s\n",
      "c: 6\n",
      "\u001b[KEvaluating initialization of 64 shots, elapsed: 0.174585s, average: 2.728e-03s per shot\n",
      "initialization time: 2.728e-03s\n",
      "\u001b[KEvaluating decoding of 1205238 shots, elapsed: 65.445733s, average: 5.430e-05s per shot\n",
      "decoding time: 5.430e-05s\n",
      "c: 7\n",
      "\u001b[KEvaluating initialization of 64 shots, elapsed: 0.171787s, average: 2.684e-03s per shot\n",
      "initialization time: 2.684e-03s\n",
      "\u001b[KEvaluating decoding of 1181152 shots, elapsed: 66.899303s, average: 5.664e-05s per shot\n",
      "decoding time: 5.664e-05s\n",
      "c: 8\n",
      "\u001b[KEvaluating initialization of 64 shots, elapsed: 0.224277s, average: 3.504e-03s per shot\n",
      "initialization time: 3.504e-03s\n",
      "\u001b[KEvaluating decoding of 1111823 shots, elapsed: 66.942000s, average: 6.021e-05s per shot\n",
      "decoding time: 6.021e-05s\n",
      "c: 9\n",
      "\u001b[KEvaluating initialization of 64 shots, elapsed: 0.166843s, average: 2.607e-03s per shot\n",
      "initialization time: 2.607e-03s\n",
      "\u001b[KEvaluating decoding of 989223 shots, elapsed: 65.901002s, average: 6.662e-05s per shot\n",
      "decoding time: 6.662e-05s\n",
      "c: 10\n",
      "\u001b[KEvaluating initialization of 64 shots, elapsed: 0.171468s, average: 2.679e-03s per shot\n",
      "initialization time: 2.679e-03s\n",
      "\u001b[KEvaluating decoding of 965205 shots, elapsed: 67.304990s, average: 6.973e-05s per shot\n",
      "decoding time: 6.973e-05s\n",
      "c: 11\n",
      "\u001b[KEvaluating initialization of 32 shots, elapsed: 0.143817s, average: 4.494e-03s per shot\n",
      "initialization time: 4.494e-03s\n",
      "\u001b[KEvaluating decoding of 933204 shots, elapsed: 66.131476s, average: 7.086e-05s per shot\n",
      "decoding time: 7.086e-05s\n",
      "c: 12\n",
      "\u001b[KEvaluating initialization of 64 shots, elapsed: 0.171320s, average: 2.677e-03s per shot\n",
      "initialization time: 2.677e-03s\n",
      "\u001b[KEvaluating decoding of 886672 shots, elapsed: 65.187392s, average: 7.352e-05s per shot\n",
      "decoding time: 7.352e-05s\n",
      "c: 13\n",
      "\u001b[KEvaluating initialization of 64 shots, elapsed: 0.171249s, average: 2.676e-03s per shot\n",
      "initialization time: 2.676e-03s\n",
      "\u001b[KEvaluating decoding of 846299 shots, elapsed: 64.570217s, average: 7.630e-05s per shot\n",
      "decoding time: 7.630e-05s\n",
      "c: 14\n",
      "\u001b[KEvaluating initialization of 32 shots, elapsed: 0.143385s, average: 4.481e-03s per shot\n",
      "initialization time: 4.481e-03s\n",
      "\u001b[KEvaluating decoding of 841486 shots, elapsed: 66.228093s, average: 7.870e-05s per shot\n",
      "decoding time: 7.870e-05s\n",
      "c: 15\n",
      "\u001b[KEvaluating initialization of 64 shots, elapsed: 0.176640s, average: 2.760e-03s per shot\n",
      "initialization time: 2.760e-03s\n",
      "\u001b[KEvaluating decoding of 811299 shots, elapsed: 65.696880s, average: 8.098e-05s per shot\n",
      "decoding time: 8.098e-05s\n",
      "c: 16\n",
      "\u001b[KEvaluating initialization of 64 shots, elapsed: 0.174412s, average: 2.725e-03s per shot\n",
      "initialization time: 2.725e-03s\n",
      "\u001b[KEvaluating decoding of 819531 shots, elapsed: 67.492947s, average: 8.236e-05s per shot\n",
      "decoding time: 8.236e-05s\n",
      "c: 17\n",
      "\u001b[KEvaluating initialization of 64 shots, elapsed: 0.224924s, average: 3.514e-03s per shot\n",
      "initialization time: 3.514e-03s\n",
      "\u001b[KEvaluating decoding of 785954 shots, elapsed: 65.976885s, average: 8.394e-05s per shot\n",
      "decoding time: 8.394e-05s\n",
      "c: 18\n",
      "\u001b[KEvaluating initialization of 64 shots, elapsed: 0.174746s, average: 2.730e-03s per shot\n",
      "initialization time: 2.730e-03s\n",
      "\u001b[KEvaluating decoding of 783843 shots, elapsed: 67.269371s, average: 8.582e-05s per shot\n",
      "decoding time: 8.582e-05s\n",
      "c: 19\n",
      "\u001b[KEvaluating initialization of 64 shots, elapsed: 0.175175s, average: 2.737e-03s per shot\n",
      "initialization time: 2.737e-03s\n",
      "\u001b[KEvaluating decoding of 751880 shots, elapsed: 65.483249s, average: 8.709e-05s per shot\n",
      "decoding time: 8.709e-05s\n",
      "c: 20\n",
      "\u001b[KEvaluating initialization of 32 shots, elapsed: 0.143151s, average: 4.473e-03s per shot\n",
      "initialization time: 4.473e-03s\n",
      "\u001b[KEvaluating decoding of 744394 shots, elapsed: 65.442391s, average: 8.791e-05s per shot\n",
      "decoding time: 8.791e-05s\n",
      "c: 21\n",
      "\u001b[KEvaluating initialization of 64 shots, elapsed: 0.168604s, average: 2.634e-03s per shot\n",
      "initialization time: 2.634e-03s\n",
      "\u001b[KEvaluating decoding of 731370 shots, elapsed: 64.898136s, average: 8.874e-05s per shot\n",
      "decoding time: 8.874e-05s\n",
      "c: 22\n",
      "\u001b[KEvaluating initialization of 64 shots, elapsed: 0.173220s, average: 2.707e-03s per shot\n",
      "initialization time: 2.707e-03s\n",
      "\u001b[KEvaluating decoding of 755853 shots, elapsed: 67.385946s, average: 8.915e-05s per shot\n",
      "decoding time: 8.915e-05s\n",
      "c: 23\n",
      "\u001b[KEvaluating initialization of 64 shots, elapsed: 0.230365s, average: 3.599e-03s per shot\n",
      "initialization time: 3.599e-03s\n",
      "\u001b[KEvaluating decoding of 736379 shots, elapsed: 66.240893s, average: 8.995e-05s per shot\n",
      "decoding time: 8.995e-05s\n",
      "c: 24\n",
      "\u001b[KEvaluating initialization of 64 shots, elapsed: 0.171208s, average: 2.675e-03s per shot\n",
      "initialization time: 2.675e-03s\n",
      "\u001b[KEvaluating decoding of 719066 shots, elapsed: 65.094707s, average: 9.053e-05s per shot\n",
      "decoding time: 9.053e-05s\n",
      "c: 25\n",
      "\u001b[KEvaluating initialization of 64 shots, elapsed: 0.170928s, average: 2.671e-03s per shot\n",
      "initialization time: 2.671e-03s\n",
      "\u001b[KEvaluating decoding of 742180 shots, elapsed: 67.234762s, average: 9.059e-05s per shot\n",
      "decoding time: 9.059e-05s\n",
      "c: 26\n",
      "\u001b[KEvaluating initialization of 32 shots, elapsed: 0.143039s, average: 4.470e-03s per shot\n",
      "initialization time: 4.470e-03s\n",
      "\u001b[KEvaluating decoding of 701743 shots, elapsed: 63.948320s, average: 9.113e-05s per shot\n",
      "decoding time: 9.113e-05s\n",
      "c: 27\n",
      "\u001b[KEvaluating initialization of 64 shots, elapsed: 0.174776s, average: 2.731e-03s per shot\n",
      "initialization time: 2.731e-03s\n",
      "\u001b[KEvaluating decoding of 722493 shots, elapsed: 66.087686s, average: 9.147e-05s per shot\n",
      "decoding time: 9.147e-05s\n",
      "c: 28\n",
      "\u001b[KEvaluating initialization of 64 shots, elapsed: 0.172086s, average: 2.689e-03s per shot\n",
      "initialization time: 2.689e-03s\n",
      "\u001b[KEvaluating decoding of 730850 shots, elapsed: 67.514656s, average: 9.238e-05s per shot\n",
      "decoding time: 9.238e-05s\n",
      "c: 29\n",
      "\u001b[KEvaluating initialization of 64 shots, elapsed: 0.227606s, average: 3.556e-03s per shot\n",
      "initialization time: 3.556e-03s\n",
      "\u001b[KEvaluating decoding of 711242 shots, elapsed: 65.179801s, average: 9.164e-05s per shot\n",
      "decoding time: 9.164e-05s\n",
      "c: 30\n",
      "\u001b[KEvaluating initialization of 64 shots, elapsed: 0.176295s, average: 2.755e-03s per shot\n",
      "initialization time: 2.755e-03s\n",
      "\u001b[KEvaluating decoding of 740024 shots, elapsed: 68.211651s, average: 9.217e-05s per shot\n",
      "decoding time: 9.217e-05s\n",
      "c: 31\n",
      "\u001b[KEvaluating initialization of 64 shots, elapsed: 0.178469s, average: 2.789e-03s per shot\n",
      "initialization time: 2.789e-03s\n",
      "\u001b[KEvaluating decoding of 707625 shots, elapsed: 64.989189s, average: 9.184e-05s per shot\n",
      "decoding time: 9.184e-05s\n",
      "c: 32\n",
      "\u001b[KEvaluating initialization of 64 shots, elapsed: 0.161784s, average: 2.528e-03s per shot\n",
      "initialization time: 2.528e-03s\n",
      "\u001b[KEvaluating decoding of 714129 shots, elapsed: 64.043320s, average: 8.968e-05s per shot\n",
      "decoding time: 8.968e-05s\n",
      "c: 33\n",
      "\u001b[KEvaluating initialization of 64 shots, elapsed: 0.169818s, average: 2.653e-03s per shot\n",
      "initialization time: 2.653e-03s\n",
      "\u001b[KEvaluating decoding of 725228 shots, elapsed: 65.456216s, average: 9.026e-05s per shot\n",
      "decoding time: 9.026e-05s\n",
      "c: 34\n",
      "\u001b[KEvaluating initialization of 64 shots, elapsed: 0.173879s, average: 2.717e-03s per shot\n",
      "initialization time: 2.717e-03s\n",
      "\u001b[KEvaluating decoding of 742259 shots, elapsed: 66.241019s, average: 8.924e-05s per shot\n",
      "decoding time: 8.924e-05s\n",
      "c: 35\n",
      "\u001b[KEvaluating initialization of 64 shots, elapsed: 0.161718s, average: 2.527e-03s per shot\n",
      "initialization time: 2.527e-03s\n",
      "\u001b[KEvaluating decoding of 778387 shots, elapsed: 69.865046s, average: 8.976e-05s per shot\n",
      "decoding time: 8.976e-05s\n",
      "c: 36\n",
      "\u001b[KEvaluating initialization of 64 shots, elapsed: 0.166482s, average: 2.601e-03s per shot\n",
      "initialization time: 2.601e-03s\n",
      "\u001b[KEvaluating decoding of 704085 shots, elapsed: 63.188857s, average: 8.975e-05s per shot\n",
      "decoding time: 8.975e-05s\n",
      "c: 37\n",
      "\u001b[KEvaluating initialization of 64 shots, elapsed: 0.170284s, average: 2.661e-03s per shot\n",
      "initialization time: 2.661e-03s\n",
      "\u001b[KEvaluating decoding of 717445 shots, elapsed: 64.779550s, average: 9.029e-05s per shot\n",
      "decoding time: 9.029e-05s\n",
      "c: 38\n",
      "\u001b[KEvaluating initialization of 64 shots, elapsed: 0.169136s, average: 2.643e-03s per shot\n",
      "initialization time: 2.643e-03s\n",
      "\u001b[KEvaluating decoding of 719617 shots, elapsed: 64.786192s, average: 9.003e-05s per shot\n",
      "decoding time: 9.003e-05s\n",
      "c: 39\n",
      "\u001b[KEvaluating initialization of 64 shots, elapsed: 0.166133s, average: 2.596e-03s per shot\n",
      "initialization time: 2.596e-03s\n",
      "\u001b[KEvaluating decoding of 717019 shots, elapsed: 64.692043s, average: 9.022e-05s per shot\n",
      "decoding time: 9.022e-05s\n",
      "c: 40\n",
      "\u001b[KEvaluating initialization of 64 shots, elapsed: 0.167992s, average: 2.625e-03s per shot\n",
      "initialization time: 2.625e-03s\n",
      "\u001b[KEvaluating decoding of 1327450 shots, elapsed: 119.400244s, average: 8.995e-05s per shot\n",
      "decoding time: 8.995e-05s\n",
      "c: 41\n",
      "\u001b[KEvaluating initialization of 64 shots, elapsed: 0.168833s, average: 2.638e-03s per shot\n",
      "initialization time: 2.638e-03s\n",
      "\u001b[KEvaluating decoding of 732397 shots, elapsed: 66.032612s, average: 9.016e-05s per shot\n",
      "decoding time: 9.016e-05s\n",
      "c: 42\n",
      "\u001b[KEvaluating initialization of 64 shots, elapsed: 0.164981s, average: 2.578e-03s per shot\n",
      "initialization time: 2.578e-03s\n",
      "\u001b[KEvaluating decoding of 709846 shots, elapsed: 64.696887s, average: 9.114e-05s per shot\n",
      "decoding time: 9.114e-05s\n",
      "c: 43\n",
      "\u001b[KEvaluating initialization of 64 shots, elapsed: 0.170806s, average: 2.669e-03s per shot\n",
      "initialization time: 2.669e-03s\n",
      "\u001b[KEvaluating decoding of 703593 shots, elapsed: 63.817725s, average: 9.070e-05s per shot\n",
      "decoding time: 9.070e-05s\n",
      "c: 44\n",
      "\u001b[KEvaluating initialization of 64 shots, elapsed: 0.165751s, average: 2.590e-03s per shot\n",
      "initialization time: 2.590e-03s\n",
      "\u001b[KEvaluating decoding of 746428 shots, elapsed: 68.174286s, average: 9.133e-05s per shot\n",
      "decoding time: 9.133e-05s\n",
      "c: 45\n",
      "\u001b[KEvaluating initialization of 64 shots, elapsed: 0.168494s, average: 2.633e-03s per shot\n",
      "initialization time: 2.633e-03s\n",
      "\u001b[KEvaluating decoding of 752774 shots, elapsed: 68.232821s, average: 9.064e-05s per shot\n",
      "decoding time: 9.064e-05s\n",
      "c: 46\n",
      "\u001b[KEvaluating initialization of 64 shots, elapsed: 0.164813s, average: 2.575e-03s per shot\n",
      "initialization time: 2.575e-03s\n",
      "\u001b[KEvaluating decoding of 732230 shots, elapsed: 66.785733s, average: 9.121e-05s per shot\n",
      "decoding time: 9.121e-05s\n",
      "c: 47\n",
      "\u001b[KEvaluating initialization of 64 shots, elapsed: 0.161164s, average: 2.518e-03s per shot\n",
      "initialization time: 2.518e-03s\n",
      "\u001b[KEvaluating decoding of 713299 shots, elapsed: 64.400817s, average: 9.029e-05s per shot\n",
      "decoding time: 9.029e-05s\n",
      "c: 48\n",
      "\u001b[KEvaluating initialization of 64 shots, elapsed: 0.166723s, average: 2.605e-03s per shot\n",
      "initialization time: 2.605e-03s\n",
      "\u001b[KEvaluating decoding of 740008 shots, elapsed: 66.974064s, average: 9.050e-05s per shot\n",
      "decoding time: 9.050e-05s\n",
      "c: 49\n",
      "\u001b[KEvaluating initialization of 64 shots, elapsed: 0.166690s, average: 2.605e-03s per shot\n",
      "initialization time: 2.605e-03s\n",
      "\u001b[KEvaluating decoding of 681256 shots, elapsed: 61.353127s, average: 9.006e-05s per shot\n",
      "decoding time: 9.006e-05s\n",
      "c: 50\n",
      "\u001b[KEvaluating initialization of 64 shots, elapsed: 0.162800s, average: 2.544e-03s per shot\n",
      "initialization time: 2.544e-03s\n",
      "\u001b[KEvaluating decoding of 702348 shots, elapsed: 63.698850s, average: 9.069e-05s per shot\n",
      "decoding time: 9.069e-05s\n",
      "c: 100\n",
      "\u001b[KEvaluating initialization of 64 shots, elapsed: 0.166914s, average: 2.608e-03s per shot\n",
      "initialization time: 2.608e-03s\n",
      "\u001b[KEvaluating decoding of 710166 shots, elapsed: 66.421726s, average: 9.353e-05s per shot\n",
      "decoding time: 9.353e-05s\n",
      "c: 1000\n",
      "\u001b[KEvaluating initialization of 64 shots, elapsed: 0.162029s, average: 2.532e-03s per shot\n",
      "initialization time: 2.532e-03s\n",
      "\u001b[KEvaluating decoding of 689725 shots, elapsed: 66.843058s, average: 9.691e-05s per shot\n",
      "decoding time: 9.691e-05s\n",
      "c: 10000\n",
      "\u001b[KEvaluating initialization of 64 shots, elapsed: 0.165359s, average: 2.584e-03s per shot\n",
      "initialization time: 2.584e-03s\n",
      "\u001b[KEvaluating decoding of 767584 shots, elapsed: 78.387936s, average: 1.021e-04s per shot\n",
      "decoding time: 1.021e-04s\n",
      "c: 100000\n",
      "\u001b[KEvaluating initialization of 64 shots, elapsed: 0.163970s, average: 2.562e-03s per shot\n",
      "initialization time: 2.562e-03s\n",
      "\u001b[KEvaluating decoding of 634716 shots, elapsed: 61.723895s, average: 9.725e-05s per shot\n",
      "decoding time: 9.725e-05s\n",
      "c: 1000000\n",
      "\u001b[KEvaluating initialization of 64 shots, elapsed: 0.166123s, average: 2.596e-03s per shot\n",
      "initialization time: 2.596e-03s\n",
      "\u001b[KEvaluating decoding of 701432 shots, elapsed: 71.409340s, average: 1.018e-04s per shot\n",
      "decoding time: 1.018e-04s\n"
     ]
    }
   ],
   "source": [
    "job_store = JobStore(evaluation_function, jobs, result_type=DecodingSpeedResult, filename=json_filename)\n",
    "job_store.execute(loop_callback=plotter)"
   ]
  },
  {
   "cell_type": "code",
   "execution_count": null,
   "id": "a2edb553-f1b5-41ba-9643-86978a83b3e8",
   "metadata": {
    "editable": true,
    "papermill": {
     "duration": 0.002018,
     "end_time": "2025-01-30T07:32:12.153279",
     "exception": false,
     "start_time": "2025-01-30T07:32:12.151261",
     "status": "completed"
    },
    "slideshow": {
     "slide_type": ""
    },
    "tags": []
   },
   "outputs": [],
   "source": []
  }
 ],
 "metadata": {
  "kernelspec": {
   "display_name": "Python 3 (ipykernel)",
   "language": "python",
   "name": "python3"
  },
  "language_info": {
   "codemirror_mode": {
    "name": "ipython",
    "version": 3
   },
   "file_extension": ".py",
   "mimetype": "text/x-python",
   "name": "python",
   "nbconvert_exporter": "python",
   "pygments_lexer": "ipython3",
   "version": "3.11.6"
  },
  "papermill": {
   "default_parameters": {},
   "duration": 73.848904,
   "end_time": "2025-01-30T07:32:12.574026",
   "environment_variables": {},
   "exception": null,
   "input_path": "decoding_speed_mwpm.ipynb",
   "output_path": "decoding_speed_mwpf.ipynb",
   "parameters": {
    "decoder": "mwpf",
    "json_filename": "speed-rsc-mwpf.json"
   },
   "start_time": "2025-01-30T07:30:58.725122",
   "version": "2.6.0"
  }
 },
 "nbformat": 4,
 "nbformat_minor": 5
}
