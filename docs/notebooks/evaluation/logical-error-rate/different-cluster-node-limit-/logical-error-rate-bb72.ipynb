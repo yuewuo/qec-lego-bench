{
 "cells": [
  {
   "cell_type": "markdown",
   "id": "c0a27491-4a85-4ace-9632-825c2101ce1c",
   "metadata": {},
   "source": [
    "# Logical error rate of BB code (with different cluster_node_limit for MWPF decoder)"
   ]
  },
  {
   "cell_type": "code",
   "execution_count": 2,
   "id": "dbd1b458-0da2-4bd0-87bf-40d8dfd1682b",
   "metadata": {
    "editable": true,
    "slideshow": {
     "slide_type": ""
    },
    "tags": [
     "parameters"
    ]
   },
   "outputs": [],
   "source": [
    "# This cell is tagged `parameters` and will be override by `papermill`\n",
    "json_filename = \"bb.json\"  # where to save the result, must be provided\n",
    "code=\"bb(n=72,k=12,d=6)\"\n",
    "noise=\"depolarize(p=0.01)\"\n",
    "\n",
    "slurm_maximum_jobs = 100\n",
    "local_maximum_jobs = 10"
   ]
  },
  {
   "cell_type": "code",
   "execution_count": null,
   "id": "af4e0d42-0172-4296-82e4-d2f3c38a2403",
   "metadata": {},
   "outputs": [],
   "source": [
    "decoder = \"mwpf\""
   ]
  }
 ],
 "metadata": {
  "kernelspec": {
   "display_name": "Python 3 (ipykernel)",
   "language": "python",
   "name": "python3"
  },
  "language_info": {
   "codemirror_mode": {
    "name": "ipython",
    "version": 3
   },
   "file_extension": ".py",
   "mimetype": "text/x-python",
   "name": "python",
   "nbconvert_exporter": "python",
   "pygments_lexer": "ipython3",
   "version": "3.11.6"
  }
 },
 "nbformat": 4,
 "nbformat_minor": 5
}
