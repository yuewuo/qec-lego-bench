{
 "cells": [
  {
   "cell_type": "markdown",
   "id": "ece2c5d7-9fc0-48d0-b0c5-89c6d35c47f5",
   "metadata": {},
   "source": [
    "# Create a standalone dask cluster for other clients to connect."
   ]
  },
  {
   "cell_type": "markdown",
   "id": "de3270a0-e40e-46f0-8ddb-270f6199ff48",
   "metadata": {},
   "source": [
    "Run the following on a login node (or some long-lived nodes). See https://docs.dask.org/en/stable/deploying-cli.html\n",
    "\n",
    "\n",
    "```\n",
    "dask scheduler\n",
    "```\n",
    "\n"
   ]
  },
  {
   "cell_type": "code",
   "execution_count": null,
   "id": "8980edb7-a703-4024-a04f-6ddcd34e294a",
   "metadata": {},
   "outputs": [],
   "source": []
  }
 ],
 "metadata": {
  "kernelspec": {
   "display_name": "Python 3 (ipykernel)",
   "language": "python",
   "name": "python3"
  },
  "language_info": {
   "codemirror_mode": {
    "name": "ipython",
    "version": 3
   },
   "file_extension": ".py",
   "mimetype": "text/x-python",
   "name": "python",
   "nbconvert_exporter": "python",
   "pygments_lexer": "ipython3",
   "version": "3.10.16"
  }
 },
 "nbformat": 4,
 "nbformat_minor": 5
}
