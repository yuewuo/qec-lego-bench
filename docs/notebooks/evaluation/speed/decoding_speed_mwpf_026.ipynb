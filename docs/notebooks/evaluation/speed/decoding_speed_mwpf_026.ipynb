{
 "cells": [
  {
   "cell_type": "markdown",
   "id": "a3082d18-56df-4834-8963-586a5500bced",
   "metadata": {
    "editable": true,
    "papermill": {
     "duration": 0.002743,
     "end_time": "2025-01-30T07:30:59.479453",
     "exception": false,
     "start_time": "2025-01-30T07:30:59.476710",
     "status": "completed"
    },
    "slideshow": {
     "slide_type": ""
    },
    "tags": []
   },
   "source": [
    "# Decoding Speed"
   ]
  },
  {
   "cell_type": "code",
   "execution_count": 1,
   "id": "afceb91f-5b83-487f-96f9-5015002f5daf",
   "metadata": {
    "editable": true,
    "papermill": {
     "duration": 0.007266,
     "end_time": "2025-01-30T07:30:59.488685",
     "exception": false,
     "start_time": "2025-01-30T07:30:59.481419",
     "status": "completed"
    },
    "slideshow": {
     "slide_type": ""
    },
    "tags": [
     "parameters"
    ]
   },
   "outputs": [],
   "source": [
    "# This cell is tagged `parameters` and will be override by `papermill`\n",
    "decoder: str = \"mwpf\"\n",
    "json_filename: str = \"speed-rsc-mwpf-026.json\"  # where to save the result, must be provided\n",
    "\n",
    "rounds: int = 200\n",
    "kwargs = dict(\n",
    "    min_time = 60,\n",
    "    min_shots = 50,\n",
    "    min_init_time = 0.1,\n",
    "    min_init_shots = 1,\n",
    ")\n",
    "max_per_round_time: float = 0.1  # if each round takes more than 100ms to decode, then do not run the next `d`, since it is not meaningful anymore"
   ]
  },
  {
   "cell_type": "code",
   "execution_count": 2,
   "id": "5e4bf8f4-0e7c-453e-aacd-18c9061a999c",
   "metadata": {
    "editable": true,
    "papermill": {
     "duration": 0.012077,
     "end_time": "2025-01-30T07:30:59.507403",
     "exception": false,
     "start_time": "2025-01-30T07:30:59.495326",
     "status": "completed"
    },
    "slideshow": {
     "slide_type": ""
    },
    "tags": []
   },
   "outputs": [],
   "source": [
    "%load_ext autoreload\n",
    "%autoreload 2"
   ]
  },
  {
   "cell_type": "code",
   "execution_count": 3,
   "id": "552dcc10-a319-487b-a20b-09221382176b",
   "metadata": {
    "editable": true,
    "papermill": {
     "duration": 0.008583,
     "end_time": "2025-01-30T07:30:59.517282",
     "exception": false,
     "start_time": "2025-01-30T07:30:59.508699",
     "status": "completed"
    },
    "slideshow": {
     "slide_type": ""
    },
    "tags": []
   },
   "outputs": [],
   "source": [
    "# import psutil\n",
    "# psutil.Process().nice(0)# if on *ux\n",
    "# psutil.Process().nice(psutil.IDLE_PRIORITY_CLASS)# if on win"
   ]
  },
  {
   "cell_type": "code",
   "execution_count": 4,
   "id": "f4ce38b6-65b8-4ec5-b097-aab9f6943e10",
   "metadata": {
    "editable": true,
    "papermill": {
     "duration": 1.112265,
     "end_time": "2025-01-30T07:31:00.630845",
     "exception": false,
     "start_time": "2025-01-30T07:30:59.518580",
     "status": "completed"
    },
    "slideshow": {
     "slide_type": ""
    },
    "tags": []
   },
   "outputs": [],
   "source": [
    "from qec_lego_bench.cli.decoding_speed import decoding_speed, DecodingSpeedResult\n",
    "from qec_lego_bench.hpc.job_store import Job, JobStore\n",
    "from qec_lego_bench.hpc.plotter.logical_error_rate_plotter import *"
   ]
  },
  {
   "cell_type": "code",
   "execution_count": 5,
   "id": "2eb79028-afab-46a7-a36e-f567fd486716",
   "metadata": {
    "editable": true,
    "papermill": {
     "duration": 71.125079,
     "end_time": "2025-01-30T07:32:11.757511",
     "exception": false,
     "start_time": "2025-01-30T07:31:00.632432",
     "status": "completed"
    },
    "slideshow": {
     "slide_type": ""
    },
    "tags": []
   },
   "outputs": [
    {
     "name": "stdout",
     "output_type": "stream",
     "text": [
      "d_vec: [3, 5, 7, 9, 11, 13, 15, 17, 19, 23, 27, 31, 37, 43, 51]\n"
     ]
    },
    {
     "name": "stdout",
     "output_type": "stream",
     "text": [
      "\n",
      "initialization time: 2.199e-03s\n"
     ]
    },
    {
     "name": "stdout",
     "output_type": "stream",
     "text": [
      "\r\n",
      "\u001b[KEvaluating decoding of 50 shots, elapsed: 0.019517s, average: 3.903e-04s per shot\r"
     ]
    },
    {
     "name": "stdout",
     "output_type": "stream",
     "text": [
      "\r\n",
      "\u001b[KEvaluating decoding of 100 shots, elapsed: 0.004250s, average: 4.250e-05s per shot\r"
     ]
    },
    {
     "name": "stdout",
     "output_type": "stream",
     "text": [
      "\r\n",
      "\u001b[KEvaluating decoding of 200 shots, elapsed: 0.004647s, average: 2.324e-05s per shot\r"
     ]
    },
    {
     "name": "stdout",
     "output_type": "stream",
     "text": [
      "\r\n",
      "\u001b[KEvaluating decoding of 400 shots, elapsed: 0.007703s, average: 1.926e-05s per shot\r"
     ]
    },
    {
     "name": "stdout",
     "output_type": "stream",
     "text": [
      "\r\n",
      "\u001b[KEvaluating decoding of 800 shots, elapsed: 0.016693s, average: 2.087e-05s per shot\r"
     ]
    },
    {
     "name": "stdout",
     "output_type": "stream",
     "text": [
      "\r\n",
      "\u001b[KEvaluating decoding of 1600 shots, elapsed: 0.033325s, average: 2.083e-05s per shot\r"
     ]
    },
    {
     "name": "stdout",
     "output_type": "stream",
     "text": [
      "\r\n",
      "\u001b[KEvaluating decoding of 3200 shots, elapsed: 0.064646s, average: 2.020e-05s per shot\r"
     ]
    },
    {
     "name": "stdout",
     "output_type": "stream",
     "text": [
      "\r\n",
      "\u001b[KEvaluating decoding of 6400 shots, elapsed: 0.123402s, average: 1.928e-05s per shot\r"
     ]
    },
    {
     "name": "stdout",
     "output_type": "stream",
     "text": [
      "\r\n",
      "\u001b[KEvaluating decoding of 12800 shots, elapsed: 0.235163s, average: 1.837e-05s per shot\r"
     ]
    },
    {
     "name": "stdout",
     "output_type": "stream",
     "text": [
      "\r\n",
      "\u001b[KEvaluating decoding of 25600 shots, elapsed: 0.466897s, average: 1.824e-05s per shot\r"
     ]
    },
    {
     "name": "stdout",
     "output_type": "stream",
     "text": [
      "\r\n",
      "\u001b[KEvaluating decoding of 51200 shots, elapsed: 0.933903s, average: 1.824e-05s per shot\r"
     ]
    },
    {
     "name": "stdout",
     "output_type": "stream",
     "text": [
      "\r\n",
      "\u001b[KEvaluating decoding of 102400 shots, elapsed: 1.857947s, average: 1.814e-05s per shot\r"
     ]
    },
    {
     "name": "stdout",
     "output_type": "stream",
     "text": [
      "\r\n",
      "\u001b[KEvaluating decoding of 3637563 shots, elapsed: 66.421162s, average: 1.826e-05s per shot\r"
     ]
    },
    {
     "name": "stdout",
     "output_type": "stream",
     "text": [
      "\n",
      "decoding time: 1.826e-05s\n"
     ]
    },
    {
     "data": {
      "text/plain": [
       "DecodingSpeedResult(elapsed=66.42116174319199, shots=3637563)"
      ]
     },
     "execution_count": 6,
     "metadata": {},
     "output_type": "execute_result"
    }
   ],
   "source": [
    "def generate_d_vec(ratio: float = 1.18, max_d: int = 51) -> list[int]:\n",
    "    d = 3\n",
    "    d_vec = [d]\n",
    "    while d <= max_d:\n",
    "        int_d = 2 * round(d / 2) + 1\n",
    "        if int_d != d_vec[-1]:\n",
    "            d_vec.append(int_d)\n",
    "        d *= ratio\n",
    "    return d_vec\n",
    "d_vec = generate_d_vec()\n",
    "print(\"d_vec:\", d_vec)\n",
    "p_vec = [0.00001, 0.0001, 0.001, 0.003, 0.01]\n",
    "\n",
    "def evaluation_function(d: int, p: float, rounds: int, verbose: bool = True) -> DecodingSpeedResult:\n",
    "    if verbose:\n",
    "        print(f\"d: {d}, p: {p}\")\n",
    "    return decoding_speed(decoder=decoder, code=f\"rsc(d={d},p={p})\", **kwargs, no_print=not verbose)\n",
    "\n",
    "jobs = [Job(d=d, p=p, rounds=rounds) for p in p_vec for d in d_vec[:1]]  # only add the smallest d and dynamically add others\n",
    "# evaluation_function(min(d_vec), min(p_vec), rounds)"
   ]
  },
  {
   "cell_type": "markdown",
   "id": "ebd460d0-efa9-4075-9a1d-a62791230623",
   "metadata": {
    "editable": true,
    "papermill": {
     "duration": 0.001695,
     "end_time": "2025-01-30T07:32:11.761123",
     "exception": false,
     "start_time": "2025-01-30T07:32:11.759428",
     "status": "completed"
    },
    "slideshow": {
     "slide_type": ""
    },
    "tags": []
   },
   "source": [
    "Define the plot functionality"
   ]
  },
  {
   "cell_type": "code",
   "execution_count": 6,
   "id": "aea5f255-0cca-4a5b-a43d-f5d4b460d502",
   "metadata": {
    "editable": true,
    "papermill": {
     "duration": 0.021027,
     "end_time": "2025-01-30T07:32:11.783845",
     "exception": false,
     "start_time": "2025-01-30T07:32:11.762818",
     "status": "completed"
    },
    "slideshow": {
     "slide_type": ""
    },
    "tags": []
   },
   "outputs": [
    {
     "data": {
      "image/png": "[encoded data removed]",
      "text/plain": [
       "<Figure size 640x480 with 1 Axes>"
      ]
     },
     "metadata": {},
     "output_type": "display_data"
    },
    {
     "data": {
      "text/plain": [
       "<Figure size 640x480 with 0 Axes>"
      ]
     },
     "metadata": {},
     "output_type": "display_data"
    }
   ],
   "source": [
    "from decoding_time_plotter import DecodingTimePlotter\n",
    "\n",
    "plotter = DecodingTimePlotter(p_vec=p_vec, d_vec=d_vec, rounds=rounds, max_per_round_time=max_per_round_time)"
   ]
  },
  {
   "cell_type": "code",
   "execution_count": 7,
   "id": "1cfa5901-2d84-4321-90e2-220ac77b9da1",
   "metadata": {
    "editable": true,
    "papermill": {
     "duration": 0.363029,
     "end_time": "2025-01-30T07:32:12.148953",
     "exception": false,
     "start_time": "2025-01-30T07:32:11.785924",
     "status": "completed"
    },
    "slideshow": {
     "slide_type": ""
    },
    "tags": []
   },
   "outputs": [],
   "source": [
    "job_store = JobStore(evaluation_function, jobs, result_type=DecodingSpeedResult, filename=json_filename)\n",
    "job_store.execute(loop_callback=plotter)"
   ]
  },
  {
   "cell_type": "code",
   "execution_count": null,
   "id": "a2edb553-f1b5-41ba-9643-86978a83b3e8",
   "metadata": {
    "editable": true,
    "papermill": {
     "duration": 0.002018,
     "end_time": "2025-01-30T07:32:12.153279",
     "exception": false,
     "start_time": "2025-01-30T07:32:12.151261",
     "status": "completed"
    },
    "slideshow": {
     "slide_type": ""
    },
    "tags": []
   },
   "outputs": [],
   "source": []
  }
 ],
 "metadata": {
  "kernelspec": {
   "display_name": "Python 3 (ipykernel)",
   "language": "python",
   "name": "python3"
  },
  "language_info": {
   "codemirror_mode": {
    "name": "ipython",
    "version": 3
   },
   "file_extension": ".py",
   "mimetype": "text/x-python",
   "name": "python",
   "nbconvert_exporter": "python",
   "pygments_lexer": "ipython3",
   "version": "3.11.6"
  },
  "papermill": {
   "default_parameters": {},
   "duration": 73.848904,
   "end_time": "2025-01-30T07:32:12.574026",
   "environment_variables": {},
   "exception": null,
   "input_path": "decoding_speed_mwpm.ipynb",
   "output_path": "decoding_speed_mwpf.ipynb",
   "parameters": {
    "decoder": "mwpf",
    "json_filename": "speed-rsc-mwpf.json"
   },
   "start_time": "2025-01-30T07:30:58.725122",
   "version": "2.6.0"
  }
 },
 "nbformat": 4,
 "nbformat_minor": 5
}
