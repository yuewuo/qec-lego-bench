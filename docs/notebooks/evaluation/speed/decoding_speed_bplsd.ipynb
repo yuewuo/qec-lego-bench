{
 "cells": [
  {
   "cell_type": "markdown",
   "id": "a3082d18-56df-4834-8963-586a5500bced",
   "metadata": {
    "editable": true,
    "papermill": {
     "duration": 0.002956,
     "end_time": "2025-01-30T07:37:09.086584",
     "exception": false,
     "start_time": "2025-01-30T07:37:09.083628",
     "status": "completed"
    },
    "slideshow": {
     "slide_type": ""
    },
    "tags": []
   },
   "source": [
    "# Decoding Speed"
   ]
  },
  {
   "cell_type": "code",
   "execution_count": 1,
   "id": "afceb91f-5b83-487f-96f9-5015002f5daf",
   "metadata": {
    "editable": true,
    "execution": {
     "iopub.execute_input": "2025-01-30T07:37:09.092237Z",
     "iopub.status.busy": "2025-01-30T07:37:09.091446Z",
     "iopub.status.idle": "2025-01-30T07:37:09.112823Z",
     "shell.execute_reply": "2025-01-30T07:37:09.112432Z"
    },
    "papermill": {
     "duration": 0.025247,
     "end_time": "2025-01-30T07:37:09.113952",
     "exception": false,
     "start_time": "2025-01-30T07:37:09.088705",
     "status": "completed"
    },
    "slideshow": {
     "slide_type": ""
    },
    "tags": [
     "parameters"
    ]
   },
   "outputs": [],
   "source": [
    "# This cell is tagged `parameters` and will be override by `papermill`\n",
    "decoder: str = \"mwpm\"\n",
    "json_filename: str = \"speed-rsc-mwpm.json\"  # where to save the result, must be provided\n",
    "\n",
    "rounds: int = 200\n",
    "kwargs = dict(\n",
    "    min_time = 60,\n",
    "    min_shots = 50,\n",
    "    min_init_time = 0.1,\n",
    "    min_init_shots = 1,\n",
    ")\n",
    "max_per_round_time: float = 0.1  # if each round takes more than 100ms to decode, then do not run the next `d`, since it is not meaningful anymore"
   ]
  },
  {
   "cell_type": "code",
   "execution_count": 2,
   "id": "ebacb6be",
   "metadata": {
    "execution": {
     "iopub.execute_input": "2025-01-30T07:37:09.117374Z",
     "iopub.status.busy": "2025-01-30T07:37:09.117230Z",
     "iopub.status.idle": "2025-01-30T07:37:09.119093Z",
     "shell.execute_reply": "2025-01-30T07:37:09.118763Z"
    },
    "papermill": {
     "duration": 0.004891,
     "end_time": "2025-01-30T07:37:09.120197",
     "exception": false,
     "start_time": "2025-01-30T07:37:09.115306",
     "status": "completed"
    },
    "tags": [
     "injected-parameters"
    ]
   },
   "outputs": [],
   "source": [
    "# Parameters\n",
    "decoder = \"bplsd\"\n",
    "json_filename = \"speed-rsc-bplsd.json\"\n"
   ]
  },
  {
   "cell_type": "code",
   "execution_count": 3,
   "id": "5e4bf8f4-0e7c-453e-aacd-18c9061a999c",
   "metadata": {
    "editable": true,
    "execution": {
     "iopub.execute_input": "2025-01-30T07:37:09.123665Z",
     "iopub.status.busy": "2025-01-30T07:37:09.123503Z",
     "iopub.status.idle": "2025-01-30T07:37:09.133897Z",
     "shell.execute_reply": "2025-01-30T07:37:09.133603Z"
    },
    "papermill": {
     "duration": 0.013308,
     "end_time": "2025-01-30T07:37:09.134951",
     "exception": false,
     "start_time": "2025-01-30T07:37:09.121643",
     "status": "completed"
    },
    "slideshow": {
     "slide_type": ""
    },
    "tags": []
   },
   "outputs": [],
   "source": [
    "%load_ext autoreload\n",
    "%autoreload 2"
   ]
  },
  {
   "cell_type": "code",
   "execution_count": 4,
   "id": "552dcc10-a319-487b-a20b-09221382176b",
   "metadata": {
    "editable": true,
    "execution": {
     "iopub.execute_input": "2025-01-30T07:37:09.138173Z",
     "iopub.status.busy": "2025-01-30T07:37:09.138046Z",
     "iopub.status.idle": "2025-01-30T07:37:09.145016Z",
     "shell.execute_reply": "2025-01-30T07:37:09.144668Z"
    },
    "papermill": {
     "duration": 0.009758,
     "end_time": "2025-01-30T07:37:09.146029",
     "exception": false,
     "start_time": "2025-01-30T07:37:09.136271",
     "status": "completed"
    },
    "slideshow": {
     "slide_type": ""
    },
    "tags": []
   },
   "outputs": [],
   "source": [
    "# import psutil\n",
    "# psutil.Process().nice(0)# if on *ux\n",
    "# psutil.Process().nice(psutil.IDLE_PRIORITY_CLASS)# if on win"
   ]
  },
  {
   "cell_type": "code",
   "execution_count": 5,
   "id": "f4ce38b6-65b8-4ec5-b097-aab9f6943e10",
   "metadata": {
    "editable": true,
    "execution": {
     "iopub.execute_input": "2025-01-30T07:37:09.149195Z",
     "iopub.status.busy": "2025-01-30T07:37:09.149074Z",
     "iopub.status.idle": "2025-01-30T07:37:10.254476Z",
     "shell.execute_reply": "2025-01-30T07:37:10.254127Z"
    },
    "papermill": {
     "duration": 1.108189,
     "end_time": "2025-01-30T07:37:10.255594",
     "exception": false,
     "start_time": "2025-01-30T07:37:09.147405",
     "status": "completed"
    },
    "slideshow": {
     "slide_type": ""
    },
    "tags": []
   },
   "outputs": [],
   "source": [
    "from qec_lego_bench.cli.decoding_speed import decoding_speed, DecodingSpeedResult\n",
    "from qec_lego_bench.hpc.job_store import Job, JobStore\n",
    "from qec_lego_bench.hpc.plotter.logical_error_rate_plotter import *"
   ]
  },
  {
   "cell_type": "code",
   "execution_count": 6,
   "id": "2eb79028-afab-46a7-a36e-f567fd486716",
   "metadata": {
    "editable": true,
    "execution": {
     "iopub.execute_input": "2025-01-30T07:37:10.259426Z",
     "iopub.status.busy": "2025-01-30T07:37:10.259112Z",
     "iopub.status.idle": "2025-01-30T07:38:21.300536Z",
     "shell.execute_reply": "2025-01-30T07:38:21.300166Z"
    },
    "papermill": {
     "duration": 71.045604,
     "end_time": "2025-01-30T07:38:21.302694",
     "exception": false,
     "start_time": "2025-01-30T07:37:10.257090",
     "status": "completed"
    },
    "slideshow": {
     "slide_type": ""
    },
    "tags": []
   },
   "outputs": [
    {
     "name": "stdout",
     "output_type": "stream",
     "text": [
      "d_vec: [3, 5, 7, 9, 11, 13, 15, 17, 19, 23, 27, 31, 37, 43, 51]\n",
      "d: 3, p: 1e-05\n",
      "\r",
      "\u001b[KEvaluating initialization of 1 shots, elapsed: 0.003467s, average: 3.467e-03s per shot\r"
     ]
    },
    {
     "name": "stdout",
     "output_type": "stream",
     "text": [
      "\r",
      "\u001b[KEvaluating initialization of 2 shots, elapsed: 0.005848s, average: 2.924e-03s per shot\r"
     ]
    },
    {
     "name": "stdout",
     "output_type": "stream",
     "text": [
      "\r",
      "\u001b[KEvaluating initialization of 4 shots, elapsed: 0.011626s, average: 2.907e-03s per shot\r"
     ]
    },
    {
     "name": "stdout",
     "output_type": "stream",
     "text": [
      "\r",
      "\u001b[KEvaluating initialization of 8 shots, elapsed: 0.022128s, average: 2.766e-03s per shot\r"
     ]
    },
    {
     "name": "stdout",
     "output_type": "stream",
     "text": [
      "\r",
      "\u001b[KEvaluating initialization of 16 shots, elapsed: 0.044029s, average: 2.752e-03s per shot\r"
     ]
    },
    {
     "name": "stdout",
     "output_type": "stream",
     "text": [
      "\r",
      "\u001b[KEvaluating initialization of 32 shots, elapsed: 0.086301s, average: 2.697e-03s per shot\r"
     ]
    },
    {
     "name": "stdout",
     "output_type": "stream",
     "text": [
      "\r",
      "\u001b[KEvaluating initialization of 64 shots, elapsed: 0.176097s, average: 2.752e-03s per shot\r"
     ]
    },
    {
     "name": "stdout",
     "output_type": "stream",
     "text": [
      "\n",
      "initialization time: 2.752e-03s\n",
      "\r",
      "\u001b[KEvaluating decoding of 50 shots, elapsed: 0.001237s, average: 2.474e-05s per shot\r"
     ]
    },
    {
     "name": "stdout",
     "output_type": "stream",
     "text": [
      "\r",
      "\u001b[KEvaluating decoding of 100 shots, elapsed: 0.002304s, average: 2.304e-05s per shot\r"
     ]
    },
    {
     "name": "stdout",
     "output_type": "stream",
     "text": [
      "\r",
      "\u001b[KEvaluating decoding of 200 shots, elapsed: 0.004032s, average: 2.016e-05s per shot\r"
     ]
    },
    {
     "name": "stdout",
     "output_type": "stream",
     "text": [
      "\r",
      "\u001b[KEvaluating decoding of 400 shots, elapsed: 0.007877s, average: 1.969e-05s per shot\r"
     ]
    },
    {
     "name": "stdout",
     "output_type": "stream",
     "text": [
      "\r",
      "\u001b[KEvaluating decoding of 800 shots, elapsed: 0.015970s, average: 1.996e-05s per shot\r"
     ]
    },
    {
     "name": "stdout",
     "output_type": "stream",
     "text": [
      "\r",
      "\u001b[KEvaluating decoding of 1600 shots, elapsed: 0.029462s, average: 1.841e-05s per shot\r"
     ]
    },
    {
     "name": "stdout",
     "output_type": "stream",
     "text": [
      "\r",
      "\u001b[KEvaluating decoding of 3200 shots, elapsed: 0.059711s, average: 1.866e-05s per shot\r"
     ]
    },
    {
     "name": "stdout",
     "output_type": "stream",
     "text": [
      "\r",
      "\u001b[KEvaluating decoding of 6400 shots, elapsed: 0.125208s, average: 1.956e-05s per shot\r"
     ]
    },
    {
     "name": "stdout",
     "output_type": "stream",
     "text": [
      "\r",
      "\u001b[KEvaluating decoding of 12800 shots, elapsed: 0.242233s, average: 1.892e-05s per shot\r"
     ]
    },
    {
     "name": "stdout",
     "output_type": "stream",
     "text": [
      "\r",
      "\u001b[KEvaluating decoding of 25600 shots, elapsed: 0.475308s, average: 1.857e-05s per shot\r"
     ]
    },
    {
     "name": "stdout",
     "output_type": "stream",
     "text": [
      "\r",
      "\u001b[KEvaluating decoding of 51200 shots, elapsed: 0.952540s, average: 1.860e-05s per shot\r"
     ]
    },
    {
     "name": "stdout",
     "output_type": "stream",
     "text": [
      "\r",
      "\u001b[KEvaluating decoding of 102400 shots, elapsed: 1.896588s, average: 1.852e-05s per shot\r"
     ]
    },
    {
     "name": "stdout",
     "output_type": "stream",
     "text": [
      "\r",
      "\u001b[KEvaluating decoding of 3563452 shots, elapsed: 66.250613s, average: 1.859e-05s per shot\r"
     ]
    },
    {
     "name": "stdout",
     "output_type": "stream",
     "text": [
      "\n",
      "decoding time: 1.859e-05s\n"
     ]
    },
    {
     "data": {
      "text/plain": [
       "DecodingSpeedResult(elapsed=66.25061327777075, shots=3563452)"
      ]
     },
     "execution_count": 6,
     "metadata": {},
     "output_type": "execute_result"
    }
   ],
   "source": [
    "def generate_d_vec(ratio: float = 1.18, max_d: int = 51) -> list[int]:\n",
    "    d = 3\n",
    "    d_vec = [d]\n",
    "    while d <= max_d:\n",
    "        int_d = 2 * round(d / 2) + 1\n",
    "        if int_d != d_vec[-1]:\n",
    "            d_vec.append(int_d)\n",
    "        d *= ratio\n",
    "    return d_vec\n",
    "d_vec = generate_d_vec()\n",
    "print(\"d_vec:\", d_vec)\n",
    "p_vec = [0.00001, 0.0001, 0.001, 0.003, 0.01]\n",
    "\n",
    "def evaluation_function(d: int, p: float, rounds: int, verbose: bool = True) -> DecodingSpeedResult:\n",
    "    if verbose:\n",
    "        print(f\"d: {d}, p: {p}\")\n",
    "    return decoding_speed(decoder=decoder, code=f\"rsc(d={d},p={p})\", **kwargs, no_print=not verbose)\n",
    "\n",
    "jobs = [Job(d=d, p=p, rounds=rounds) for p in p_vec for d in d_vec[:1]]  # only add the smallest d and dynamically add others\n",
    "evaluation_function(min(d_vec), min(p_vec), rounds)"
   ]
  },
  {
   "cell_type": "markdown",
   "id": "ebd460d0-efa9-4075-9a1d-a62791230623",
   "metadata": {
    "editable": true,
    "papermill": {
     "duration": 0.001718,
     "end_time": "2025-01-30T07:38:21.306476",
     "exception": false,
     "start_time": "2025-01-30T07:38:21.304758",
     "status": "completed"
    },
    "slideshow": {
     "slide_type": ""
    },
    "tags": []
   },
   "source": [
    "Define the plot functionality"
   ]
  },
  {
   "cell_type": "code",
   "execution_count": 7,
   "id": "aea5f255-0cca-4a5b-a43d-f5d4b460d502",
   "metadata": {
    "editable": true,
    "execution": {
     "iopub.execute_input": "2025-01-30T07:38:21.312636Z",
     "iopub.status.busy": "2025-01-30T07:38:21.312465Z",
     "iopub.status.idle": "2025-01-30T07:38:21.334923Z",
     "shell.execute_reply": "2025-01-30T07:38:21.334639Z"
    },
    "papermill": {
     "duration": 0.027713,
     "end_time": "2025-01-30T07:38:21.335902",
     "exception": false,
     "start_time": "2025-01-30T07:38:21.308189",
     "status": "completed"
    },
    "slideshow": {
     "slide_type": ""
    },
    "tags": []
   },
   "outputs": [
    {
     "data": {
      "image/png": "[encoded data removed]",
      "text/plain": [
       "<Figure size 640x480 with 1 Axes>"
      ]
     },
     "metadata": {},
     "output_type": "display_data"
    }
   ],
   "source": [
    "@dataclass\n",
    "class DecodingTimePlotter:\n",
    "    hdisplay: display.DisplayHandle = field(\n",
    "        default_factory=lambda: display.display(\"\", display_id=True)\n",
    "    )\n",
    "\n",
    "    def __call__(self, executor: MonteCarloJobExecutor):\n",
    "        # add more d if the previous one is not too slow\n",
    "        for p in p_vec:\n",
    "            for d_idx, d in enumerate(d_vec[:-1]):\n",
    "                job = executor.get_job(d=d, p=p, rounds=rounds)\n",
    "                if job is None or job.result is None:\n",
    "                    continue\n",
    "                per_round_time = job.result.decoding_time / rounds\n",
    "                if per_round_time > max_per_round_time:\n",
    "                    break\n",
    "                next_d = d_vec[d_idx + 1]\n",
    "                next_job = executor.get_job(d=next_d, p=p, rounds=rounds)\n",
    "                if next_job is None:\n",
    "                    executor.add_job(Job(d=next_d, p=p, rounds=rounds))\n",
    "\n",
    "        # plot the results\n",
    "        fig, ax = plt.subplots(1, 1)\n",
    "        ax.clear()\n",
    "        ax.set_xlabel(\"code distance $d$\")\n",
    "        ax.set_ylabel(\"decoding time per measurement round\")\n",
    "        ax.set_xlim(min(d_vec) / 1.2, max(d_vec) * 1.2)\n",
    "        ax.set_xscale(\"log\")\n",
    "        ax.set_ylim(1e-10, 1e3)\n",
    "        ax.set_yscale(\"log\")\n",
    "        for p in p_vec:\n",
    "            x_vec = []\n",
    "            y_vec = []\n",
    "            for d in d_vec:\n",
    "                job = executor.get_job(d=d, p=p, rounds=rounds)\n",
    "                if job is None or job.result is None:\n",
    "                    continue\n",
    "                x_vec.append(d)\n",
    "                y_vec.append(job.result.decoding_time / rounds)\n",
    "            ax.errorbar(x_vec, y_vec, label=f\"p={p}\", fmt=\"o-\")\n",
    "        fig.legend()\n",
    "        self.hdisplay.update(fig)\n",
    "        plt.close(fig)\n",
    "\n",
    "plotter = DecodingTimePlotter()"
   ]
  },
  {
   "cell_type": "code",
   "execution_count": 8,
   "id": "1cfa5901-2d84-4321-90e2-220ac77b9da1",
   "metadata": {
    "editable": true,
    "execution": {
     "iopub.execute_input": "2025-01-30T07:38:21.340761Z",
     "iopub.status.busy": "2025-01-30T07:38:21.340615Z",
     "iopub.status.idle": "2025-01-30T07:38:21.731223Z",
     "shell.execute_reply": "2025-01-30T07:38:21.730928Z"
    },
    "papermill": {
     "duration": 0.394053,
     "end_time": "2025-01-30T07:38:21.732108",
     "exception": false,
     "start_time": "2025-01-30T07:38:21.338055",
     "status": "completed"
    },
    "slideshow": {
     "slide_type": ""
    },
    "tags": []
   },
   "outputs": [],
   "source": [
    "job_store = JobStore(evaluation_function, jobs, result_type=DecodingSpeedResult, filename=json_filename)\n",
    "job_store.execute(loop_callback=plotter)"
   ]
  },
  {
   "cell_type": "code",
   "execution_count": null,
   "id": "a2edb553-f1b5-41ba-9643-86978a83b3e8",
   "metadata": {
    "editable": true,
    "papermill": {
     "duration": 0.001939,
     "end_time": "2025-01-30T07:38:21.736320",
     "exception": false,
     "start_time": "2025-01-30T07:38:21.734381",
     "status": "completed"
    },
    "slideshow": {
     "slide_type": ""
    },
    "tags": []
   },
   "outputs": [],
   "source": []
  }
 ],
 "metadata": {
  "kernelspec": {
   "display_name": "Python 3 (ipykernel)",
   "language": "python",
   "name": "python3"
  },
  "language_info": {
   "codemirror_mode": {
    "name": "ipython",
    "version": 3
   },
   "file_extension": ".py",
   "mimetype": "text/x-python",
   "name": "python",
   "nbconvert_exporter": "python",
   "pygments_lexer": "ipython3",
   "version": "3.11.6"
  },
  "papermill": {
   "default_parameters": {},
   "duration": 74.038487,
   "end_time": "2025-01-30T07:38:22.160296",
   "environment_variables": {},
   "exception": null,
   "input_path": "decoding_speed_mwpm.ipynb",
   "output_path": "decoding_speed_bplsd.ipynb",
   "parameters": {
    "decoder": "bplsd",
    "json_filename": "speed-rsc-bplsd.json"
   },
   "start_time": "2025-01-30T07:37:08.121809",
   "version": "2.6.0"
  }
 },
 "nbformat": 4,
 "nbformat_minor": 5
}