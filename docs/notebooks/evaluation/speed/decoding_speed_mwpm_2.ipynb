{
 "cells": [
  {
   "cell_type": "markdown",
   "id": "a3082d18-56df-4834-8963-586a5500bced",
   "metadata": {
    "editable": true,
    "papermill": {
     "duration": 0.001988,
     "end_time": "2025-01-30T07:29:34.595381",
     "exception": false,
     "start_time": "2025-01-30T07:29:34.593393",
     "status": "completed"
    },
    "slideshow": {
     "slide_type": ""
    },
    "tags": []
   },
   "source": [
    "# Decoding Speed"
   ]
  },
  {
   "cell_type": "code",
   "execution_count": 1,
   "id": "afceb91f-5b83-487f-96f9-5015002f5daf",
   "metadata": {
    "editable": true,
    "papermill": {
     "duration": 0.008627,
     "end_time": "2025-01-30T07:29:34.605719",
     "exception": false,
     "start_time": "2025-01-30T07:29:34.597092",
     "status": "completed"
    },
    "slideshow": {
     "slide_type": ""
    },
    "tags": [
     "parameters"
    ]
   },
   "outputs": [],
   "source": [
    "# This cell is tagged `parameters` and will be override by `papermill`\n",
    "decoder: str = \"mwpm\"\n",
    "json_filename: str = \"speed-rsc-mwpm.json\"  # where to save the result, must be provided\n",
    "\n",
    "rounds: int = 200\n",
    "kwargs = dict(\n",
    "    min_time = 60,\n",
    "    min_shots = 50,\n",
    "    min_init_time = 0.1,\n",
    "    min_init_shots = 1,\n",
    ")\n",
    "max_per_round_time: float = 0.1  # if each round takes more than 100ms to decode, then do not run the next `d`, since it is not meaningful anymore"
   ]
  },
  {
   "cell_type": "code",
   "execution_count": 2,
   "id": "5e4bf8f4-0e7c-453e-aacd-18c9061a999c",
   "metadata": {
    "editable": true,
    "papermill": {
     "duration": 0.01248,
     "end_time": "2025-01-30T07:29:34.619344",
     "exception": false,
     "start_time": "2025-01-30T07:29:34.606864",
     "status": "completed"
    },
    "slideshow": {
     "slide_type": ""
    },
    "tags": []
   },
   "outputs": [],
   "source": [
    "%load_ext autoreload\n",
    "%autoreload 2"
   ]
  },
  {
   "cell_type": "code",
   "execution_count": 3,
   "id": "552dcc10-a319-487b-a20b-09221382176b",
   "metadata": {
    "editable": true,
    "papermill": {
     "duration": 0.009686,
     "end_time": "2025-01-30T07:29:34.630239",
     "exception": false,
     "start_time": "2025-01-30T07:29:34.620553",
     "status": "completed"
    },
    "slideshow": {
     "slide_type": ""
    },
    "tags": []
   },
   "outputs": [],
   "source": [
    "# import psutil\n",
    "# psutil.Process().nice(0)# if on *ux\n",
    "# psutil.Process().nice(psutil.IDLE_PRIORITY_CLASS)# if on win"
   ]
  },
  {
   "cell_type": "code",
   "execution_count": 4,
   "id": "f4ce38b6-65b8-4ec5-b097-aab9f6943e10",
   "metadata": {
    "editable": true,
    "papermill": {
     "duration": 1.617702,
     "end_time": "2025-01-30T07:29:36.249203",
     "exception": false,
     "start_time": "2025-01-30T07:29:34.631501",
     "status": "completed"
    },
    "slideshow": {
     "slide_type": ""
    },
    "tags": []
   },
   "outputs": [],
   "source": [
    "from qec_lego_bench.cli.decoding_speed import decoding_speed, DecodingSpeedResult\n",
    "from qec_lego_bench.hpc.job_store import Job, JobStore\n",
    "from qec_lego_bench.hpc.plotter.logical_error_rate_plotter import *"
   ]
  },
  {
   "cell_type": "code",
   "execution_count": 5,
   "id": "2eb79028-afab-46a7-a36e-f567fd486716",
   "metadata": {
    "editable": true,
    "papermill": {
     "duration": 6.491517,
     "end_time": "2025-01-30T07:29:42.742065",
     "exception": false,
     "start_time": "2025-01-30T07:29:36.250548",
     "status": "completed"
    },
    "slideshow": {
     "slide_type": ""
    },
    "tags": []
   },
   "outputs": [
    {
     "name": "stdout",
     "output_type": "stream",
     "text": [
      "d_vec: [3, 5, 7, 9, 11, 13, 15, 17, 19, 23, 27, 31, 37, 43, 51]\n"
     ]
    },
    {
     "name": "stdout",
     "output_type": "stream",
     "text": [
      "\r\n",
      "\u001b[KEvaluating initialization of 4 shots, elapsed: 0.001444s, average: 3.610e-04s per shot\r"
     ]
    },
    {
     "name": "stdout",
     "output_type": "stream",
     "text": [
      "\r\n",
      "\u001b[KEvaluating initialization of 8 shots, elapsed: 0.002802s, average: 3.503e-04s per shot\r"
     ]
    },
    {
     "name": "stdout",
     "output_type": "stream",
     "text": [
      "\r\n",
      "\u001b[KEvaluating initialization of 16 shots, elapsed: 0.005371s, average: 3.357e-04s per shot\r"
     ]
    },
    {
     "name": "stdout",
     "output_type": "stream",
     "text": [
      "\r\n",
      "\u001b[KEvaluating initialization of 32 shots, elapsed: 0.010849s, average: 3.390e-04s per shot\r"
     ]
    },
    {
     "name": "stdout",
     "output_type": "stream",
     "text": [
      "\r\n",
      "\u001b[KEvaluating initialization of 64 shots, elapsed: 0.021586s, average: 3.373e-04s per shot\r"
     ]
    },
    {
     "name": "stdout",
     "output_type": "stream",
     "text": [
      "\r\n",
      "\u001b[KEvaluating initialization of 128 shots, elapsed: 0.042899s, average: 3.352e-04s per shot\r"
     ]
    },
    {
     "name": "stdout",
     "output_type": "stream",
     "text": [
      "\r\n",
      "\u001b[KEvaluating initialization of 256 shots, elapsed: 0.084741s, average: 3.310e-04s per shot\r"
     ]
    },
    {
     "name": "stdout",
     "output_type": "stream",
     "text": [
      "\r\n",
      "\u001b[KEvaluating initialization of 512 shots, elapsed: 0.172093s, average: 3.361e-04s per shot\r"
     ]
    },
    {
     "name": "stdout",
     "output_type": "stream",
     "text": [
      "\n",
      "initialization time: 3.361e-04s\n",
      "\r\n",
      "\u001b[KEvaluating decoding of 50 shots, elapsed: 0.000042s, average: 8.376e-07s per shot\r"
     ]
    },
    {
     "name": "stdout",
     "output_type": "stream",
     "text": [
      "\r\n",
      "\u001b[KEvaluating decoding of 100 shots, elapsed: 0.000077s, average: 7.738e-07s per shot\r"
     ]
    },
    {
     "name": "stdout",
     "output_type": "stream",
     "text": [
      "\r\n",
      "\u001b[KEvaluating decoding of 200 shots, elapsed: 0.000254s, average: 1.268e-06s per shot\r"
     ]
    },
    {
     "name": "stdout",
     "output_type": "stream",
     "text": [
      "\r\n",
      "\u001b[KEvaluating decoding of 400 shots, elapsed: 0.000262s, average: 6.541e-07s per shot\r"
     ]
    },
    {
     "name": "stdout",
     "output_type": "stream",
     "text": [
      "\r\n",
      "\u001b[KEvaluating decoding of 800 shots, elapsed: 0.000097s, average: 1.213e-07s per shot\r"
     ]
    },
    {
     "name": "stdout",
     "output_type": "stream",
     "text": [
      "\r\n",
      "\u001b[KEvaluating decoding of 1600 shots, elapsed: 0.000191s, average: 1.192e-07s per shot\r"
     ]
    },
    {
     "name": "stdout",
     "output_type": "stream",
     "text": [
      "\r\n",
      "\u001b[KEvaluating decoding of 3200 shots, elapsed: 0.000346s, average: 1.082e-07s per shot\r"
     ]
    },
    {
     "name": "stdout",
     "output_type": "stream",
     "text": [
      "\r\n",
      "\u001b[KEvaluating decoding of 6400 shots, elapsed: 0.000763s, average: 1.192e-07s per shot\r"
     ]
    },
    {
     "name": "stdout",
     "output_type": "stream",
     "text": [
      "\r\n",
      "\u001b[KEvaluating decoding of 12800 shots, elapsed: 0.001453s, average: 1.135e-07s per shot\r"
     ]
    },
    {
     "name": "stdout",
     "output_type": "stream",
     "text": [
      "\r\n",
      "\u001b[KEvaluating decoding of 25600 shots, elapsed: 0.003121s, average: 1.219e-07s per shot\r"
     ]
    },
    {
     "name": "stdout",
     "output_type": "stream",
     "text": [
      "\r\n",
      "\u001b[KEvaluating decoding of 51200 shots, elapsed: 0.006096s, average: 1.191e-07s per shot\r"
     ]
    },
    {
     "name": "stdout",
     "output_type": "stream",
     "text": [
      "\r\n",
      "\u001b[KEvaluating decoding of 102400 shots, elapsed: 0.011889s, average: 1.161e-07s per shot\r"
     ]
    },
    {
     "name": "stdout",
     "output_type": "stream",
     "text": [
      "\r\n",
      "\u001b[KEvaluating decoding of 204800 shots, elapsed: 0.022888s, average: 1.118e-07s per shot\r"
     ]
    },
    {
     "name": "stdout",
     "output_type": "stream",
     "text": [
      "\r\n",
      "\u001b[KEvaluating decoding of 409600 shots, elapsed: 0.045146s, average: 1.102e-07s per shot\r"
     ]
    },
    {
     "name": "stdout",
     "output_type": "stream",
     "text": [
      "\r\n",
      "\u001b[KEvaluating decoding of 819200 shots, elapsed: 0.089546s, average: 1.093e-07s per shot\r"
     ]
    },
    {
     "name": "stdout",
     "output_type": "stream",
     "text": [
      "\r\n",
      "\u001b[KEvaluating decoding of 1638400 shots, elapsed: 0.178770s, average: 1.091e-07s per shot\r"
     ]
    },
    {
     "name": "stdout",
     "output_type": "stream",
     "text": [
      "\r\n",
      "\u001b[KEvaluating decoding of 3276800 shots, elapsed: 0.388312s, average: 1.185e-07s per shot\r"
     ]
    },
    {
     "name": "stdout",
     "output_type": "stream",
     "text": [
      "\r\n",
      "\u001b[KEvaluating decoding of 6553600 shots, elapsed: 0.721846s, average: 1.101e-07s per shot\r"
     ]
    },
    {
     "name": "stdout",
     "output_type": "stream",
     "text": [
      "\r\n",
      "\u001b[KEvaluating decoding of 10000000 shots, elapsed: 1.098042s, average: 1.098e-07s per shot\r"
     ]
    },
    {
     "name": "stdout",
     "output_type": "stream",
     "text": [
      "\n",
      "decoding time: 1.098e-07s\n"
     ]
    },
    {
     "data": {
      "text/plain": [
       "DecodingSpeedResult(elapsed=1.098041715319141, shots=10000000)"
      ]
     },
     "execution_count": 5,
     "metadata": {},
     "output_type": "execute_result"
    }
   ],
   "source": [
    "def generate_d_vec(ratio: float = 1.18, max_d: int = 51) -> list[int]:\n",
    "    d = 3\n",
    "    d_vec = [d]\n",
    "    while d <= max_d:\n",
    "        int_d = 2 * round(d / 2) + 1\n",
    "        if int_d != d_vec[-1]:\n",
    "            d_vec.append(int_d)\n",
    "        d *= ratio\n",
    "    return d_vec\n",
    "d_vec = generate_d_vec()\n",
    "print(\"d_vec:\", d_vec)\n",
    "p_vec = [0.00001, 0.0001, 0.001, 0.003, 0.01]\n",
    "\n",
    "def evaluation_function(d: int, p: float, rounds: int, verbose: bool = True) -> DecodingSpeedResult:\n",
    "    if verbose:\n",
    "        print(f\"d: {d}, p: {p}\")\n",
    "    return decoding_speed(decoder=decoder, code=f\"rsc(d={d},p={p})\", **kwargs, no_print=not verbose)\n",
    "\n",
    "jobs = [Job(d=d, p=p, rounds=rounds) for p in p_vec for d in d_vec[:1]]  # only add the smallest d and dynamically add others\n",
    "# evaluation_function(min(d_vec), min(p_vec), rounds)"
   ]
  },
  {
   "cell_type": "markdown",
   "id": "ebd460d0-efa9-4075-9a1d-a62791230623",
   "metadata": {
    "editable": true,
    "papermill": {
     "duration": 0.002051,
     "end_time": "2025-01-30T07:29:42.746514",
     "exception": false,
     "start_time": "2025-01-30T07:29:42.744463",
     "status": "completed"
    },
    "slideshow": {
     "slide_type": ""
    },
    "tags": []
   },
   "source": [
    "Define the plot functionality"
   ]
  },
  {
   "cell_type": "code",
   "execution_count": 6,
   "id": "aea5f255-0cca-4a5b-a43d-f5d4b460d502",
   "metadata": {
    "editable": true,
    "papermill": {
     "duration": 0.02126,
     "end_time": "2025-01-30T07:29:42.769773",
     "exception": false,
     "start_time": "2025-01-30T07:29:42.748513",
     "status": "completed"
    },
    "slideshow": {
     "slide_type": ""
    },
    "tags": []
   },
   "outputs": [
    {
     "data": {
      "image/png": "[encoded data removed]",
      "text/plain": [
       "<Figure size 640x480 with 1 Axes>"
      ]
     },
     "metadata": {},
     "output_type": "display_data"
    },
    {
     "data": {
      "text/plain": [
       "<Figure size 640x480 with 0 Axes>"
      ]
     },
     "metadata": {},
     "output_type": "display_data"
    }
   ],
   "source": [
    "from decoding_time_plotter import DecodingTimePlotter\n",
    "\n",
    "plotter = DecodingTimePlotter(p_vec=p_vec, d_vec=d_vec, rounds=rounds, max_per_round_time=max_per_round_time)"
   ]
  },
  {
   "cell_type": "code",
   "execution_count": 7,
   "id": "1cfa5901-2d84-4321-90e2-220ac77b9da1",
   "metadata": {
    "editable": true,
    "papermill": {
     "duration": 0.44773,
     "end_time": "2025-01-30T07:29:43.219716",
     "exception": false,
     "start_time": "2025-01-30T07:29:42.771986",
     "status": "completed"
    },
    "slideshow": {
     "slide_type": ""
    },
    "tags": []
   },
   "outputs": [
    {
     "data": {
      "text/plain": [
       "<Figure size 640x480 with 0 Axes>"
      ]
     },
     "metadata": {},
     "output_type": "display_data"
    }
   ],
   "source": [
    "job_store = JobStore(evaluation_function, jobs, result_type=DecodingSpeedResult, filename=json_filename)\n",
    "job_store.execute(loop_callback=plotter)"
   ]
  },
  {
   "cell_type": "code",
   "execution_count": null,
   "id": "a2edb553-f1b5-41ba-9643-86978a83b3e8",
   "metadata": {
    "editable": true,
    "papermill": {
     "duration": 0.002417,
     "end_time": "2025-01-30T07:29:43.224711",
     "exception": false,
     "start_time": "2025-01-30T07:29:43.222294",
     "status": "completed"
    },
    "slideshow": {
     "slide_type": ""
    },
    "tags": []
   },
   "outputs": [],
   "source": []
  }
 ],
 "metadata": {
  "kernelspec": {
   "display_name": "Python 3 (ipykernel)",
   "language": "python",
   "name": "python3"
  },
  "language_info": {
   "codemirror_mode": {
    "name": "ipython",
    "version": 3
   },
   "file_extension": ".py",
   "mimetype": "text/x-python",
   "name": "python",
   "nbconvert_exporter": "python",
   "pygments_lexer": "ipython3",
   "version": "3.11.6"
  },
  "papermill": {
   "default_parameters": {},
   "duration": 9.889966,
   "end_time": "2025-01-30T07:29:43.645094",
   "environment_variables": {},
   "exception": null,
   "input_path": "decoding_speed_mwpm.ipynb",
   "output_path": "decoding_speed_mwpm_2.ipynb",
   "parameters": {},
   "start_time": "2025-01-30T07:29:33.755128",
   "version": "2.6.0"
  }
 },
 "nbformat": 4,
 "nbformat_minor": 5
}
