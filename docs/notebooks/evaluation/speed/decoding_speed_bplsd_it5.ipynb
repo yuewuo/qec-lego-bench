{
 "cells": [
  {
   "cell_type": "markdown",
   "id": "a3082d18-56df-4834-8963-586a5500bced",
   "metadata": {
    "editable": true,
    "papermill": {
     "duration": 0.00385,
     "end_time": "2025-01-30T07:33:26.503739",
     "exception": false,
     "start_time": "2025-01-30T07:33:26.499889",
     "status": "completed"
    },
    "slideshow": {
     "slide_type": ""
    },
    "tags": []
   },
   "source": [
    "# Decoding Speed"
   ]
  },
  {
   "cell_type": "code",
   "execution_count": 1,
   "id": "afceb91f-5b83-487f-96f9-5015002f5daf",
   "metadata": {
    "editable": true,
    "execution": {
     "iopub.execute_input": "2025-01-30T07:33:26.509776Z",
     "iopub.status.busy": "2025-01-30T07:33:26.509479Z",
     "iopub.status.idle": "2025-01-30T07:33:26.516231Z",
     "shell.execute_reply": "2025-01-30T07:33:26.515758Z"
    },
    "papermill": {
     "duration": 0.011374,
     "end_time": "2025-01-30T07:33:26.517654",
     "exception": false,
     "start_time": "2025-01-30T07:33:26.506280",
     "status": "completed"
    },
    "slideshow": {
     "slide_type": ""
    },
    "tags": [
     "parameters"
    ]
   },
   "outputs": [],
   "source": [
    "# This cell is tagged `parameters` and will be override by `papermill`\n",
    "decoder: str = \"mwpm\"\n",
    "json_filename: str = \"speed-rsc-mwpm.json\"  # where to save the result, must be provided\n",
    "\n",
    "rounds: int = 200\n",
    "kwargs = dict(\n",
    "    min_time = 60,\n",
    "    min_shots = 50,\n",
    "    min_init_time = 0.1,\n",
    "    min_init_shots = 1,\n",
    ")\n",
    "max_per_round_time: float = 0.1  # if each round takes more than 100ms to decode, then do not run the next `d`, since it is not meaningful anymore"
   ]
  },
  {
   "cell_type": "code",
   "execution_count": 2,
   "id": "6bc9d69f",
   "metadata": {
    "execution": {
     "iopub.execute_input": "2025-01-30T07:33:26.523031Z",
     "iopub.status.busy": "2025-01-30T07:33:26.522619Z",
     "iopub.status.idle": "2025-01-30T07:33:26.525200Z",
     "shell.execute_reply": "2025-01-30T07:33:26.524760Z"
    },
    "papermill": {
     "duration": 0.006633,
     "end_time": "2025-01-30T07:33:26.526409",
     "exception": false,
     "start_time": "2025-01-30T07:33:26.519776",
     "status": "completed"
    },
    "tags": [
     "injected-parameters"
    ]
   },
   "outputs": [],
   "source": [
    "# Parameters\n",
    "decoder = \"bplsd(max_iter=5)\"\n",
    "json_filename = \"speed-rsc-bplsd-it5.json\"\n"
   ]
  },
  {
   "cell_type": "code",
   "execution_count": 3,
   "id": "5e4bf8f4-0e7c-453e-aacd-18c9061a999c",
   "metadata": {
    "editable": true,
    "execution": {
     "iopub.execute_input": "2025-01-30T07:33:26.530653Z",
     "iopub.status.busy": "2025-01-30T07:33:26.530480Z",
     "iopub.status.idle": "2025-01-30T07:33:26.542188Z",
     "shell.execute_reply": "2025-01-30T07:33:26.541840Z"
    },
    "papermill": {
     "duration": 0.015115,
     "end_time": "2025-01-30T07:33:26.543397",
     "exception": false,
     "start_time": "2025-01-30T07:33:26.528282",
     "status": "completed"
    },
    "slideshow": {
     "slide_type": ""
    },
    "tags": []
   },
   "outputs": [],
   "source": [
    "%load_ext autoreload\n",
    "%autoreload 2"
   ]
  },
  {
   "cell_type": "code",
   "execution_count": 4,
   "id": "552dcc10-a319-487b-a20b-09221382176b",
   "metadata": {
    "editable": true,
    "execution": {
     "iopub.execute_input": "2025-01-30T07:33:26.546772Z",
     "iopub.status.busy": "2025-01-30T07:33:26.546658Z",
     "iopub.status.idle": "2025-01-30T07:33:26.553740Z",
     "shell.execute_reply": "2025-01-30T07:33:26.553445Z"
    },
    "papermill": {
     "duration": 0.009904,
     "end_time": "2025-01-30T07:33:26.554807",
     "exception": false,
     "start_time": "2025-01-30T07:33:26.544903",
     "status": "completed"
    },
    "slideshow": {
     "slide_type": ""
    },
    "tags": []
   },
   "outputs": [],
   "source": [
    "# import psutil\n",
    "# psutil.Process().nice(0)# if on *ux\n",
    "# psutil.Process().nice(psutil.IDLE_PRIORITY_CLASS)# if on win"
   ]
  },
  {
   "cell_type": "code",
   "execution_count": 5,
   "id": "f4ce38b6-65b8-4ec5-b097-aab9f6943e10",
   "metadata": {
    "editable": true,
    "execution": {
     "iopub.execute_input": "2025-01-30T07:33:26.558295Z",
     "iopub.status.busy": "2025-01-30T07:33:26.558169Z",
     "iopub.status.idle": "2025-01-30T07:33:27.723606Z",
     "shell.execute_reply": "2025-01-30T07:33:27.723277Z"
    },
    "papermill": {
     "duration": 1.168433,
     "end_time": "2025-01-30T07:33:27.724733",
     "exception": false,
     "start_time": "2025-01-30T07:33:26.556300",
     "status": "completed"
    },
    "slideshow": {
     "slide_type": ""
    },
    "tags": []
   },
   "outputs": [],
   "source": [
    "from qec_lego_bench.cli.decoding_speed import decoding_speed, DecodingSpeedResult\n",
    "from qec_lego_bench.hpc.job_store import Job, JobStore\n",
    "from qec_lego_bench.hpc.plotter.logical_error_rate_plotter import *"
   ]
  },
  {
   "cell_type": "code",
   "execution_count": 6,
   "id": "2eb79028-afab-46a7-a36e-f567fd486716",
   "metadata": {
    "editable": true,
    "execution": {
     "iopub.execute_input": "2025-01-30T07:33:27.728196Z",
     "iopub.status.busy": "2025-01-30T07:33:27.727977Z",
     "iopub.status.idle": "2025-01-30T07:34:38.645405Z",
     "shell.execute_reply": "2025-01-30T07:34:38.645020Z"
    },
    "papermill": {
     "duration": 70.921702,
     "end_time": "2025-01-30T07:34:38.647958",
     "exception": false,
     "start_time": "2025-01-30T07:33:27.726256",
     "status": "completed"
    },
    "slideshow": {
     "slide_type": ""
    },
    "tags": []
   },
   "outputs": [
    {
     "name": "stdout",
     "output_type": "stream",
     "text": [
      "d_vec: [3, 5, 7, 9, 11, 13, 15, 17, 19, 23, 27, 31, 37, 43, 51]\n",
      "d: 3, p: 1e-05\n",
      "\r",
      "\u001b[KEvaluating initialization of 1 shots, elapsed: 0.004070s, average: 4.070e-03s per shot\r"
     ]
    },
    {
     "name": "stdout",
     "output_type": "stream",
     "text": [
      "\r",
      "\u001b[KEvaluating initialization of 2 shots, elapsed: 0.006068s, average: 3.034e-03s per shot\r"
     ]
    },
    {
     "name": "stdout",
     "output_type": "stream",
     "text": [
      "\r",
      "\u001b[KEvaluating initialization of 4 shots, elapsed: 0.011155s, average: 2.789e-03s per shot\r"
     ]
    },
    {
     "name": "stdout",
     "output_type": "stream",
     "text": [
      "\r",
      "\u001b[KEvaluating initialization of 8 shots, elapsed: 0.021314s, average: 2.664e-03s per shot\r"
     ]
    },
    {
     "name": "stdout",
     "output_type": "stream",
     "text": [
      "\r",
      "\u001b[KEvaluating initialization of 16 shots, elapsed: 0.043030s, average: 2.689e-03s per shot\r"
     ]
    },
    {
     "name": "stdout",
     "output_type": "stream",
     "text": [
      "\r",
      "\u001b[KEvaluating initialization of 32 shots, elapsed: 0.087016s, average: 2.719e-03s per shot\r"
     ]
    },
    {
     "name": "stdout",
     "output_type": "stream",
     "text": [
      "\r",
      "\u001b[KEvaluating initialization of 64 shots, elapsed: 0.273866s, average: 4.279e-03s per shot\r"
     ]
    },
    {
     "name": "stdout",
     "output_type": "stream",
     "text": [
      "\n",
      "initialization time: 4.279e-03s\n",
      "\r",
      "\u001b[KEvaluating decoding of 50 shots, elapsed: -0.000131s, average: -2.624e-06s per shot\r"
     ]
    },
    {
     "name": "stdout",
     "output_type": "stream",
     "text": [
      "\r",
      "\u001b[KEvaluating decoding of 100 shots, elapsed: 0.000644s, average: 6.438e-06s per shot\r"
     ]
    },
    {
     "name": "stdout",
     "output_type": "stream",
     "text": [
      "\r",
      "\u001b[KEvaluating decoding of 200 shots, elapsed: 0.002444s, average: 1.222e-05s per shot\r"
     ]
    },
    {
     "name": "stdout",
     "output_type": "stream",
     "text": [
      "\r",
      "\u001b[KEvaluating decoding of 400 shots, elapsed: 0.006183s, average: 1.546e-05s per shot\r"
     ]
    },
    {
     "name": "stdout",
     "output_type": "stream",
     "text": [
      "\r",
      "\u001b[KEvaluating decoding of 800 shots, elapsed: 0.013238s, average: 1.655e-05s per shot\r"
     ]
    },
    {
     "name": "stdout",
     "output_type": "stream",
     "text": [
      "\r",
      "\u001b[KEvaluating decoding of 1600 shots, elapsed: 0.028325s, average: 1.770e-05s per shot\r"
     ]
    },
    {
     "name": "stdout",
     "output_type": "stream",
     "text": [
      "\r",
      "\u001b[KEvaluating decoding of 3200 shots, elapsed: 0.057645s, average: 1.801e-05s per shot\r"
     ]
    },
    {
     "name": "stdout",
     "output_type": "stream",
     "text": [
      "\r",
      "\u001b[KEvaluating decoding of 6400 shots, elapsed: 0.117827s, average: 1.841e-05s per shot\r"
     ]
    },
    {
     "name": "stdout",
     "output_type": "stream",
     "text": [
      "\r",
      "\u001b[KEvaluating decoding of 12800 shots, elapsed: 0.234562s, average: 1.833e-05s per shot\r"
     ]
    },
    {
     "name": "stdout",
     "output_type": "stream",
     "text": [
      "\r",
      "\u001b[KEvaluating decoding of 25600 shots, elapsed: 0.465597s, average: 1.819e-05s per shot\r"
     ]
    },
    {
     "name": "stdout",
     "output_type": "stream",
     "text": [
      "\r",
      "\u001b[KEvaluating decoding of 51200 shots, elapsed: 0.933953s, average: 1.824e-05s per shot\r"
     ]
    },
    {
     "name": "stdout",
     "output_type": "stream",
     "text": [
      "\r",
      "\u001b[KEvaluating decoding of 102400 shots, elapsed: 1.863604s, average: 1.820e-05s per shot\r"
     ]
    },
    {
     "name": "stdout",
     "output_type": "stream",
     "text": [
      "\r",
      "\u001b[KEvaluating decoding of 3626521 shots, elapsed: 66.079240s, average: 1.822e-05s per shot\r"
     ]
    },
    {
     "name": "stdout",
     "output_type": "stream",
     "text": [
      "\n",
      "decoding time: 1.822e-05s\n"
     ]
    },
    {
     "data": {
      "text/plain": [
       "DecodingSpeedResult(elapsed=66.07923996301179, shots=3626521)"
      ]
     },
     "execution_count": 6,
     "metadata": {},
     "output_type": "execute_result"
    }
   ],
   "source": [
    "def generate_d_vec(ratio: float = 1.18, max_d: int = 51) -> list[int]:\n",
    "    d = 3\n",
    "    d_vec = [d]\n",
    "    while d <= max_d:\n",
    "        int_d = 2 * round(d / 2) + 1\n",
    "        if int_d != d_vec[-1]:\n",
    "            d_vec.append(int_d)\n",
    "        d *= ratio\n",
    "    return d_vec\n",
    "d_vec = generate_d_vec()\n",
    "print(\"d_vec:\", d_vec)\n",
    "p_vec = [0.00001, 0.0001, 0.001, 0.003, 0.01]\n",
    "\n",
    "def evaluation_function(d: int, p: float, rounds: int, verbose: bool = True) -> DecodingSpeedResult:\n",
    "    if verbose:\n",
    "        print(f\"d: {d}, p: {p}\")\n",
    "    return decoding_speed(decoder=decoder, code=f\"rsc(d={d},p={p})\", **kwargs, no_print=not verbose)\n",
    "\n",
    "jobs = [Job(d=d, p=p, rounds=rounds) for p in p_vec for d in d_vec[:1]]  # only add the smallest d and dynamically add others\n",
    "evaluation_function(min(d_vec), min(p_vec), rounds)"
   ]
  },
  {
   "cell_type": "markdown",
   "id": "ebd460d0-efa9-4075-9a1d-a62791230623",
   "metadata": {
    "editable": true,
    "papermill": {
     "duration": 0.002031,
     "end_time": "2025-01-30T07:34:38.652170",
     "exception": false,
     "start_time": "2025-01-30T07:34:38.650139",
     "status": "completed"
    },
    "slideshow": {
     "slide_type": ""
    },
    "tags": []
   },
   "source": [
    "Define the plot functionality"
   ]
  },
  {
   "cell_type": "code",
   "execution_count": 7,
   "id": "aea5f255-0cca-4a5b-a43d-f5d4b460d502",
   "metadata": {
    "editable": true,
    "execution": {
     "iopub.execute_input": "2025-01-30T07:34:38.657996Z",
     "iopub.status.busy": "2025-01-30T07:34:38.657847Z",
     "iopub.status.idle": "2025-01-30T07:34:38.682451Z",
     "shell.execute_reply": "2025-01-30T07:34:38.682110Z"
    },
    "papermill": {
     "duration": 0.02928,
     "end_time": "2025-01-30T07:34:38.683537",
     "exception": false,
     "start_time": "2025-01-30T07:34:38.654257",
     "status": "completed"
    },
    "slideshow": {
     "slide_type": ""
    },
    "tags": []
   },
   "outputs": [
    {
     "data": {
      "image/png": "[encoded data removed]",
      "text/plain": [
       "<Figure size 640x480 with 1 Axes>"
      ]
     },
     "metadata": {},
     "output_type": "display_data"
    }
   ],
   "source": [
    "@dataclass\n",
    "class DecodingTimePlotter:\n",
    "    hdisplay: display.DisplayHandle = field(\n",
    "        default_factory=lambda: display.display(\"\", display_id=True)\n",
    "    )\n",
    "\n",
    "    def __call__(self, executor: MonteCarloJobExecutor):\n",
    "        # add more d if the previous one is not too slow\n",
    "        for p in p_vec:\n",
    "            for d_idx, d in enumerate(d_vec[:-1]):\n",
    "                job = executor.get_job(d=d, p=p, rounds=rounds)\n",
    "                if job is None or job.result is None:\n",
    "                    continue\n",
    "                per_round_time = job.result.decoding_time / rounds\n",
    "                if per_round_time > max_per_round_time:\n",
    "                    break\n",
    "                next_d = d_vec[d_idx + 1]\n",
    "                next_job = executor.get_job(d=next_d, p=p, rounds=rounds)\n",
    "                if next_job is None:\n",
    "                    executor.add_job(Job(d=next_d, p=p, rounds=rounds))\n",
    "\n",
    "        # plot the results\n",
    "        fig, ax = plt.subplots(1, 1)\n",
    "        ax.clear()\n",
    "        ax.set_xlabel(\"code distance $d$\")\n",
    "        ax.set_ylabel(\"decoding time per measurement round\")\n",
    "        ax.set_xlim(min(d_vec) / 1.2, max(d_vec) * 1.2)\n",
    "        ax.set_xscale(\"log\")\n",
    "        ax.set_ylim(1e-10, 1e3)\n",
    "        ax.set_yscale(\"log\")\n",
    "        for p in p_vec:\n",
    "            x_vec = []\n",
    "            y_vec = []\n",
    "            for d in d_vec:\n",
    "                job = executor.get_job(d=d, p=p, rounds=rounds)\n",
    "                if job is None or job.result is None:\n",
    "                    continue\n",
    "                x_vec.append(d)\n",
    "                y_vec.append(job.result.decoding_time / rounds)\n",
    "            ax.errorbar(x_vec, y_vec, label=f\"p={p}\", fmt=\"o-\")\n",
    "        fig.legend()\n",
    "        self.hdisplay.update(fig)\n",
    "        plt.close(fig)\n",
    "\n",
    "plotter = DecodingTimePlotter()"
   ]
  },
  {
   "cell_type": "code",
   "execution_count": 8,
   "id": "1cfa5901-2d84-4321-90e2-220ac77b9da1",
   "metadata": {
    "editable": true,
    "execution": {
     "iopub.execute_input": "2025-01-30T07:34:38.688397Z",
     "iopub.status.busy": "2025-01-30T07:34:38.688255Z",
     "iopub.status.idle": "2025-01-30T07:34:39.105169Z",
     "shell.execute_reply": "2025-01-30T07:34:39.104834Z"
    },
    "papermill": {
     "duration": 0.420439,
     "end_time": "2025-01-30T07:34:39.106114",
     "exception": false,
     "start_time": "2025-01-30T07:34:38.685675",
     "status": "completed"
    },
    "slideshow": {
     "slide_type": ""
    },
    "tags": []
   },
   "outputs": [],
   "source": [
    "job_store = JobStore(evaluation_function, jobs, result_type=DecodingSpeedResult, filename=json_filename)\n",
    "job_store.execute(loop_callback=plotter)"
   ]
  },
  {
   "cell_type": "code",
   "execution_count": null,
   "id": "a2edb553-f1b5-41ba-9643-86978a83b3e8",
   "metadata": {
    "editable": true,
    "papermill": {
     "duration": 0.001955,
     "end_time": "2025-01-30T07:34:39.110400",
     "exception": false,
     "start_time": "2025-01-30T07:34:39.108445",
     "status": "completed"
    },
    "slideshow": {
     "slide_type": ""
    },
    "tags": []
   },
   "outputs": [],
   "source": []
  }
 ],
 "metadata": {
  "kernelspec": {
   "display_name": "Python 3 (ipykernel)",
   "language": "python",
   "name": "python3"
  },
  "language_info": {
   "codemirror_mode": {
    "name": "ipython",
    "version": 3
   },
   "file_extension": ".py",
   "mimetype": "text/x-python",
   "name": "python",
   "nbconvert_exporter": "python",
   "pygments_lexer": "ipython3",
   "version": "3.11.6"
  },
  "papermill": {
   "default_parameters": {},
   "duration": 73.986517,
   "end_time": "2025-01-30T07:34:39.529512",
   "environment_variables": {},
   "exception": null,
   "input_path": "decoding_speed_mwpm.ipynb",
   "output_path": "decoding_speed_bplsd_it5.ipynb",
   "parameters": {
    "decoder": "bplsd(max_iter=5)",
    "json_filename": "speed-rsc-bplsd-it5.json"
   },
   "start_time": "2025-01-30T07:33:25.542995",
   "version": "2.6.0"
  }
 },
 "nbformat": 4,
 "nbformat_minor": 5
}