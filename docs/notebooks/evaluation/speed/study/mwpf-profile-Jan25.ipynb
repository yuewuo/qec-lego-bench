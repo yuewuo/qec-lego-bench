{
 "cells": [
  {
   "cell_type": "markdown",
   "id": "a978d72f",
   "metadata": {},
   "source": [
    "# Profiling the decoders to understand performance bottleneck"
   ]
  },
  {
   "cell_type": "code",
   "execution_count": 1,
   "id": "1b2bb54e-229d-4707-b50c-8735bb7d84c2",
   "metadata": {},
   "outputs": [],
   "source": [
    "%load_ext snakeviz"
   ]
  },
  {
   "cell_type": "code",
   "execution_count": 2,
   "id": "b7114d8b-7d7a-4a23-926e-a26dfaf2b4da",
   "metadata": {},
   "outputs": [],
   "source": [
    "from qec_lego_bench.cli.logical_error_rate import *\n",
    "from qec_lego_bench.stats import Stats\n",
    "import os\n",
    "import cProfile, pstats, io\n",
    "\n"
   ]
  },
  {
   "cell_type": "code",
   "execution_count": 7,
   "id": "2d73c363-4478-4b2f-9836-b480a1f0a20a",
   "metadata": {
    "scrolled": true
   },
   "outputs": [
    {
     "name": "stdout",
     "output_type": "stream",
     "text": [
      " \n",
      "*** Profile stats marshalled to file '/var/folders/vt/khhqppkd1472wb_cdm06rqhr0000gn/T/tmpd40uwo6s'.\n",
      "Embedding SnakeViz in this document...\n",
      "<function display at 0x10510d1c0>\n"
     ]
    },
    {
     "data": {
      "text/html": [
       "\n",
       "<iframe id='snakeviz-570ccf08-dacb-11ef-a0eb-46dbeb0befbb' frameborder=0 seamless width='100%' height='1000'></iframe>\n",
       "<script>document.getElementById(\"snakeviz-570ccf08-dacb-11ef-a0eb-46dbeb0befbb\").setAttribute(\"src\", \"http://\" + document.location.hostname + \":8080/snakeviz/%2Fvar%2Ffolders%2Fvt%2Fkhhqppkd1472wb_cdm06rqhr0000gn%2FT%2Ftmpd40uwo6s\")</script>\n"
      ],
      "text/plain": [
       "<IPython.core.display.HTML object>"
      ]
     },
     "metadata": {},
     "output_type": "display_data"
    }
   ],
   "source": [
    "%%snakeviz\n",
    "shots = 10000\n",
    "logical_error_rate(decoder=\"mwpf\", code=f\"rsc(d=11,p=0.0001)\", max_shots=shots, max_errors=shots, no_progress=True, no_print=True)"
   ]
  },
  {
   "cell_type": "code",
   "execution_count": 8,
   "id": "3e491edd-e2d6-4080-bb8b-e671f7998048",
   "metadata": {
    "scrolled": true
   },
   "outputs": [
    {
     "name": "stdout",
     "output_type": "stream",
     "text": [
      " \n",
      "*** Profile stats marshalled to file '/var/folders/vt/khhqppkd1472wb_cdm06rqhr0000gn/T/tmp1hd__bfm'.\n",
      "Embedding SnakeViz in this document...\n",
      "<function display at 0x10510d1c0>\n"
     ]
    },
    {
     "data": {
      "text/html": [
       "\n",
       "<iframe id='snakeviz-7b7c6cae-dacb-11ef-a0eb-46dbeb0befbb' frameborder=0 seamless width='100%' height='1000'></iframe>\n",
       "<script>document.getElementById(\"snakeviz-7b7c6cae-dacb-11ef-a0eb-46dbeb0befbb\").setAttribute(\"src\", \"http://\" + document.location.hostname + \":8080/snakeviz/%2Fvar%2Ffolders%2Fvt%2Fkhhqppkd1472wb_cdm06rqhr0000gn%2FT%2Ftmp1hd__bfm\")</script>\n"
      ],
      "text/plain": [
       "<IPython.core.display.HTML object>"
      ]
     },
     "metadata": {},
     "output_type": "display_data"
    }
   ],
   "source": [
    "%%snakeviz\n",
    "shots = 10000\n",
    "logical_error_rate(decoder=\"mwpf\", code=f\"rsc(d=15,p=0.0001)\", max_shots=shots, max_errors=shots, no_progress=True, no_print=True)"
   ]
  },
  {
   "cell_type": "code",
   "execution_count": 10,
   "id": "d121c9d9-c19a-4b66-bb82-0112d590c111",
   "metadata": {
    "scrolled": true
   },
   "outputs": [
    {
     "name": "stdout",
     "output_type": "stream",
     "text": [
      " \n",
      "*** Profile stats marshalled to file '/var/folders/vt/khhqppkd1472wb_cdm06rqhr0000gn/T/tmpin0ps8ml'.\n",
      "Embedding SnakeViz in this document...\n",
      "<function display at 0x10420d1c0>\n"
     ]
    },
    {
     "data": {
      "text/html": [
       "\n",
       "<iframe id='snakeviz-e7b18cfe-dad2-11ef-920d-46dbeb0befbb' frameborder=0 seamless width='100%' height='1000'></iframe>\n",
       "<script>document.getElementById(\"snakeviz-e7b18cfe-dad2-11ef-920d-46dbeb0befbb\").setAttribute(\"src\", \"http://\" + document.location.hostname + \":8080/snakeviz/%2Fvar%2Ffolders%2Fvt%2Fkhhqppkd1472wb_cdm06rqhr0000gn%2FT%2Ftmpin0ps8ml\")</script>\n"
      ],
      "text/plain": [
       "<IPython.core.display.HTML object>"
      ]
     },
     "metadata": {},
     "output_type": "display_data"
    }
   ],
   "source": [
    "%%snakeviz\n",
    "shots = 10000\n",
    "logical_error_rate(decoder=\"huf\", code=f\"rsc(d=15,p=0.0001)\", max_shots=shots, max_errors=shots, no_progress=True, no_print=True)"
   ]
  },
  {
   "cell_type": "code",
   "execution_count": 9,
   "id": "2934a2d5-d552-4d84-ad00-de191a1fd64e",
   "metadata": {
    "scrolled": true
   },
   "outputs": [
    {
     "name": "stdout",
     "output_type": "stream",
     "text": [
      " \n",
      "*** Profile stats marshalled to file '/var/folders/vt/khhqppkd1472wb_cdm06rqhr0000gn/T/tmpamdgjsd1'.\n",
      "Embedding SnakeViz in this document...\n",
      "<function display at 0x10510d1c0>\n"
     ]
    },
    {
     "data": {
      "text/html": [
       "\n",
       "<iframe id='snakeviz-a36c2010-dacb-11ef-a0eb-46dbeb0befbb' frameborder=0 seamless width='100%' height='1000'></iframe>\n",
       "<script>document.getElementById(\"snakeviz-a36c2010-dacb-11ef-a0eb-46dbeb0befbb\").setAttribute(\"src\", \"http://\" + document.location.hostname + \":8080/snakeviz/%2Fvar%2Ffolders%2Fvt%2Fkhhqppkd1472wb_cdm06rqhr0000gn%2FT%2Ftmpamdgjsd1\")</script>\n"
      ],
      "text/plain": [
       "<IPython.core.display.HTML object>"
      ]
     },
     "metadata": {},
     "output_type": "display_data"
    }
   ],
   "source": [
    "%%snakeviz\n",
    "shots = 10000\n",
    "logical_error_rate(decoder=\"mwpf\", code=f\"rsc(d=15,p=0.00001)\", max_shots=shots, max_errors=shots, no_progress=True, no_print=True)"
   ]
  },
  {
   "cell_type": "code",
   "execution_count": 4,
   "id": "28534371-7892-4d0c-8e8d-3464b13d2011",
   "metadata": {},
   "outputs": [
    {
     "name": "stdout",
     "output_type": "stream",
     "text": [
      " \n",
      "*** Profile stats marshalled to file '/var/folders/vt/khhqppkd1472wb_cdm06rqhr0000gn/T/tmpx3j36l92'.\n",
      "Embedding SnakeViz in this document...\n",
      "<function display at 0x10420d1c0>\n"
     ]
    },
    {
     "data": {
      "text/html": [
       "\n",
       "<iframe id='snakeviz-a33e3d52-dacc-11ef-920d-46dbeb0befbb' frameborder=0 seamless width='100%' height='1000'></iframe>\n",
       "<script>document.getElementById(\"snakeviz-a33e3d52-dacc-11ef-920d-46dbeb0befbb\").setAttribute(\"src\", \"http://\" + document.location.hostname + \":8080/snakeviz/%2Fvar%2Ffolders%2Fvt%2Fkhhqppkd1472wb_cdm06rqhr0000gn%2FT%2Ftmpx3j36l92\")</script>\n"
      ],
      "text/plain": [
       "<IPython.core.display.HTML object>"
      ]
     },
     "metadata": {},
     "output_type": "display_data"
    }
   ],
   "source": [
    "%%snakeviz\n",
    "shots = 10000\n",
    "logical_error_rate(decoder=\"bposd(max_iter=5)\", code=f\"rsc(d=11,p=0.0001)\", max_shots=shots, max_errors=shots, no_progress=True, no_print=True)"
   ]
  },
  {
   "cell_type": "code",
   "execution_count": 5,
   "id": "8b2ff436-10cd-4c03-8f26-f76181f85671",
   "metadata": {
    "scrolled": true
   },
   "outputs": [
    {
     "name": "stdout",
     "output_type": "stream",
     "text": [
      " \n",
      "*** Profile stats marshalled to file '/var/folders/vt/khhqppkd1472wb_cdm06rqhr0000gn/T/tmpddnsrm8r'.\n",
      "Embedding SnakeViz in this document...\n",
      "<function display at 0x10420d1c0>\n"
     ]
    },
    {
     "data": {
      "text/html": [
       "\n",
       "<iframe id='snakeviz-ddd0ae3c-dacc-11ef-920d-46dbeb0befbb' frameborder=0 seamless width='100%' height='1000'></iframe>\n",
       "<script>document.getElementById(\"snakeviz-ddd0ae3c-dacc-11ef-920d-46dbeb0befbb\").setAttribute(\"src\", \"http://\" + document.location.hostname + \":8080/snakeviz/%2Fvar%2Ffolders%2Fvt%2Fkhhqppkd1472wb_cdm06rqhr0000gn%2FT%2Ftmpddnsrm8r\")</script>\n"
      ],
      "text/plain": [
       "<IPython.core.display.HTML object>"
      ]
     },
     "metadata": {},
     "output_type": "display_data"
    }
   ],
   "source": [
    "%%snakeviz\n",
    "shots = 10000\n",
    "logical_error_rate(decoder=\"bposd(max_iter=5)\", code=f\"rsc(d=15,p=0.0001)\", max_shots=shots, max_errors=shots, no_progress=True, no_print=True)"
   ]
  },
  {
   "cell_type": "code",
   "execution_count": 7,
   "id": "39143101-8d6f-4fdf-976e-d147f7853955",
   "metadata": {
    "scrolled": true
   },
   "outputs": [
    {
     "name": "stdout",
     "output_type": "stream",
     "text": [
      " \n",
      "*** Profile stats marshalled to file '/var/folders/vt/khhqppkd1472wb_cdm06rqhr0000gn/T/tmpg0joaoxc'.\n",
      "Embedding SnakeViz in this document...\n",
      "<function display at 0x10420d1c0>\n"
     ]
    },
    {
     "data": {
      "text/html": [
       "\n",
       "<iframe id='snakeviz-1b927c28-dacd-11ef-920d-46dbeb0befbb' frameborder=0 seamless width='100%' height='1000'></iframe>\n",
       "<script>document.getElementById(\"snakeviz-1b927c28-dacd-11ef-920d-46dbeb0befbb\").setAttribute(\"src\", \"http://\" + document.location.hostname + \":8080/snakeviz/%2Fvar%2Ffolders%2Fvt%2Fkhhqppkd1472wb_cdm06rqhr0000gn%2FT%2Ftmpg0joaoxc\")</script>\n"
      ],
      "text/plain": [
       "<IPython.core.display.HTML object>"
      ]
     },
     "metadata": {},
     "output_type": "display_data"
    }
   ],
   "source": [
    "%%snakeviz\n",
    "shots = 1000\n",
    "logical_error_rate(decoder=\"mwpf\", code=f\"rsc(d=31,p=0.0001)\", max_shots=shots, max_errors=shots, no_progress=True, no_print=True)"
   ]
  },
  {
   "cell_type": "code",
   "execution_count": 8,
   "id": "2a4406c2-6442-461c-a8ae-f6e40622349b",
   "metadata": {
    "scrolled": true
   },
   "outputs": [
    {
     "name": "stdout",
     "output_type": "stream",
     "text": [
      " \n",
      "*** Profile stats marshalled to file '/var/folders/vt/khhqppkd1472wb_cdm06rqhr0000gn/T/tmpsxa4p459'.\n",
      "Embedding SnakeViz in this document...\n",
      "<function display at 0x10420d1c0>\n"
     ]
    },
    {
     "data": {
      "text/html": [
       "\n",
       "<iframe id='snakeviz-6ee6ba8c-dace-11ef-920d-46dbeb0befbb' frameborder=0 seamless width='100%' height='1000'></iframe>\n",
       "<script>document.getElementById(\"snakeviz-6ee6ba8c-dace-11ef-920d-46dbeb0befbb\").setAttribute(\"src\", \"http://\" + document.location.hostname + \":8080/snakeviz/%2Fvar%2Ffolders%2Fvt%2Fkhhqppkd1472wb_cdm06rqhr0000gn%2FT%2Ftmpsxa4p459\")</script>\n"
      ],
      "text/plain": [
       "<IPython.core.display.HTML object>"
      ]
     },
     "metadata": {},
     "output_type": "display_data"
    }
   ],
   "source": [
    "%%snakeviz\n",
    "shots = 1000\n",
    "logical_error_rate(decoder=\"bposd(max_iter=5)\", code=f\"rsc(d=31,p=0.0001)\", max_shots=shots, max_errors=shots, no_progress=True, no_print=True)"
   ]
  },
  {
   "cell_type": "code",
   "execution_count": 11,
   "id": "118e993b-b3fe-48b0-a6a1-ffba13c9eae2",
   "metadata": {
    "scrolled": true
   },
   "outputs": [
    {
     "name": "stdout",
     "output_type": "stream",
     "text": [
      " \n",
      "*** Profile stats marshalled to file '/var/folders/vt/khhqppkd1472wb_cdm06rqhr0000gn/T/tmpco53hdd0'.\n",
      "Embedding SnakeViz in this document...\n",
      "<function display at 0x10420d1c0>\n"
     ]
    },
    {
     "data": {
      "text/html": [
       "\n",
       "<iframe id='snakeviz-ff0ff44e-dad2-11ef-920d-46dbeb0befbb' frameborder=0 seamless width='100%' height='1000'></iframe>\n",
       "<script>document.getElementById(\"snakeviz-ff0ff44e-dad2-11ef-920d-46dbeb0befbb\").setAttribute(\"src\", \"http://\" + document.location.hostname + \":8080/snakeviz/%2Fvar%2Ffolders%2Fvt%2Fkhhqppkd1472wb_cdm06rqhr0000gn%2FT%2Ftmpco53hdd0\")</script>\n"
      ],
      "text/plain": [
       "<IPython.core.display.HTML object>"
      ]
     },
     "metadata": {},
     "output_type": "display_data"
    }
   ],
   "source": [
    "%%snakeviz\n",
    "shots = 1000\n",
    "logical_error_rate(decoder=\"bplsd(max_iter=5)\", code=f\"rsc(d=15,p=0.0001)\", max_shots=shots, max_errors=shots, no_progress=True, no_print=True)"
   ]
  },
  {
   "cell_type": "code",
   "execution_count": 12,
   "id": "83fa6b9b-b426-4d9a-92fc-9470b94c2a1c",
   "metadata": {
    "scrolled": true
   },
   "outputs": [
    {
     "name": "stdout",
     "output_type": "stream",
     "text": [
      " \n",
      "*** Profile stats marshalled to file '/var/folders/vt/khhqppkd1472wb_cdm06rqhr0000gn/T/tmpczo9ndn1'.\n",
      "Embedding SnakeViz in this document...\n",
      "<function display at 0x10420d1c0>\n"
     ]
    },
    {
     "data": {
      "text/html": [
       "\n",
       "<iframe id='snakeviz-5d546e0e-dad3-11ef-920d-46dbeb0befbb' frameborder=0 seamless width='100%' height='1000'></iframe>\n",
       "<script>document.getElementById(\"snakeviz-5d546e0e-dad3-11ef-920d-46dbeb0befbb\").setAttribute(\"src\", \"http://\" + document.location.hostname + \":8080/snakeviz/%2Fvar%2Ffolders%2Fvt%2Fkhhqppkd1472wb_cdm06rqhr0000gn%2FT%2Ftmpczo9ndn1\")</script>\n"
      ],
      "text/plain": [
       "<IPython.core.display.HTML object>"
      ]
     },
     "metadata": {},
     "output_type": "display_data"
    }
   ],
   "source": [
    "%%snakeviz\n",
    "shots = 1000\n",
    "logical_error_rate(decoder=\"bplsd(max_iter=5)\", code=f\"rsc(d=31,p=0.0001)\", max_shots=shots, max_errors=shots, no_progress=True, no_print=True)"
   ]
  },
  {
   "cell_type": "code",
   "execution_count": 16,
   "id": "59ea2ae7-dad3-425f-b9ff-21e6c8782015",
   "metadata": {},
   "outputs": [
    {
     "name": "stdout",
     "output_type": "stream",
     "text": [
      " \n",
      "*** Profile stats marshalled to file '/var/folders/vt/khhqppkd1472wb_cdm06rqhr0000gn/T/tmp00pdx8s2'.\n",
      "Embedding SnakeViz in this document...\n",
      "<function display at 0x10420d1c0>\n"
     ]
    },
    {
     "data": {
      "text/html": [
       "\n",
       "<iframe id='snakeviz-81b8f738-db37-11ef-920d-46dbeb0befbb' frameborder=0 seamless width='100%' height='1000'></iframe>\n",
       "<script>document.getElementById(\"snakeviz-81b8f738-db37-11ef-920d-46dbeb0befbb\").setAttribute(\"src\", \"http://\" + document.location.hostname + \":8080/snakeviz/%2Fvar%2Ffolders%2Fvt%2Fkhhqppkd1472wb_cdm06rqhr0000gn%2FT%2Ftmp00pdx8s2\")</script>\n"
      ],
      "text/plain": [
       "<IPython.core.display.HTML object>"
      ]
     },
     "metadata": {},
     "output_type": "display_data"
    }
   ],
   "source": [
    "%%snakeviz\n",
    "shots = 1\n",
    "logical_error_rate(decoder=\"mwpf\", code=f\"rsc(d=31,p=1e-15)\", max_shots=shots, max_errors=shots, no_progress=True, no_print=True)"
   ]
  },
  {
   "cell_type": "code",
   "execution_count": null,
   "id": "ed0af4e1-f3fb-4b4c-93f5-ffdeee30ef3b",
   "metadata": {},
   "outputs": [],
   "source": []
  }
 ],
 "metadata": {
  "kernelspec": {
   "display_name": "Python 3 (ipykernel)",
   "language": "python",
   "name": "python3"
  },
  "language_info": {
   "codemirror_mode": {
    "name": "ipython",
    "version": 3
   },
   "file_extension": ".py",
   "mimetype": "text/x-python",
   "name": "python",
   "nbconvert_exporter": "python",
   "pygments_lexer": "ipython3",
   "version": "3.11.6"
  }
 },
 "nbformat": 4,
 "nbformat_minor": 5
}
