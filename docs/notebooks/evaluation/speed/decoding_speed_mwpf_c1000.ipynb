{
 "cells": [
  {
   "cell_type": "markdown",
   "id": "a3082d18-56df-4834-8963-586a5500bced",
   "metadata": {
    "editable": true,
    "papermill": {
     "duration": 0.004283,
     "end_time": "2025-02-01T16:32:54.223797",
     "exception": false,
     "start_time": "2025-02-01T16:32:54.219514",
     "status": "completed"
    },
    "slideshow": {
     "slide_type": ""
    },
    "tags": []
   },
   "source": [
    "# Decoding Speed"
   ]
  },
  {
   "cell_type": "code",
   "execution_count": 1,
   "id": "afceb91f-5b83-487f-96f9-5015002f5daf",
   "metadata": {
    "editable": true,
    "execution": {
     "iopub.execute_input": "2025-02-01T16:32:54.230875Z",
     "iopub.status.busy": "2025-02-01T16:32:54.230534Z",
     "iopub.status.idle": "2025-02-01T16:32:54.237240Z",
     "shell.execute_reply": "2025-02-01T16:32:54.236996Z"
    },
    "papermill": {
     "duration": 0.011191,
     "end_time": "2025-02-01T16:32:54.238196",
     "exception": false,
     "start_time": "2025-02-01T16:32:54.227005",
     "status": "completed"
    },
    "slideshow": {
     "slide_type": ""
    },
    "tags": [
     "parameters"
    ]
   },
   "outputs": [],
   "source": [
    "# This cell is tagged `parameters` and will be override by `papermill`\n",
    "decoder: str = \"mwpm\"\n",
    "json_filename: str = \"speed-rsc-mwpm.json\"  # where to save the result, must be provided\n",
    "\n",
    "rounds: int = 200\n",
    "kwargs = dict(\n",
    "    min_time = 60,\n",
    "    min_shots = 50,\n",
    "    min_init_time = 0.1,\n",
    "    min_init_shots = 1,\n",
    ")\n",
    "max_per_round_time: float = 0.1  # if each round takes more than 100ms to decode, then do not run the next `d`, since it is not meaningful anymore"
   ]
  },
  {
   "cell_type": "code",
   "execution_count": 2,
   "id": "f1e9eda4",
   "metadata": {
    "execution": {
     "iopub.execute_input": "2025-02-01T16:32:54.241142Z",
     "iopub.status.busy": "2025-02-01T16:32:54.241021Z",
     "iopub.status.idle": "2025-02-01T16:32:54.242763Z",
     "shell.execute_reply": "2025-02-01T16:32:54.242512Z"
    },
    "papermill": {
     "duration": 0.004117,
     "end_time": "2025-02-01T16:32:54.243580",
     "exception": false,
     "start_time": "2025-02-01T16:32:54.239463",
     "status": "completed"
    },
    "tags": [
     "injected-parameters"
    ]
   },
   "outputs": [],
   "source": [
    "# Parameters\n",
    "decoder = \"mwpf(c=1000)\"\n",
    "json_filename = \"speed-rsc-mwpf-c1000.json\"\n"
   ]
  },
  {
   "cell_type": "code",
   "execution_count": 3,
   "id": "5e4bf8f4-0e7c-453e-aacd-18c9061a999c",
   "metadata": {
    "editable": true,
    "execution": {
     "iopub.execute_input": "2025-02-01T16:32:54.246625Z",
     "iopub.status.busy": "2025-02-01T16:32:54.246478Z",
     "iopub.status.idle": "2025-02-01T16:32:54.256715Z",
     "shell.execute_reply": "2025-02-01T16:32:54.256388Z"
    },
    "papermill": {
     "duration": 0.013071,
     "end_time": "2025-02-01T16:32:54.257836",
     "exception": false,
     "start_time": "2025-02-01T16:32:54.244765",
     "status": "completed"
    },
    "slideshow": {
     "slide_type": ""
    },
    "tags": []
   },
   "outputs": [],
   "source": [
    "%load_ext autoreload\n",
    "%autoreload 2"
   ]
  },
  {
   "cell_type": "code",
   "execution_count": 4,
   "id": "552dcc10-a319-487b-a20b-09221382176b",
   "metadata": {
    "editable": true,
    "execution": {
     "iopub.execute_input": "2025-02-01T16:32:54.260741Z",
     "iopub.status.busy": "2025-02-01T16:32:54.260623Z",
     "iopub.status.idle": "2025-02-01T16:32:54.268037Z",
     "shell.execute_reply": "2025-02-01T16:32:54.267703Z"
    },
    "papermill": {
     "duration": 0.010079,
     "end_time": "2025-02-01T16:32:54.269156",
     "exception": false,
     "start_time": "2025-02-01T16:32:54.259077",
     "status": "completed"
    },
    "slideshow": {
     "slide_type": ""
    },
    "tags": []
   },
   "outputs": [],
   "source": [
    "# import psutil\n",
    "# psutil.Process().nice(0)# if on *ux\n",
    "# psutil.Process().nice(psutil.IDLE_PRIORITY_CLASS)# if on win"
   ]
  },
  {
   "cell_type": "code",
   "execution_count": 5,
   "id": "f4ce38b6-65b8-4ec5-b097-aab9f6943e10",
   "metadata": {
    "editable": true,
    "execution": {
     "iopub.execute_input": "2025-02-01T16:32:54.272373Z",
     "iopub.status.busy": "2025-02-01T16:32:54.272229Z",
     "iopub.status.idle": "2025-02-01T16:32:55.428012Z",
     "shell.execute_reply": "2025-02-01T16:32:55.427645Z"
    },
    "papermill": {
     "duration": 1.158623,
     "end_time": "2025-02-01T16:32:55.429076",
     "exception": false,
     "start_time": "2025-02-01T16:32:54.270453",
     "status": "completed"
    },
    "slideshow": {
     "slide_type": ""
    },
    "tags": []
   },
   "outputs": [],
   "source": [
    "from qec_lego_bench.cli.decoding_speed import decoding_speed, DecodingSpeedResult\n",
    "from qec_lego_bench.hpc.job_store import Job, JobStore\n",
    "from qec_lego_bench.hpc.plotter.logical_error_rate_plotter import *"
   ]
  },
  {
   "cell_type": "code",
   "execution_count": 6,
   "id": "2eb79028-afab-46a7-a36e-f567fd486716",
   "metadata": {
    "editable": true,
    "execution": {
     "iopub.execute_input": "2025-02-01T16:32:55.432549Z",
     "iopub.status.busy": "2025-02-01T16:32:55.432307Z",
     "iopub.status.idle": "2025-02-01T16:32:55.447077Z",
     "shell.execute_reply": "2025-02-01T16:32:55.446675Z"
    },
    "papermill": {
     "duration": 0.017595,
     "end_time": "2025-02-01T16:32:55.448120",
     "exception": false,
     "start_time": "2025-02-01T16:32:55.430525",
     "status": "completed"
    },
    "slideshow": {
     "slide_type": ""
    },
    "tags": []
   },
   "outputs": [
    {
     "name": "stdout",
     "output_type": "stream",
     "text": [
      "d_vec: [3, 5, 7, 9, 11, 13, 15, 17, 19, 23, 27, 31, 37, 43, 51]\n"
     ]
    }
   ],
   "source": [
    "def generate_d_vec(ratio: float = 1.18, max_d: int = 51) -> list[int]:\n",
    "    d = 3\n",
    "    d_vec = [d]\n",
    "    while d <= max_d:\n",
    "        int_d = 2 * round(d / 2) + 1\n",
    "        if int_d != d_vec[-1]:\n",
    "            d_vec.append(int_d)\n",
    "        d *= ratio\n",
    "    return d_vec\n",
    "d_vec = generate_d_vec()\n",
    "print(\"d_vec:\", d_vec)\n",
    "p_vec = [0.00001, 0.0001, 0.001, 0.003, 0.01]\n",
    "\n",
    "def evaluation_function(d: int, p: float, rounds: int, verbose: bool = True) -> DecodingSpeedResult:\n",
    "    if verbose:\n",
    "        print(f\"d: {d}, p: {p}\")\n",
    "    return decoding_speed(decoder=decoder, code=f\"rsc(d={d},p={p})\", **kwargs, no_print=not verbose)\n",
    "\n",
    "jobs = [Job(d=d, p=p, rounds=rounds) for p in p_vec for d in d_vec[:1]]  # only add the smallest d and dynamically add others\n",
    "# evaluation_function(min(d_vec), min(p_vec), rounds)"
   ]
  },
  {
   "cell_type": "markdown",
   "id": "ebd460d0-efa9-4075-9a1d-a62791230623",
   "metadata": {
    "editable": true,
    "papermill": {
     "duration": 0.001093,
     "end_time": "2025-02-01T16:32:55.450532",
     "exception": false,
     "start_time": "2025-02-01T16:32:55.449439",
     "status": "completed"
    },
    "slideshow": {
     "slide_type": ""
    },
    "tags": []
   },
   "source": [
    "Define the plot functionality"
   ]
  },
  {
   "cell_type": "code",
   "execution_count": 7,
   "id": "aea5f255-0cca-4a5b-a43d-f5d4b460d502",
   "metadata": {
    "editable": true,
    "execution": {
     "iopub.execute_input": "2025-02-01T16:32:55.454359Z",
     "iopub.status.busy": "2025-02-01T16:32:55.454224Z",
     "iopub.status.idle": "2025-02-01T16:32:55.476495Z",
     "shell.execute_reply": "2025-02-01T16:32:55.476222Z"
    },
    "papermill": {
     "duration": 0.025783,
     "end_time": "2025-02-01T16:32:55.477493",
     "exception": false,
     "start_time": "2025-02-01T16:32:55.451710",
     "status": "completed"
    },
    "slideshow": {
     "slide_type": ""
    },
    "tags": []
   },
   "outputs": [
    {
     "data": {
      "image/png": "[encoded data removed]",
      "text/plain": [
       "<Figure size 640x480 with 1 Axes>"
      ]
     },
     "metadata": {},
     "output_type": "display_data"
    }
   ],
   "source": [
    "from decoding_time_plotter import DecodingTimePlotter\n",
    "\n",
    "plotter = DecodingTimePlotter(p_vec=p_vec, d_vec=d_vec, rounds=rounds, max_per_round_time=max_per_round_time)"
   ]
  },
  {
   "cell_type": "code",
   "execution_count": 8,
   "id": "1cfa5901-2d84-4321-90e2-220ac77b9da1",
   "metadata": {
    "editable": true,
    "execution": {
     "iopub.execute_input": "2025-02-01T16:32:55.480786Z",
     "iopub.status.busy": "2025-02-01T16:32:55.480670Z"
    },
    "papermill": {
     "duration": 3651.178229,
     "end_time": "2025-02-01T17:33:46.657080",
     "exception": false,
     "start_time": "2025-02-01T16:32:55.478851",
     "status": "completed"
    },
    "slideshow": {
     "slide_type": ""
    },
    "tags": []
   },
   "outputs": [
    {
     "name": "stdout",
     "output_type": "stream",
     "text": [
      "d: 3, p: 1e-05\n",
      "\r",
      "\u001b[KEvaluating initialization of 1 shots, elapsed: 0.003301s, average: 3.301e-03s per shot\r"
     ]
    },
    {
     "name": "stdout",
     "output_type": "stream",
     "text": [
      "\r",
      "\u001b[KEvaluating initialization of 2 shots, elapsed: 0.004499s, average: 2.249e-03s per shot\r"
     ]
    },
    {
     "name": "stdout",
     "output_type": "stream",
     "text": [
      "\r",
      "\u001b[KEvaluating initialization of 4 shots, elapsed: 0.008852s, average: 2.213e-03s per shot\r"
     ]
    },
    {
     "name": "stdout",
     "output_type": "stream",
     "text": [
      "\r",
      "\u001b[KEvaluating initialization of 8 shots, elapsed: 0.016470s, average: 2.059e-03s per shot\r"
     ]
    },
    {
     "name": "stdout",
     "output_type": "stream",
     "text": [
      "\r",
      "\u001b[KEvaluating initialization of 16 shots, elapsed: 0.034600s, average: 2.162e-03s per shot\r"
     ]
    },
    {
     "name": "stdout",
     "output_type": "stream",
     "text": [
      "\r",
      "\u001b[KEvaluating initialization of 32 shots, elapsed: 0.067577s, average: 2.112e-03s per shot\r"
     ]
    },
    {
     "name": "stdout",
     "output_type": "stream",
     "text": [
      "\r",
      "\u001b[KEvaluating initialization of 64 shots, elapsed: 0.133466s, average: 2.085e-03s per shot\r"
     ]
    },
    {
     "name": "stdout",
     "output_type": "stream",
     "text": [
      "\n",
      "initialization time: 2.085e-03s\n",
      "\r",
      "\u001b[KEvaluating decoding of 50 shots, elapsed: 0.001198s, average: 2.396e-05s per shot\r"
     ]
    },
    {
     "name": "stdout",
     "output_type": "stream",
     "text": [
      "\r",
      "\u001b[KEvaluating decoding of 100 shots, elapsed: 0.001777s, average: 1.777e-05s per shot\r"
     ]
    },
    {
     "name": "stdout",
     "output_type": "stream",
     "text": [
      "\r",
      "\u001b[KEvaluating decoding of 200 shots, elapsed: 0.003844s, average: 1.922e-05s per shot\r"
     ]
    },
    {
     "name": "stdout",
     "output_type": "stream",
     "text": [
      "\r",
      "\u001b[KEvaluating decoding of 400 shots, elapsed: 0.007325s, average: 1.831e-05s per shot\r"
     ]
    },
    {
     "name": "stdout",
     "output_type": "stream",
     "text": [
      "\r",
      "\u001b[KEvaluating decoding of 800 shots, elapsed: 0.014498s, average: 1.812e-05s per shot\r"
     ]
    },
    {
     "name": "stdout",
     "output_type": "stream",
     "text": [
      "\r",
      "\u001b[KEvaluating decoding of 1600 shots, elapsed: 0.028759s, average: 1.797e-05s per shot\r"
     ]
    },
    {
     "name": "stdout",
     "output_type": "stream",
     "text": [
      "\r",
      "\u001b[KEvaluating decoding of 3200 shots, elapsed: 0.057962s, average: 1.811e-05s per shot\r"
     ]
    },
    {
     "name": "stdout",
     "output_type": "stream",
     "text": [
      "\r",
      "\u001b[KEvaluating decoding of 6400 shots, elapsed: 0.116689s, average: 1.823e-05s per shot\r"
     ]
    },
    {
     "name": "stdout",
     "output_type": "stream",
     "text": [
      "\r",
      "\u001b[KEvaluating decoding of 12800 shots, elapsed: 0.227847s, average: 1.780e-05s per shot\r"
     ]
    },
    {
     "name": "stdout",
     "output_type": "stream",
     "text": [
      "\r",
      "\u001b[KEvaluating decoding of 25600 shots, elapsed: 0.455655s, average: 1.780e-05s per shot\r"
     ]
    },
    {
     "name": "stdout",
     "output_type": "stream",
     "text": [
      "\r",
      "\u001b[KEvaluating decoding of 51200 shots, elapsed: 0.916526s, average: 1.790e-05s per shot\r"
     ]
    },
    {
     "name": "stdout",
     "output_type": "stream",
     "text": [
      "\r",
      "\u001b[KEvaluating decoding of 102400 shots, elapsed: 1.837557s, average: 1.794e-05s per shot\r"
     ]
    },
    {
     "name": "stdout",
     "output_type": "stream",
     "text": [
      "\r",
      "\u001b[KEvaluating decoding of 3677926 shots, elapsed: 67.376447s, average: 1.832e-05s per shot\r"
     ]
    },
    {
     "name": "stdout",
     "output_type": "stream",
     "text": [
      "\n",
      "decoding time: 1.832e-05s\n"
     ]
    },
    {
     "name": "stdout",
     "output_type": "stream",
     "text": [
      "d: 3, p: 0.0001\n",
      "\r",
      "\u001b[KEvaluating initialization of 1 shots, elapsed: 0.002423s, average: 2.423e-03s per shot\r"
     ]
    },
    {
     "name": "stdout",
     "output_type": "stream",
     "text": [
      "\r",
      "\u001b[KEvaluating initialization of 2 shots, elapsed: 0.004452s, average: 2.226e-03s per shot\r"
     ]
    },
    {
     "name": "stdout",
     "output_type": "stream",
     "text": [
      "\r",
      "\u001b[KEvaluating initialization of 4 shots, elapsed: 0.008882s, average: 2.220e-03s per shot\r"
     ]
    },
    {
     "name": "stdout",
     "output_type": "stream",
     "text": [
      "\r",
      "\u001b[KEvaluating initialization of 8 shots, elapsed: 0.018731s, average: 2.341e-03s per shot\r"
     ]
    },
    {
     "name": "stdout",
     "output_type": "stream",
     "text": [
      "\r",
      "\u001b[KEvaluating initialization of 16 shots, elapsed: 0.035342s, average: 2.209e-03s per shot\r"
     ]
    },
    {
     "name": "stdout",
     "output_type": "stream",
     "text": [
      "\r",
      "\u001b[KEvaluating initialization of 32 shots, elapsed: 0.068154s, average: 2.130e-03s per shot\r"
     ]
    },
    {
     "name": "stdout",
     "output_type": "stream",
     "text": [
      "\r",
      "\u001b[KEvaluating initialization of 64 shots, elapsed: 0.134230s, average: 2.097e-03s per shot\r"
     ]
    },
    {
     "name": "stdout",
     "output_type": "stream",
     "text": [
      "\n",
      "initialization time: 2.097e-03s\n",
      "\r",
      "\u001b[KEvaluating decoding of 50 shots, elapsed: 0.001589s, average: 3.178e-05s per shot\r"
     ]
    },
    {
     "name": "stdout",
     "output_type": "stream",
     "text": [
      "\r",
      "\u001b[KEvaluating decoding of 100 shots, elapsed: 0.002142s, average: 2.142e-05s per shot\r"
     ]
    },
    {
     "name": "stdout",
     "output_type": "stream",
     "text": [
      "\r",
      "\u001b[KEvaluating decoding of 200 shots, elapsed: 0.006738s, average: 3.369e-05s per shot\r"
     ]
    },
    {
     "name": "stdout",
     "output_type": "stream",
     "text": [
      "\r",
      "\u001b[KEvaluating decoding of 400 shots, elapsed: 0.008584s, average: 2.146e-05s per shot\r"
     ]
    },
    {
     "name": "stdout",
     "output_type": "stream",
     "text": [
      "\r",
      "\u001b[KEvaluating decoding of 800 shots, elapsed: 0.017988s, average: 2.249e-05s per shot\r"
     ]
    },
    {
     "name": "stdout",
     "output_type": "stream",
     "text": [
      "\r",
      "\u001b[KEvaluating decoding of 1600 shots, elapsed: 0.036575s, average: 2.286e-05s per shot\r"
     ]
    },
    {
     "name": "stdout",
     "output_type": "stream",
     "text": [
      "\r",
      "\u001b[KEvaluating decoding of 3200 shots, elapsed: 0.060906s, average: 1.903e-05s per shot\r"
     ]
    },
    {
     "name": "stdout",
     "output_type": "stream",
     "text": [
      "\r",
      "\u001b[KEvaluating decoding of 6400 shots, elapsed: 0.122425s, average: 1.913e-05s per shot\r"
     ]
    },
    {
     "name": "stdout",
     "output_type": "stream",
     "text": [
      "\r",
      "\u001b[KEvaluating decoding of 12800 shots, elapsed: 0.238707s, average: 1.865e-05s per shot\r"
     ]
    },
    {
     "name": "stdout",
     "output_type": "stream",
     "text": [
      "\r",
      "\u001b[KEvaluating decoding of 25600 shots, elapsed: 0.507086s, average: 1.981e-05s per shot\r"
     ]
    },
    {
     "name": "stdout",
     "output_type": "stream",
     "text": [
      "\r",
      "\u001b[KEvaluating decoding of 51200 shots, elapsed: 1.057195s, average: 2.065e-05s per shot\r"
     ]
    },
    {
     "name": "stdout",
     "output_type": "stream",
     "text": [
      "\r",
      "\u001b[KEvaluating decoding of 3196382 shots, elapsed: 60.855347s, average: 1.904e-05s per shot\r"
     ]
    },
    {
     "name": "stdout",
     "output_type": "stream",
     "text": [
      "\n",
      "decoding time: 1.904e-05s\n"
     ]
    },
    {
     "name": "stdout",
     "output_type": "stream",
     "text": [
      "d: 3, p: 0.001\n",
      "\r",
      "\u001b[KEvaluating initialization of 1 shots, elapsed: 0.002697s, average: 2.697e-03s per shot\r"
     ]
    },
    {
     "name": "stdout",
     "output_type": "stream",
     "text": [
      "\r",
      "\u001b[KEvaluating initialization of 2 shots, elapsed: 0.004516s, average: 2.258e-03s per shot\r"
     ]
    },
    {
     "name": "stdout",
     "output_type": "stream",
     "text": [
      "\r",
      "\u001b[KEvaluating initialization of 4 shots, elapsed: 0.008304s, average: 2.076e-03s per shot\r"
     ]
    },
    {
     "name": "stdout",
     "output_type": "stream",
     "text": [
      "\r",
      "\u001b[KEvaluating initialization of 8 shots, elapsed: 0.016839s, average: 2.105e-03s per shot\r"
     ]
    },
    {
     "name": "stdout",
     "output_type": "stream",
     "text": [
      "\r",
      "\u001b[KEvaluating initialization of 16 shots, elapsed: 0.035589s, average: 2.224e-03s per shot\r"
     ]
    },
    {
     "name": "stdout",
     "output_type": "stream",
     "text": [
      "\r",
      "\u001b[KEvaluating initialization of 32 shots, elapsed: 0.067603s, average: 2.113e-03s per shot\r"
     ]
    },
    {
     "name": "stdout",
     "output_type": "stream",
     "text": [
      "\r",
      "\u001b[KEvaluating initialization of 64 shots, elapsed: 0.171974s, average: 2.687e-03s per shot\r"
     ]
    },
    {
     "name": "stdout",
     "output_type": "stream",
     "text": [
      "\n",
      "initialization time: 2.687e-03s\n",
      "\r",
      "\u001b[KEvaluating decoding of 50 shots, elapsed: 0.000632s, average: 1.264e-05s per shot\r"
     ]
    },
    {
     "name": "stdout",
     "output_type": "stream",
     "text": [
      "\r",
      "\u001b[KEvaluating decoding of 100 shots, elapsed: 0.002817s, average: 2.817e-05s per shot\r"
     ]
    },
    {
     "name": "stdout",
     "output_type": "stream",
     "text": [
      "\r",
      "\u001b[KEvaluating decoding of 200 shots, elapsed: 0.005066s, average: 2.533e-05s per shot\r"
     ]
    },
    {
     "name": "stdout",
     "output_type": "stream",
     "text": [
      "\r",
      "\u001b[KEvaluating decoding of 400 shots, elapsed: 0.012259s, average: 3.065e-05s per shot\r"
     ]
    },
    {
     "name": "stdout",
     "output_type": "stream",
     "text": [
      "\r",
      "\u001b[KEvaluating decoding of 800 shots, elapsed: 0.021052s, average: 2.631e-05s per shot\r"
     ]
    },
    {
     "name": "stdout",
     "output_type": "stream",
     "text": [
      "\r",
      "\u001b[KEvaluating decoding of 1600 shots, elapsed: 0.050500s, average: 3.156e-05s per shot\r"
     ]
    },
    {
     "name": "stdout",
     "output_type": "stream",
     "text": [
      "\r",
      "\u001b[KEvaluating decoding of 3200 shots, elapsed: 0.080814s, average: 2.525e-05s per shot\r"
     ]
    },
    {
     "name": "stdout",
     "output_type": "stream",
     "text": [
      "\r",
      "\u001b[KEvaluating decoding of 6400 shots, elapsed: 0.293770s, average: 4.590e-05s per shot\r"
     ]
    },
    {
     "name": "stdout",
     "output_type": "stream",
     "text": [
      "\r",
      "\u001b[KEvaluating decoding of 12800 shots, elapsed: 0.513317s, average: 4.010e-05s per shot\r"
     ]
    },
    {
     "name": "stdout",
     "output_type": "stream",
     "text": [
      "\r",
      "\u001b[KEvaluating decoding of 25600 shots, elapsed: 0.983342s, average: 3.841e-05s per shot\r"
     ]
    },
    {
     "name": "stdout",
     "output_type": "stream",
     "text": [
      "\r",
      "\u001b[KEvaluating decoding of 51200 shots, elapsed: 1.694942s, average: 3.310e-05s per shot\r"
     ]
    },
    {
     "name": "stdout",
     "output_type": "stream",
     "text": [
      "\r",
      "\u001b[KEvaluating decoding of 1993696 shots, elapsed: 73.304025s, average: 3.677e-05s per shot\r"
     ]
    },
    {
     "name": "stdout",
     "output_type": "stream",
     "text": [
      "\n",
      "decoding time: 3.677e-05s\n"
     ]
    },
    {
     "name": "stdout",
     "output_type": "stream",
     "text": [
      "d: 3, p: 0.003\n",
      "\r",
      "\u001b[KEvaluating initialization of 1 shots, elapsed: 0.002771s, average: 2.771e-03s per shot\r"
     ]
    },
    {
     "name": "stdout",
     "output_type": "stream",
     "text": [
      "\r",
      "\u001b[KEvaluating initialization of 2 shots, elapsed: 0.004811s, average: 2.405e-03s per shot\r"
     ]
    },
    {
     "name": "stdout",
     "output_type": "stream",
     "text": [
      "\r",
      "\u001b[KEvaluating initialization of 4 shots, elapsed: 0.008703s, average: 2.176e-03s per shot\r"
     ]
    },
    {
     "name": "stdout",
     "output_type": "stream",
     "text": [
      "\r",
      "\u001b[KEvaluating initialization of 8 shots, elapsed: 0.017180s, average: 2.147e-03s per shot\r"
     ]
    },
    {
     "name": "stdout",
     "output_type": "stream",
     "text": [
      "\r",
      "\u001b[KEvaluating initialization of 16 shots, elapsed: 0.034626s, average: 2.164e-03s per shot\r"
     ]
    },
    {
     "name": "stdout",
     "output_type": "stream",
     "text": [
      "\r",
      "\u001b[KEvaluating initialization of 32 shots, elapsed: 0.067779s, average: 2.118e-03s per shot\r"
     ]
    },
    {
     "name": "stdout",
     "output_type": "stream",
     "text": [
      "\r",
      "\u001b[KEvaluating initialization of 64 shots, elapsed: 0.135051s, average: 2.110e-03s per shot\r"
     ]
    },
    {
     "name": "stdout",
     "output_type": "stream",
     "text": [
      "\n",
      "initialization time: 2.110e-03s\n",
      "\r",
      "\u001b[KEvaluating decoding of 50 shots, elapsed: 0.007293s, average: 1.459e-04s per shot\r"
     ]
    },
    {
     "name": "stdout",
     "output_type": "stream",
     "text": [
      "\r",
      "\u001b[KEvaluating decoding of 100 shots, elapsed: 0.005535s, average: 5.535e-05s per shot\r"
     ]
    },
    {
     "name": "stdout",
     "output_type": "stream",
     "text": [
      "\r",
      "\u001b[KEvaluating decoding of 200 shots, elapsed: 0.014924s, average: 7.462e-05s per shot\r"
     ]
    },
    {
     "name": "stdout",
     "output_type": "stream",
     "text": [
      "\r",
      "\u001b[KEvaluating decoding of 400 shots, elapsed: 0.050841s, average: 1.271e-04s per shot\r"
     ]
    },
    {
     "name": "stdout",
     "output_type": "stream",
     "text": [
      "\r",
      "\u001b[KEvaluating decoding of 800 shots, elapsed: 0.044500s, average: 5.563e-05s per shot\r"
     ]
    },
    {
     "name": "stdout",
     "output_type": "stream",
     "text": [
      "\r",
      "\u001b[KEvaluating decoding of 1600 shots, elapsed: 0.224264s, average: 1.402e-04s per shot\r"
     ]
    },
    {
     "name": "stdout",
     "output_type": "stream",
     "text": [
      "\r",
      "\u001b[KEvaluating decoding of 3200 shots, elapsed: 0.431702s, average: 1.349e-04s per shot\r"
     ]
    },
    {
     "name": "stdout",
     "output_type": "stream",
     "text": [
      "\r",
      "\u001b[KEvaluating decoding of 6400 shots, elapsed: 0.598093s, average: 9.345e-05s per shot\r"
     ]
    },
    {
     "name": "stdout",
     "output_type": "stream",
     "text": [
      "\r",
      "\u001b[KEvaluating decoding of 12800 shots, elapsed: 1.535543s, average: 1.200e-04s per shot\r"
     ]
    },
    {
     "name": "stdout",
     "output_type": "stream",
     "text": [
      "\r",
      "\u001b[KEvaluating decoding of 550163 shots, elapsed: 66.953696s, average: 1.217e-04s per shot\r"
     ]
    },
    {
     "name": "stdout",
     "output_type": "stream",
     "text": [
      "\n",
      "decoding time: 1.217e-04s\n"
     ]
    },
    {
     "name": "stdout",
     "output_type": "stream",
     "text": [
      "d: 3, p: 0.01\n",
      "\r",
      "\u001b[KEvaluating initialization of 1 shots, elapsed: 0.002837s, average: 2.837e-03s per shot\r"
     ]
    },
    {
     "name": "stdout",
     "output_type": "stream",
     "text": [
      "\r",
      "\u001b[KEvaluating initialization of 2 shots, elapsed: 0.005873s, average: 2.936e-03s per shot\r"
     ]
    },
    {
     "name": "stdout",
     "output_type": "stream",
     "text": [
      "\r",
      "\u001b[KEvaluating initialization of 4 shots, elapsed: 0.009090s, average: 2.273e-03s per shot\r"
     ]
    },
    {
     "name": "stdout",
     "output_type": "stream",
     "text": [
      "\r",
      "\u001b[KEvaluating initialization of 8 shots, elapsed: 0.017876s, average: 2.235e-03s per shot\r"
     ]
    },
    {
     "name": "stdout",
     "output_type": "stream",
     "text": [
      "\r",
      "\u001b[KEvaluating initialization of 16 shots, elapsed: 0.039453s, average: 2.466e-03s per shot\r"
     ]
    },
    {
     "name": "stdout",
     "output_type": "stream",
     "text": [
      "\r",
      "\u001b[KEvaluating initialization of 32 shots, elapsed: 0.073549s, average: 2.298e-03s per shot\r"
     ]
    },
    {
     "name": "stdout",
     "output_type": "stream",
     "text": [
      "\r",
      "\u001b[KEvaluating initialization of 64 shots, elapsed: 0.224047s, average: 3.501e-03s per shot\r"
     ]
    },
    {
     "name": "stdout",
     "output_type": "stream",
     "text": [
      "\n",
      "initialization time: 3.501e-03s\n",
      "\r",
      "\u001b[KEvaluating decoding of 50 shots, elapsed: 0.005900s, average: 1.180e-04s per shot\r"
     ]
    },
    {
     "name": "stdout",
     "output_type": "stream",
     "text": [
      "\r",
      "\u001b[KEvaluating decoding of 100 shots, elapsed: 0.166415s, average: 1.664e-03s per shot\r"
     ]
    },
    {
     "name": "stdout",
     "output_type": "stream",
     "text": [
      "\r",
      "\u001b[KEvaluating decoding of 200 shots, elapsed: 0.099036s, average: 4.952e-04s per shot\r"
     ]
    },
    {
     "name": "stdout",
     "output_type": "stream",
     "text": [
      "\r",
      "\u001b[KEvaluating decoding of 400 shots, elapsed: 0.325752s, average: 8.144e-04s per shot\r"
     ]
    },
    {
     "name": "stdout",
     "output_type": "stream",
     "text": [
      "\r",
      "\u001b[KEvaluating decoding of 800 shots, elapsed: 0.393953s, average: 4.924e-04s per shot\r"
     ]
    },
    {
     "name": "stdout",
     "output_type": "stream",
     "text": [
      "\r",
      "\u001b[KEvaluating decoding of 1600 shots, elapsed: 1.486553s, average: 9.291e-04s per shot\r"
     ]
    },
    {
     "name": "stdout",
     "output_type": "stream",
     "text": [
      "\r",
      "\u001b[KEvaluating decoding of 71036 shots, elapsed: 62.124816s, average: 8.746e-04s per shot\r"
     ]
    },
    {
     "name": "stdout",
     "output_type": "stream",
     "text": [
      "\n",
      "decoding time: 8.746e-04s\n"
     ]
    },
    {
     "name": "stdout",
     "output_type": "stream",
     "text": [
      "d: 5, p: 1e-05\n",
      "\r",
      "\u001b[KEvaluating initialization of 1 shots, elapsed: 0.014559s, average: 1.456e-02s per shot\r"
     ]
    },
    {
     "name": "stdout",
     "output_type": "stream",
     "text": [
      "\r",
      "\u001b[KEvaluating initialization of 2 shots, elapsed: 0.026551s, average: 1.328e-02s per shot\r"
     ]
    },
    {
     "name": "stdout",
     "output_type": "stream",
     "text": [
      "\r",
      "\u001b[KEvaluating initialization of 4 shots, elapsed: 0.054721s, average: 1.368e-02s per shot\r"
     ]
    },
    {
     "name": "stdout",
     "output_type": "stream",
     "text": [
      "\r",
      "\u001b[KEvaluating initialization of 8 shots, elapsed: 0.109163s, average: 1.365e-02s per shot\r"
     ]
    },
    {
     "name": "stdout",
     "output_type": "stream",
     "text": [
      "\n",
      "initialization time: 1.365e-02s\n"
     ]
    },
    {
     "name": "stdout",
     "output_type": "stream",
     "text": [
      "\r",
      "\u001b[KEvaluating decoding of 50 shots, elapsed: 0.003605s, average: 7.210e-05s per shot\r"
     ]
    },
    {
     "name": "stdout",
     "output_type": "stream",
     "text": [
      "\r",
      "\u001b[KEvaluating decoding of 100 shots, elapsed: 0.005197s, average: 5.197e-05s per shot\r"
     ]
    },
    {
     "name": "stdout",
     "output_type": "stream",
     "text": [
      "\r",
      "\u001b[KEvaluating decoding of 200 shots, elapsed: 0.010157s, average: 5.079e-05s per shot\r"
     ]
    },
    {
     "name": "stdout",
     "output_type": "stream",
     "text": [
      "\r",
      "\u001b[KEvaluating decoding of 400 shots, elapsed: 0.063496s, average: 1.587e-04s per shot\r"
     ]
    },
    {
     "name": "stdout",
     "output_type": "stream",
     "text": [
      "\r",
      "\u001b[KEvaluating decoding of 800 shots, elapsed: 0.036446s, average: 4.556e-05s per shot\r"
     ]
    },
    {
     "name": "stdout",
     "output_type": "stream",
     "text": [
      "\r",
      "\u001b[KEvaluating decoding of 1600 shots, elapsed: 0.078712s, average: 4.919e-05s per shot\r"
     ]
    },
    {
     "name": "stdout",
     "output_type": "stream",
     "text": [
      "\r",
      "\u001b[KEvaluating decoding of 3200 shots, elapsed: 0.148831s, average: 4.651e-05s per shot\r"
     ]
    },
    {
     "name": "stdout",
     "output_type": "stream",
     "text": [
      "\r",
      "\u001b[KEvaluating decoding of 6400 shots, elapsed: 0.299050s, average: 4.673e-05s per shot\r"
     ]
    },
    {
     "name": "stdout",
     "output_type": "stream",
     "text": [
      "\r",
      "\u001b[KEvaluating decoding of 12800 shots, elapsed: 0.591694s, average: 4.623e-05s per shot\r"
     ]
    },
    {
     "name": "stdout",
     "output_type": "stream",
     "text": [
      "\r",
      "\u001b[KEvaluating decoding of 25600 shots, elapsed: 1.188570s, average: 4.643e-05s per shot\r"
     ]
    },
    {
     "name": "stdout",
     "output_type": "stream",
     "text": [
      "\r",
      "\u001b[KEvaluating decoding of 1421540 shots, elapsed: 66.835168s, average: 4.702e-05s per shot\r"
     ]
    },
    {
     "name": "stdout",
     "output_type": "stream",
     "text": [
      "\n",
      "decoding time: 4.702e-05s\n"
     ]
    },
    {
     "name": "stdout",
     "output_type": "stream",
     "text": [
      "d: 5, p: 0.0001\n",
      "\r",
      "\u001b[KEvaluating initialization of 1 shots, elapsed: 0.014491s, average: 1.449e-02s per shot\r"
     ]
    },
    {
     "name": "stdout",
     "output_type": "stream",
     "text": [
      "\r",
      "\u001b[KEvaluating initialization of 2 shots, elapsed: 0.026019s, average: 1.301e-02s per shot\r"
     ]
    },
    {
     "name": "stdout",
     "output_type": "stream",
     "text": [
      "\r",
      "\u001b[KEvaluating initialization of 4 shots, elapsed: 0.052257s, average: 1.306e-02s per shot\r"
     ]
    },
    {
     "name": "stdout",
     "output_type": "stream",
     "text": [
      "\r",
      "\u001b[KEvaluating initialization of 8 shots, elapsed: 0.154602s, average: 1.933e-02s per shot\r"
     ]
    },
    {
     "name": "stdout",
     "output_type": "stream",
     "text": [
      "\n",
      "initialization time: 1.933e-02s\n",
      "\r",
      "\u001b[KEvaluating decoding of 50 shots, elapsed: -0.003602s, average: -7.204e-05s per shot\r"
     ]
    },
    {
     "name": "stdout",
     "output_type": "stream",
     "text": [
      "\r",
      "\u001b[KEvaluating decoding of 100 shots, elapsed: -0.001094s, average: -1.094e-05s per shot\r"
     ]
    },
    {
     "name": "stdout",
     "output_type": "stream",
     "text": [
      "\r",
      "\u001b[KEvaluating decoding of 200 shots, elapsed: 0.004859s, average: 2.430e-05s per shot\r"
     ]
    },
    {
     "name": "stdout",
     "output_type": "stream",
     "text": [
      "\r",
      "\u001b[KEvaluating decoding of 400 shots, elapsed: 0.013999s, average: 3.500e-05s per shot\r"
     ]
    },
    {
     "name": "stdout",
     "output_type": "stream",
     "text": [
      "\r",
      "\u001b[KEvaluating decoding of 800 shots, elapsed: 0.035571s, average: 4.446e-05s per shot\r"
     ]
    },
    {
     "name": "stdout",
     "output_type": "stream",
     "text": [
      "\r",
      "\u001b[KEvaluating decoding of 1600 shots, elapsed: 0.080841s, average: 5.053e-05s per shot\r"
     ]
    },
    {
     "name": "stdout",
     "output_type": "stream",
     "text": [
      "\r",
      "\u001b[KEvaluating decoding of 3200 shots, elapsed: 0.178292s, average: 5.572e-05s per shot\r"
     ]
    },
    {
     "name": "stdout",
     "output_type": "stream",
     "text": [
      "\r",
      "\u001b[KEvaluating decoding of 6400 shots, elapsed: 0.357185s, average: 5.581e-05s per shot\r"
     ]
    },
    {
     "name": "stdout",
     "output_type": "stream",
     "text": [
      "\r",
      "\u001b[KEvaluating decoding of 12800 shots, elapsed: 0.787991s, average: 6.156e-05s per shot\r"
     ]
    },
    {
     "name": "stdout",
     "output_type": "stream",
     "text": [
      "\r",
      "\u001b[KEvaluating decoding of 25600 shots, elapsed: 1.372082s, average: 5.360e-05s per shot\r"
     ]
    },
    {
     "name": "stdout",
     "output_type": "stream",
     "text": [
      "\r",
      "\u001b[KEvaluating decoding of 1231413 shots, elapsed: 71.823886s, average: 5.833e-05s per shot\r"
     ]
    },
    {
     "name": "stdout",
     "output_type": "stream",
     "text": [
      "\n",
      "decoding time: 5.833e-05s\n"
     ]
    },
    {
     "name": "stdout",
     "output_type": "stream",
     "text": [
      "d: 5, p: 0.001\n",
      "\r",
      "\u001b[KEvaluating initialization of 1 shots, elapsed: 0.013596s, average: 1.360e-02s per shot\r"
     ]
    },
    {
     "name": "stdout",
     "output_type": "stream",
     "text": [
      "\r",
      "\u001b[KEvaluating initialization of 2 shots, elapsed: 0.027242s, average: 1.362e-02s per shot\r"
     ]
    },
    {
     "name": "stdout",
     "output_type": "stream",
     "text": [
      "\r",
      "\u001b[KEvaluating initialization of 4 shots, elapsed: 0.053765s, average: 1.344e-02s per shot\r"
     ]
    },
    {
     "name": "stdout",
     "output_type": "stream",
     "text": [
      "\r",
      "\u001b[KEvaluating initialization of 8 shots, elapsed: 0.164735s, average: 2.059e-02s per shot\r"
     ]
    },
    {
     "name": "stdout",
     "output_type": "stream",
     "text": [
      "\n",
      "initialization time: 2.059e-02s\n"
     ]
    },
    {
     "name": "stdout",
     "output_type": "stream",
     "text": [
      "\r",
      "\u001b[KEvaluating decoding of 50 shots, elapsed: 0.004170s, average: 8.340e-05s per shot\r"
     ]
    },
    {
     "name": "stdout",
     "output_type": "stream",
     "text": [
      "\r",
      "\u001b[KEvaluating decoding of 100 shots, elapsed: 0.046251s, average: 4.625e-04s per shot\r"
     ]
    },
    {
     "name": "stdout",
     "output_type": "stream",
     "text": [
      "\r",
      "\u001b[KEvaluating decoding of 200 shots, elapsed: 0.016097s, average: 8.048e-05s per shot\r"
     ]
    },
    {
     "name": "stdout",
     "output_type": "stream",
     "text": [
      "\r",
      "\u001b[KEvaluating decoding of 400 shots, elapsed: 0.141602s, average: 3.540e-04s per shot\r"
     ]
    },
    {
     "name": "stdout",
     "output_type": "stream",
     "text": [
      "\r",
      "\u001b[KEvaluating decoding of 800 shots, elapsed: 128.873790s, average: 1.611e-01s per shot\r"
     ]
    },
    {
     "name": "stdout",
     "output_type": "stream",
     "text": [
      "\n",
      "decoding time: 1.611e-01s\n"
     ]
    },
    {
     "name": "stdout",
     "output_type": "stream",
     "text": [
      "d: 5, p: 0.003\n",
      "\r",
      "\u001b[KEvaluating initialization of 1 shots, elapsed: 0.014893s, average: 1.489e-02s per shot\r"
     ]
    },
    {
     "name": "stdout",
     "output_type": "stream",
     "text": [
      "\r",
      "\u001b[KEvaluating initialization of 2 shots, elapsed: 0.041145s, average: 2.057e-02s per shot\r"
     ]
    },
    {
     "name": "stdout",
     "output_type": "stream",
     "text": [
      "\r",
      "\u001b[KEvaluating initialization of 4 shots, elapsed: 0.054652s, average: 1.366e-02s per shot\r"
     ]
    },
    {
     "name": "stdout",
     "output_type": "stream",
     "text": [
      "\r",
      "\u001b[KEvaluating initialization of 8 shots, elapsed: 1.025797s, average: 1.282e-01s per shot\r"
     ]
    },
    {
     "name": "stdout",
     "output_type": "stream",
     "text": [
      "\n",
      "initialization time: 1.282e-01s\n"
     ]
    },
    {
     "name": "stdout",
     "output_type": "stream",
     "text": [
      "\r",
      "\u001b[KEvaluating decoding of 50 shots, elapsed: 0.341761s, average: 6.835e-03s per shot\r"
     ]
    },
    {
     "name": "stdout",
     "output_type": "stream",
     "text": [
      "\r",
      "\u001b[KEvaluating decoding of 100 shots, elapsed: 1.025512s, average: 1.026e-02s per shot\r"
     ]
    },
    {
     "name": "stdout",
     "output_type": "stream",
     "text": [
      "\r",
      "\u001b[KEvaluating decoding of 6435 shots, elapsed: 852.743554s, average: 1.325e-01s per shot\r"
     ]
    },
    {
     "name": "stdout",
     "output_type": "stream",
     "text": [
      "\n",
      "decoding time: 1.325e-01s\n"
     ]
    },
    {
     "name": "stdout",
     "output_type": "stream",
     "text": [
      "d: 5, p: 0.01\n",
      "\r",
      "\u001b[KEvaluating initialization of 1 shots, elapsed: 0.015096s, average: 1.510e-02s per shot\r"
     ]
    },
    {
     "name": "stdout",
     "output_type": "stream",
     "text": [
      "\r",
      "\u001b[KEvaluating initialization of 2 shots, elapsed: 0.036294s, average: 1.815e-02s per shot\r"
     ]
    },
    {
     "name": "stdout",
     "output_type": "stream",
     "text": [
      "\r",
      "\u001b[KEvaluating initialization of 4 shots, elapsed: 0.147873s, average: 3.697e-02s per shot\r"
     ]
    },
    {
     "name": "stdout",
     "output_type": "stream",
     "text": [
      "\n",
      "initialization time: 3.697e-02s\n"
     ]
    },
    {
     "name": "stdout",
     "output_type": "stream",
     "text": [
      "\r",
      "\u001b[KEvaluating decoding of 50 shots, elapsed: 246.632270s, average: 4.933e+00s per shot\r"
     ]
    },
    {
     "name": "stdout",
     "output_type": "stream",
     "text": [
      "\n",
      "decoding time: 4.933e+00s\n"
     ]
    },
    {
     "name": "stdout",
     "output_type": "stream",
     "text": [
      "d: 7, p: 1e-05\n"
     ]
    },
    {
     "name": "stdout",
     "output_type": "stream",
     "text": [
      "\r",
      "\u001b[KEvaluating initialization of 1 shots, elapsed: 0.145479s, average: 1.455e-01s per shot\r"
     ]
    },
    {
     "name": "stdout",
     "output_type": "stream",
     "text": [
      "\n",
      "initialization time: 1.455e-01s\n"
     ]
    },
    {
     "name": "stdout",
     "output_type": "stream",
     "text": [
      "\r",
      "\u001b[KEvaluating decoding of 50 shots, elapsed: -0.092403s, average: -1.848e-03s per shot\r"
     ]
    },
    {
     "name": "stdout",
     "output_type": "stream",
     "text": [
      "\r",
      "\u001b[KEvaluating decoding of 100 shots, elapsed: -0.085065s, average: -8.507e-04s per shot\r"
     ]
    },
    {
     "name": "stdout",
     "output_type": "stream",
     "text": [
      "\r",
      "\u001b[K"
     ]
    },
    {
     "name": "stdout",
     "output_type": "stream",
     "text": [
      "Evaluating decoding of 200 shots, elapsed: -0.074791s, average: -3.740e-04s per shot\r"
     ]
    },
    {
     "name": "stdout",
     "output_type": "stream",
     "text": [
      "\r",
      "\u001b[KEvaluating decoding of 400 shots, elapsed: 0.003085s, average: 7.713e-06s per shot\r"
     ]
    },
    {
     "name": "stdout",
     "output_type": "stream",
     "text": [
      "\r",
      "\u001b[KEvaluating decoding of 800 shots, elapsed: -0.000104s, average: -1.294e-07s per shot\r"
     ]
    },
    {
     "name": "stdout",
     "output_type": "stream",
     "text": [
      "\r",
      "\u001b[KEvaluating decoding of 1600 shots, elapsed: 0.094441s, average: 5.903e-05s per shot\r"
     ]
    },
    {
     "name": "stdout",
     "output_type": "stream",
     "text": [
      "\r",
      "\u001b[KEvaluating decoding of 3200 shots, elapsed: 0.284770s, average: 8.899e-05s per shot\r"
     ]
    },
    {
     "name": "stdout",
     "output_type": "stream",
     "text": [
      "\r",
      "\u001b[KEvaluating decoding of 6400 shots, elapsed: 0.713532s, average: 1.115e-04s per shot\r"
     ]
    },
    {
     "name": "stdout",
     "output_type": "stream",
     "text": [
      "\r",
      "\u001b[KEvaluating decoding of 12800 shots, elapsed: 1.457416s, average: 1.139e-04s per shot\r"
     ]
    },
    {
     "name": "stdout",
     "output_type": "stream",
     "text": [
      "\r",
      "\u001b[KEvaluating decoding of 579656 shots, elapsed: 69.254497s, average: 1.195e-04s per shot\r"
     ]
    },
    {
     "name": "stdout",
     "output_type": "stream",
     "text": [
      "\n",
      "decoding time: 1.195e-04s\n"
     ]
    },
    {
     "name": "stdout",
     "output_type": "stream",
     "text": [
      "d: 7, p: 0.0001\n"
     ]
    },
    {
     "name": "stdout",
     "output_type": "stream",
     "text": [
      "\r",
      "\u001b[KEvaluating initialization of 1 shots, elapsed: 0.046061s, average: 4.606e-02s per shot\r"
     ]
    },
    {
     "name": "stdout",
     "output_type": "stream",
     "text": [
      "\r",
      "\u001b[KEvaluating initialization of 2 shots, elapsed: 0.094793s, average: 4.740e-02s per shot\r"
     ]
    },
    {
     "name": "stdout",
     "output_type": "stream",
     "text": [
      "\r",
      "\u001b[KEvaluating initialization of 4 shots, elapsed: 0.238411s, average: 5.960e-02s per shot\r"
     ]
    },
    {
     "name": "stdout",
     "output_type": "stream",
     "text": [
      "\n",
      "initialization time: 5.960e-02s\n",
      "\r",
      "\u001b[KEvaluating decoding of 50 shots, elapsed: 0.045796s, average: 9.159e-04s per shot\r"
     ]
    },
    {
     "name": "stdout",
     "output_type": "stream",
     "text": [
      "\r",
      "\u001b[KEvaluating decoding of 100 shots, elapsed: 0.003810s, average: 3.810e-05s per shot\r"
     ]
    },
    {
     "name": "stdout",
     "output_type": "stream",
     "text": [
      "\r",
      "\u001b[KEvaluating decoding of 200 shots, elapsed: 0.014189s, average: 7.094e-05s per shot\r"
     ]
    },
    {
     "name": "stdout",
     "output_type": "stream",
     "text": [
      "\r",
      "\u001b[KEvaluating decoding of 400 shots, elapsed: 0.097369s, average: 2.434e-04s per shot\r"
     ]
    },
    {
     "name": "stdout",
     "output_type": "stream",
     "text": [
      "\r",
      "\u001b[KEvaluating decoding of 800 shots, elapsed: 0.093428s, average: 1.168e-04s per shot\r"
     ]
    },
    {
     "name": "stdout",
     "output_type": "stream",
     "text": [
      "\r",
      "\u001b[KEvaluating decoding of 1600 shots, elapsed: 0.213463s, average: 1.334e-04s per shot\r"
     ]
    },
    {
     "name": "stdout",
     "output_type": "stream",
     "text": [
      "\r",
      "\u001b[KEvaluating decoding of 3200 shots, elapsed: 0.434454s, average: 1.358e-04s per shot\r"
     ]
    },
    {
     "name": "stdout",
     "output_type": "stream",
     "text": [
      "\r",
      "\u001b[KEvaluating decoding of 6400 shots, elapsed: 0.930936s, average: 1.455e-04s per shot\r"
     ]
    },
    {
     "name": "stdout",
     "output_type": "stream",
     "text": [
      "\r",
      "\u001b[KEvaluating decoding of 12800 shots, elapsed: 1.811703s, average: 1.415e-04s per shot\r"
     ]
    },
    {
     "name": "stdout",
     "output_type": "stream",
     "text": [
      "\r",
      "\u001b[KEvaluating decoding of 466301 shots, elapsed: 78.170155s, average: 1.676e-04s per shot\r"
     ]
    },
    {
     "name": "stdout",
     "output_type": "stream",
     "text": [
      "\n",
      "decoding time: 1.676e-04s\n"
     ]
    },
    {
     "name": "stdout",
     "output_type": "stream",
     "text": [
      "d: 7, p: 0.001\n"
     ]
    },
    {
     "name": "stdout",
     "output_type": "stream",
     "text": [
      "\r",
      "\u001b[KEvaluating initialization of 1 shots, elapsed: 0.100871s, average: 1.009e-01s per shot\r"
     ]
    },
    {
     "name": "stdout",
     "output_type": "stream",
     "text": [
      "\n",
      "initialization time: 1.009e-01s\n"
     ]
    },
    {
     "name": "stdout",
     "output_type": "stream",
     "text": [
      "\r",
      "\u001b[KEvaluating decoding of 50 shots, elapsed: -0.002058s, average: -4.116e-05s per shot\r"
     ]
    },
    {
     "name": "stdout",
     "output_type": "stream",
     "text": [
      "\r",
      "\u001b[KEvaluating decoding of 100 shots, elapsed: 0.052294s, average: 5.229e-04s per shot\r"
     ]
    },
    {
     "name": "stdout",
     "output_type": "stream",
     "text": [
      "\r",
      "\u001b[KEvaluating decoding of 200 shots, elapsed: 0.159556s, average: 7.978e-04s per shot\r"
     ]
    },
    {
     "name": "stdout",
     "output_type": "stream",
     "text": [
      "\r",
      "\u001b[KEvaluating decoding of 400 shots, elapsed: 0.571066s, average: 1.428e-03s per shot\r"
     ]
    },
    {
     "name": "stdout",
     "output_type": "stream",
     "text": [
      "\r",
      "\u001b[KEvaluating decoding of 800 shots, elapsed: 1.032891s, average: 1.291e-03s per shot\r"
     ]
    },
    {
     "name": "stdout",
     "output_type": "stream",
     "text": [
      "\r",
      "\u001b[KEvaluating decoding of 51118 shots, elapsed: 1329.344346s, average: 2.601e-02s per shot\r"
     ]
    },
    {
     "name": "stdout",
     "output_type": "stream",
     "text": [
      "\n",
      "decoding time: 2.601e-02s\n"
     ]
    },
    {
     "name": "stdout",
     "output_type": "stream",
     "text": [
      "d: 7, p: 0.003\n"
     ]
    },
    {
     "name": "stdout",
     "output_type": "stream",
     "text": [
      "\r",
      "\u001b[KEvaluating initialization of 1 shots, elapsed: 0.206374s, average: 2.064e-01s per shot\r"
     ]
    },
    {
     "name": "stdout",
     "output_type": "stream",
     "text": [
      "\n",
      "initialization time: 2.064e-01s\n"
     ]
    },
    {
     "name": "stdout",
     "output_type": "stream",
     "text": [
      "\r",
      "\u001b[KEvaluating decoding of 50 shots, elapsed: 312.823355s, average: 6.256e+00s per shot\r"
     ]
    },
    {
     "name": "stdout",
     "output_type": "stream",
     "text": [
      "\n",
      "decoding time: 6.256e+00s\n"
     ]
    },
    {
     "name": "stdout",
     "output_type": "stream",
     "text": [
      "d: 7, p: 0.01\n"
     ]
    },
    {
     "name": "stdout",
     "output_type": "stream",
     "text": [
      "\r",
      "\u001b[KEvaluating initialization of 1 shots, elapsed: 0.978369s, average: 9.784e-01s per shot\r"
     ]
    }
   ],
   "source": [
    "job_store = JobStore(evaluation_function, jobs, result_type=DecodingSpeedResult, filename=json_filename)\n",
    "job_store.execute(loop_callback=plotter)"
   ]
  },
  {
   "cell_type": "code",
   "execution_count": null,
   "id": "a2edb553-f1b5-41ba-9643-86978a83b3e8",
   "metadata": {
    "editable": true,
    "papermill": {
     "duration": null,
     "end_time": null,
     "exception": null,
     "start_time": null,
     "status": "completed"
    },
    "slideshow": {
     "slide_type": ""
    },
    "tags": []
   },
   "outputs": [],
   "source": []
  }
 ],
 "metadata": {
  "kernelspec": {
   "display_name": "Python 3 (ipykernel)",
   "language": "python",
   "name": "python3"
  },
  "language_info": {
   "codemirror_mode": {
    "name": "ipython",
    "version": 3
   },
   "file_extension": ".py",
   "mimetype": "text/x-python",
   "name": "python",
   "nbconvert_exporter": "python",
   "pygments_lexer": "ipython3",
   "version": "3.11.6"
  },
  "papermill": {
   "default_parameters": {},
   "duration": 3653.911817,
   "end_time": "2025-02-01T17:33:47.313886",
   "environment_variables": {},
   "exception": null,
   "input_path": "decoding_speed_mwpm.ipynb",
   "output_path": "decoding_speed_mwpf_c1000.ipynb",
   "parameters": {
    "decoder": "mwpf(c=1000)",
    "json_filename": "speed-rsc-mwpf-c1000.json"
   },
   "start_time": "2025-02-01T16:32:53.402069",
   "version": "2.6.0"
  }
 },
 "nbformat": 4,
 "nbformat_minor": 5
}